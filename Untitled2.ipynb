{
 "cells": [
  {
   "cell_type": "code",
   "execution_count": 2,
   "metadata": {},
   "outputs": [],
   "source": [
    "import pickle\n",
    "import sqlalchemy\n",
    "\n",
    "from utils import *\n",
    "from time import time\n",
    "from tqdm import tqdm\n",
    "from sqlalchemy import Table, Column, Integer, String, ForeignKey, Binary"
   ]
  },
  {
   "cell_type": "code",
   "execution_count": 3,
   "metadata": {},
   "outputs": [
    {
     "name": "stderr",
     "output_type": "stream",
     "text": [
      "/home/needshelp/anaconda3/lib/python3.7/site-packages/ipykernel_launcher.py:22: SADeprecationWarning: The MetaData.reflect flag is deprecated and will be removed in a future release.   Please use the MetaData.reflect() method.\n"
     ]
    }
   ],
   "source": [
    "\"\"\"\n",
    "This script is for benchmarking the database with 3 differnet sizes\n",
    "\"\"\"\n",
    "SIZES = [\n",
    "    10,\n",
    "    100,\n",
    "    1000,\n",
    "    10000,\n",
    "    100000,\n",
    "    1000000\n",
    "]\n",
    "\n",
    "JOBS = {}\n",
    "BLOBS = {}\n",
    "\n",
    "def connect(user, password, db, host='localhost', port=5432):\n",
    "    '''Returns a connection and a metadata object'''\n",
    "    url = 'postgresql://{}:{}@{}:{}/{}'\n",
    "    url = url.format(user, password, host, port, db)\n",
    "\n",
    "    con = sqlalchemy.create_engine(url, client_encoding='utf8')\n",
    "    meta = sqlalchemy.MetaData(bind=con, reflect=True)\n",
    "\n",
    "    return con, meta\n",
    "\n",
    "\n",
    "con, meta = connect('ganga', 'ganga', 'jobs')\n",
    "\n",
    "jobs = pickle.load(open(\"rows.pkl\", \"rb\"))\n",
    "blobs = pickle.load(open(\"blobs.pkl\", \"rb\"))"
   ]
  },
  {
   "cell_type": "code",
   "execution_count": 4,
   "metadata": {},
   "outputs": [],
   "source": [
    "for size in SIZES:\n",
    "    JOBS[size] = Table(\n",
    "                 f\"jobs-{size}\", meta,\n",
    "                 Column(\"id\", Integer, primary_key=True),\n",
    "                 Column(\"status\", String),\n",
    "                 Column(\"name\", String),\n",
    "                 Column(\"subjobs\", Integer),\n",
    "                 Column(\"application\", String),\n",
    "                 Column(\"backend\", String),\n",
    "                 Column(\"backend_actualCE\", String),\n",
    "                 Column(\"comment\", String),\n",
    "                 extend_existing=True\n",
    "        )\n",
    "\n",
    "    BLOBS[size] = Table(\n",
    "                f\"blobs-{size}\", meta,\n",
    "                Column(\"jid\", Integer, ForeignKey(\"jobs.id\")),\n",
    "                Column(\"inputsandbox\", Binary),\n",
    "                Column(\"outputsandbox\", Binary),\n",
    "                Column(\"info\", Binary),\n",
    "                Column(\"comment\", Binary),\n",
    "                Column(\"time\", Binary),\n",
    "                Column(\"application\", Binary),\n",
    "                Column(\"backend\", Binary),\n",
    "                Column(\"inputfiles\", Binary),\n",
    "                Column(\"outputfiles\", Binary),\n",
    "                Column(\"non_copyable_outputfiles\", Binary),\n",
    "                Column(\"id\", Binary),\n",
    "                Column(\"status\", Binary),\n",
    "                Column(\"name\", Binary),\n",
    "                Column(\"inputdir\", Binary),\n",
    "                Column(\"outputdir\", Binary),\n",
    "                Column(\"inputdata\", Binary),\n",
    "                Column(\"outputdata\", Binary),\n",
    "                Column(\"splitter\", Binary),\n",
    "                Column(\"subjobs\", Binary),\n",
    "                Column(\"master\", Binary),\n",
    "                Column(\"postprocessors\", Binary),\n",
    "                Column(\"virtualization\", Binary),\n",
    "                Column(\"merger\", Binary),\n",
    "                Column(\"do_auto_resubmit\", Binary),\n",
    "                Column(\"metadata\", Binary),\n",
    "                Column(\"been_queued\", Binary),\n",
    "                Column(\"parallel_submit\", Binary),\n",
    "                extend_existing=True\n",
    "        )\n",
    "\n",
    "meta.create_all(con)"
   ]
  },
  {
   "cell_type": "code",
   "execution_count": 18,
   "metadata": {},
   "outputs": [
    {
     "name": "stderr",
     "output_type": "stream",
     "text": [
      "100%|██████████| 10000/10000 [01:22<00:00, 121.71it/s]\n"
     ]
    }
   ],
   "source": [
    "size = 10000\n",
    "_jobs = jobs[:size]\n",
    "_blobs = blobs[:size]\n",
    "\n",
    "with tqdm(total=size) as progress:\n",
    "    for i, (row, blob) in enumerate(zip(_jobs, _blobs)):\n",
    "        row[0] = i+1\n",
    "        insert_job = JOBS[size].insert().values(row)\n",
    "        insert_blob = BLOBS[size].insert().values(list(blob.values()))\n",
    "        blob['jid'] = i+1\n",
    "\n",
    "        try:\n",
    "            con.execute(insert_job)\n",
    "            con.execute(insert_blob)\n",
    "        except Exception as e:\n",
    "            print(f\"[ERROR] {e}\")\n",
    "        progress.update(1)"
   ]
  },
  {
   "cell_type": "code",
   "execution_count": null,
   "metadata": {},
   "outputs": [],
   "source": []
  },
  {
   "cell_type": "code",
   "execution_count": 5,
   "metadata": {},
   "outputs": [],
   "source": [
    "def search_database(jid, size):\n",
    "    \"\"\"Searches both the databases and returns the time taken for querying each one of them\"\"\"\n",
    "\n",
    "    table_jobs = meta.tables[f'jobs-{size}']\n",
    "    table_blobs = meta.tables[f'blobs-{size}']\n",
    "\n",
    "    st = time()\n",
    "    clause  = table_jobs.select().where(\n",
    "        table_jobs.c.id == jid\n",
    "    )\n",
    "    ct = time() - st\n",
    "\n",
    "    st = time()\n",
    "    clause  = table_blobs.select().where(\n",
    "        table_blobs.c.jid == jid\n",
    "    )\n",
    "    qt = time() - st\n",
    "\n",
    "    return (ct, qt)"
   ]
  },
  {
   "cell_type": "code",
   "execution_count": 6,
   "metadata": {},
   "outputs": [],
   "source": [
    "    jid = 10000\n",
    "    table_jobs = meta.tables[f'jobs-{size}']\n",
    "    table_blobs = meta.tables[f'blobs-{size}']\n",
    "\n",
    "    st = time()\n",
    "    clause  = table_jobs.select().where(\n",
    "        table_jobs.c.id == jid\n",
    "    )\n",
    "    ct = time() - st\n",
    "\n",
    "    st = time()\n",
    "    clause  = table_blobs.select().where(\n",
    "        table_blobs.c.jid == jid\n",
    "    )\n",
    "    qt = time() - st"
   ]
  },
  {
   "cell_type": "code",
   "execution_count": 20,
   "metadata": {},
   "outputs": [
    {
     "name": "stdout",
     "output_type": "stream",
     "text": [
      "10\n",
      "100\n",
      "1000\n",
      "10000\n",
      "100000\n",
      "1000000\n"
     ]
    }
   ],
   "source": [
    "import random\n",
    "\n",
    "iterations = 100\n",
    "SIZES = [\n",
    "    10,\n",
    "    100,\n",
    "    1000,\n",
    "    10000,\n",
    "    100000,\n",
    "    1000000\n",
    "]\n",
    "\n",
    "results = {\n",
    "    10: [[], []],\n",
    "    100: [[], []],\n",
    "    1000: [[], []],\n",
    "    10000: [[], []],\n",
    "    100000: [[], []],\n",
    "    1000000: [[], []],\n",
    "}\n",
    "\n",
    "for size in SIZES:\n",
    "    print(size)\n",
    "    \n",
    "    table_jobs = meta.tables[f'jobs-{size}']\n",
    "    table_blobs = meta.tables[f'blobs-{size}']\n",
    "    \n",
    "    for _ in range(iterations):\n",
    "        jid = random.randint(0, len(jobs))\n",
    "        st = time()\n",
    "        clause  = table_jobs.select().where(\n",
    "            table_jobs.c.id == jid\n",
    "        )\n",
    "        ct = time() - st\n",
    "\n",
    "        st = time()\n",
    "        clause  = table_blobs.select().where(\n",
    "            table_blobs.c.jid == jid\n",
    "        )\n",
    "        qt = time() - st\n",
    "        \n",
    "        results[size][0].append(ct)\n",
    "        results[size][1].append(qt)"
   ]
  },
  {
   "cell_type": "code",
   "execution_count": 21,
   "metadata": {},
   "outputs": [
    {
     "data": {
      "image/png": "[encoded data removed]",
      "text/plain": [
       "<Figure size 432x288 with 1 Axes>"
      ]
     },
     "metadata": {
      "needs_background": "light"
     },
     "output_type": "display_data"
    }
   ],
   "source": [
    "import matplotlib.pyplot as plt\n",
    "\n",
    "plt.scatter(\n",
    "    results[10][0],\n",
    "    [_ for _ in range(len(results[10][0]))]\n",
    "#     results[10][1],\n",
    "#     label=\"10\"\n",
    ")\n",
    "\n",
    "# plt.scatter(\n",
    "#     results[100][0],\n",
    "#     results[100][1]\n",
    "# )\n",
    "\n",
    "# plt.scatter(\n",
    "#     results[1000][0],\n",
    "#     results[1000][1]\n",
    "# )\n",
    "\n",
    "# plt.scatter(\n",
    "#     results[10000][0],\n",
    "#     results[10000][1]\n",
    "# )\n",
    "\n",
    "# plt.scatter(\n",
    "#     results[100000][0],\n",
    "#     results[100000][1]\n",
    "# )\n",
    "\n",
    "\n",
    "plt.show()"
   ]
  },
  {
   "cell_type": "code",
   "execution_count": 22,
   "metadata": {},
   "outputs": [
    {
     "data": {
      "image/png": "[encoded data removed]",
      "text/plain": [
       "<Figure size 432x288 with 1 Axes>"
      ]
     },
     "metadata": {
      "needs_background": "light"
     },
     "output_type": "display_data"
    }
   ],
   "source": [
    "import matplotlib.pyplot as plt\n",
    "\n",
    "plt.scatter(\n",
    "    results[10][0],\n",
    "    [_ for _ in range(len(results[10][0]))]\n",
    ")\n",
    "\n",
    "plt.scatter(\n",
    "    results[100][0],\n",
    "    [_ for _ in range(len(results[100][0]))]\n",
    ")\n",
    "\n",
    "plt.scatter(\n",
    "    results[1000][0],\n",
    "    [_ for _ in range(len(results[1000][0]))]\n",
    ")\n",
    "\n",
    "plt.scatter(\n",
    "    results[10000][0],\n",
    "    [_ for _ in range(len(results[10000][0]))]\n",
    ")\n",
    "\n",
    "plt.scatter(\n",
    "    results[100000][0],\n",
    "    [_ for _ in range(len(results[100000][0]))]\n",
    ")\n",
    "plt.scatter(\n",
    "    results[1000000][0],\n",
    "    [_ for _ in range(len(results[1000000][0]))]\n",
    ")\n",
    "plt.xlim([-0.0001, 0.0025])\n",
    "plt.show()"
   ]
  },
  {
   "cell_type": "code",
   "execution_count": 30,
   "metadata": {},
   "outputs": [
    {
     "data": {
      "image/png": "[encoded data removed]",
      "text/plain": [
       "<Figure size 432x288 with 1 Axes>"
      ]
     },
     "metadata": {
      "needs_background": "light"
     },
     "output_type": "display_data"
    }
   ],
   "source": [
    "##### import matplotlib.pyplot as plt\n",
    "\n",
    "size_10 = plt.scatter(\n",
    "    results[10][1],\n",
    "    [_ for _ in range(len(results[10][1]))],\n",
    ")\n",
    "\n",
    "size_100 = plt.scatter(\n",
    "    results[100][1],\n",
    "    [_ for _ in range(len(results[100][1]))]\n",
    ")\n",
    "\n",
    "size_1000 = plt.scatter(\n",
    "    results[1000][1],\n",
    "    [_ for _ in range(len(results[1000][1]))]\n",
    ")\n",
    "\n",
    "size_10000 = plt.scatter(\n",
    "    results[10000][1],\n",
    "    [_ for _ in range(len(results[10000][1]))]\n",
    ")\n",
    "\n",
    "size_100000 = plt.scatter(\n",
    "    results[100000][1],\n",
    "    [_ for _ in range(len(results[100000][1]))]\n",
    ")\n",
    "\n",
    "size_1000000 = plt.scatter(\n",
    "    results[1000000][1],\n",
    "    [_ for _ in range(len(results[1000000][1]))]\n",
    ")\n",
    "\n",
    "plt.legend((size_10, size_100, size_1000, size_10000, size_100000),\n",
    "           ('size_10', 'size_100', 'size_1000', 'size_100000', 'size_1000000', 'size_10000000'),\n",
    "           scatterpoints=1,\n",
    "           loc='lower right',\n",
    "           ncol=3,\n",
    "           fontsize=8)\n",
    "\n",
    "\n",
    "plt.xlim([-0.000001, 0.00025])\n",
    "plt.show()"
   ]
  },
  {
   "cell_type": "code",
   "execution_count": 32,
   "metadata": {},
   "outputs": [
    {
     "data": {
      "text/plain": [
       "<Figure size 1332x756 with 0 Axes>"
      ]
     },
     "metadata": {},
     "output_type": "display_data"
    }
   ],
   "source": [
    "import matplotlib\n",
    "fig = matplotlib.pyplot.gcf()\n",
    "fig.set_size_inches(18.5, 10.5)\n",
    "fig.savefig('test2png.png', dpi=100)"
   ]
  }
 ],
 "metadata": {
  "kernelspec": {
   "display_name": "Python 3",
   "language": "python",
   "name": "python3"
  },
  "language_info": {
   "codemirror_mode": {
    "name": "ipython",
    "version": 3
   },
   "file_extension": ".py",
   "mimetype": "text/x-python",
   "name": "python",
   "nbconvert_exporter": "python",
   "pygments_lexer": "ipython3",
   "version": "3.7.4"
  }
 },
 "nbformat": 4,
 "nbformat_minor": 4
}
