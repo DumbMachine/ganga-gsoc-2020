{
 "cells": [
  {
   "cell_type": "code",
   "execution_count": 2,
   "metadata": {},
   "outputs": [],
   "source": [
    "import pickle\n",
    "import sqlalchemy\n",
    "\n",
    "from utils import *\n",
    "from time import time\n",
    "from tqdm import tqdm\n",
    "from sqlalchemy import Table, Column, Integer, String, ForeignKey, Binary"
   ]
  },
  {
   "cell_type": "code",
   "execution_count": 3,
   "metadata": {},
   "outputs": [
    {
     "name": "stderr",
     "output_type": "stream",
     "text": [
      "/home/needshelp/anaconda3/lib/python3.7/site-packages/ipykernel_launcher.py:22: SADeprecationWarning: The MetaData.reflect flag is deprecated and will be removed in a future release.   Please use the MetaData.reflect() method.\n"
     ]
    }
   ],
   "source": [
    "\"\"\"\n",
    "This script is for benchmarking the database with 3 differnet sizes\n",
    "\"\"\"\n",
    "SIZES = [\n",
    "    10,\n",
    "    100,\n",
    "    1000,\n",
    "    10000,\n",
    "    100000,\n",
    "    1000000\n",
    "]\n",
    "\n",
    "JOBS = {}\n",
    "BLOBS = {}\n",
    "\n",
    "def connect(user, password, db, host='localhost', port=5432):\n",
    "    '''Returns a connection and a metadata object'''\n",
    "    url = 'postgresql://{}:{}@{}:{}/{}'\n",
    "    url = url.format(user, password, host, port, db)\n",
    "\n",
    "    con = sqlalchemy.create_engine(url, client_encoding='utf8')\n",
    "    meta = sqlalchemy.MetaData(bind=con, reflect=True)\n",
    "\n",
    "    return con, meta\n",
    "\n",
    "\n",
    "con, meta = connect('ganga', 'ganga', 'jobs')\n",
    "\n",
    "jobs = pickle.load(open(\"rows.pkl\", \"rb\"))\n",
    "blobs = pickle.load(open(\"blobs.pkl\", \"rb\"))"
   ]
  },
  {
   "cell_type": "code",
   "execution_count": 4,
   "metadata": {},
   "outputs": [],
   "source": [
    "for size in SIZES:\n",
    "    JOBS[size] = Table(\n",
    "                 f\"jobs-{size}\", meta,\n",
    "                 Column(\"id\", Integer, primary_key=True),\n",
    "                 Column(\"status\", String),\n",
    "                 Column(\"name\", String),\n",
    "                 Column(\"subjobs\", Integer),\n",
    "                 Column(\"application\", String),\n",
    "                 Column(\"backend\", String),\n",
    "                 Column(\"backend_actualCE\", String),\n",
    "                 Column(\"comment\", String),\n",
    "                 extend_existing=True\n",
    "        )\n",
    "\n",
    "    BLOBS[size] = Table(\n",
    "                f\"blobs-{size}\", meta,\n",
    "                Column(\"jid\", Integer, ForeignKey(\"jobs.id\")),\n",
    "                Column(\"inputsandbox\", Binary),\n",
    "                Column(\"outputsandbox\", Binary),\n",
    "                Column(\"info\", Binary),\n",
    "                Column(\"comment\", Binary),\n",
    "                Column(\"time\", Binary),\n",
    "                Column(\"application\", Binary),\n",
    "                Column(\"backend\", Binary),\n",
    "                Column(\"inputfiles\", Binary),\n",
    "                Column(\"outputfiles\", Binary),\n",
    "                Column(\"non_copyable_outputfiles\", Binary),\n",
    "                Column(\"id\", Binary),\n",
    "                Column(\"status\", Binary),\n",
    "                Column(\"name\", Binary),\n",
    "                Column(\"inputdir\", Binary),\n",
    "                Column(\"outputdir\", Binary),\n",
    "                Column(\"inputdata\", Binary),\n",
    "                Column(\"outputdata\", Binary),\n",
    "                Column(\"splitter\", Binary),\n",
    "                Column(\"subjobs\", Binary),\n",
    "                Column(\"master\", Binary),\n",
    "                Column(\"postprocessors\", Binary),\n",
    "                Column(\"virtualization\", Binary),\n",
    "                Column(\"merger\", Binary),\n",
    "                Column(\"do_auto_resubmit\", Binary),\n",
    "                Column(\"metadata\", Binary),\n",
    "                Column(\"been_queued\", Binary),\n",
    "                Column(\"parallel_submit\", Binary),\n",
    "                extend_existing=True\n",
    "        )\n",
    "\n",
    "meta.create_all(con)"
   ]
  },
  {
   "cell_type": "code",
   "execution_count": null,
   "metadata": {},
   "outputs": [
    {
     "name": "stderr",
     "output_type": "stream",
     "text": [
      "  9%|▉         | 9073/100000 [01:26<2:25:34, 10.41it/s]"
     ]
    }
   ],
   "source": [
    "size = 100000\n",
    "_jobs = jobs[:size]\n",
    "_blobs = blobs[:size]\n",
    "\n",
    "with tqdm(total=size) as progress:\n",
    "    for i, (row, blob) in enumerate(zip(_jobs, _blobs)):\n",
    "        row[0] = i+1\n",
    "        insert_job = JOBS[size].insert().values(row)\n",
    "        insert_blob = BLOBS[size].insert().values(list(blob.values()))\n",
    "        blob['jid'] = i+1\n",
    "\n",
    "        try:\n",
    "            con.execute(insert_job)\n",
    "            con.execute(insert_blob)\n",
    "        except Exception as e:\n",
    "            print(f\"[ERROR] {e}\")\n",
    "        progress.update(1)"
   ]
  }
 ],
 "metadata": {
  "kernelspec": {
   "display_name": "Python 3",
   "language": "python",
   "name": "python3"
  },
  "language_info": {
   "codemirror_mode": {
    "name": "ipython",
    "version": 3
   },
   "file_extension": ".py",
   "mimetype": "text/x-python",
   "name": "python",
   "nbconvert_exporter": "python",
   "pygments_lexer": "ipython3",
   "version": "3.7.4"
  }
 },
 "nbformat": 4,
 "nbformat_minor": 4
}
