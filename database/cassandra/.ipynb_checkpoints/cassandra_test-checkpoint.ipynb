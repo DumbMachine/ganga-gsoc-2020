{
 "cells": [
  {
   "cell_type": "code",
   "execution_count": 1,
   "metadata": {},
   "outputs": [],
   "source": [
    "from cassandra import ConsistencyLevel\n",
    "from cassandra.cluster import Cluster\n",
    "from cassandra.query import SimpleStatement\n",
    "\n",
    "from joblib import Parallel, delayed                                                                                                                                \n",
    "\n",
    "from tqdm import tqdm"
   ]
  },
  {
   "cell_type": "code",
   "execution_count": 2,
   "metadata": {},
   "outputs": [],
   "source": [
    "index=False"
   ]
  },
  {
   "cell_type": "code",
   "execution_count": 4,
   "metadata": {},
   "outputs": [],
   "source": [
    "\"\"\"\n",
    "sudo docker run --name cassandra -p 127.0.0.1:9042:9042 -e CASSANDRA_CLUSTER_NAME=GangaTest -e CASSANDRA_ENDPOINT_SNITCH=GossipingPropertyFileSnitch -e CASSANDRA_DC=datacenter1 -d cassandra\n",
    "\"\"\"\n",
    "def cassandra_connection():\n",
    "    \"\"\"\n",
    "    Connection object for Cassandra\n",
    "    :return: session, cluster\n",
    "    \"\"\"\n",
    "    cluster = Cluster(['127.0.0.1'], port=9042)\n",
    "    session = cluster.connect()\n",
    "    session.execute(\"\"\"\n",
    "        CREATE KEYSPACE IF NOT EXISTS fakehealthcareorg\n",
    "        WITH REPLICATION =\n",
    "        { 'class' : 'SimpleStrategy', 'replication_factor' : 1 }\n",
    "        \"\"\")\n",
    "    session.set_keyspace('fakehealthcareorg')\n",
    "    return session, cluster\n"
   ]
  },
  {
   "cell_type": "code",
   "execution_count": 5,
   "metadata": {},
   "outputs": [],
   "source": [
    "session, cluster = cassandra_connection()"
   ]
  },
  {
   "cell_type": "markdown",
   "metadata": {},
   "source": [
    "# Creating the keyspace"
   ]
  },
  {
   "cell_type": "code",
   "execution_count": 6,
   "metadata": {},
   "outputs": [
    {
     "data": {
      "text/plain": [
       "<cassandra.cluster.ResultSet at 0x7f98062d1510>"
      ]
     },
     "execution_count": 6,
     "metadata": {},
     "output_type": "execute_result"
    }
   ],
   "source": [
    "session.execute(\"\"\"create keyspace dev\n",
    "... with replication = {'class':'SimpleStrategy','replication_factor':1};\"\"\")"
   ]
  },
  {
   "cell_type": "code",
   "execution_count": 33,
   "metadata": {},
   "outputs": [
    {
     "data": {
      "text/plain": [
       "<cassandra.cluster.ResultSet at 0x7f980730ded0>"
      ]
     },
     "execution_count": 33,
     "metadata": {},
     "output_type": "execute_result"
    }
   ],
   "source": [
    "session.execute(\"\"\"use dev;\"\"\")\n",
    "session.execute(\"\"\"DROP TABLE IF EXISTS JOB\"\"\")"
   ]
  },
  {
   "cell_type": "code",
   "execution_count": 9,
   "metadata": {},
   "outputs": [],
   "source": [
    "try:\n",
    "    session.execute(\"\"\"CREATE TABLE IF NOT EXISTS JOB(\n",
    "        id INT PRIMARY KEY, status varchar, name varchar, subjobs INT, application varchar,\n",
    "        backend varchar, backend_actualCE varchar, comment varchar\n",
    "    )\"\"\")\n",
    "except Exception as e:\n",
    "    print(e)"
   ]
  },
  {
   "cell_type": "code",
   "execution_count": 10,
   "metadata": {},
   "outputs": [
    {
     "data": {
      "text/plain": [
       "<cassandra.cluster.ResultSet at 0x7f98062c62d0>"
      ]
     },
     "execution_count": 10,
     "metadata": {},
     "output_type": "execute_result"
    }
   ],
   "source": [
    "session.execute(\"\"\"drop table dev.JOB;\"\"\")\n",
    "session.execute(\"\"\"CREATE TABLE IF NOT EXISTS JOB(\n",
    "        id INT PRIMARY KEY, status varchar, name varchar, subjobs INT, application varchar,\n",
    "        backend varchar, backend_actualCE varchar, comment varchar\n",
    "    )\"\"\")"
   ]
  },
  {
   "cell_type": "markdown",
   "metadata": {},
   "source": [
    "# Inserting the data:\n",
    "1. 10K\n",
    "2. 100K\n",
    "3. 1000K"
   ]
  },
  {
   "cell_type": "code",
   "execution_count": 12,
   "metadata": {},
   "outputs": [],
   "source": [
    "# 1. 10K\n",
    "import pickle\n",
    "jobs = pickle.load(open(\"rows.pkl\", \"rb\"))\n",
    "blobs = pickle.load(open(\"blobs.pkl\", \"rb\"))"
   ]
  },
  {
   "cell_type": "code",
   "execution_count": 13,
   "metadata": {},
   "outputs": [],
   "source": [
    "query = session.prepare(\"\"\"\n",
    "    INSERT INTO JOB(id, status, name, subjobs, application, backend, backend_actualCE, comment)\n",
    "    VALUES          (?,      ?,    ?,       ?,           ?,       ?,                ?,       ?)\n",
    "    \"\"\")\n",
    "\n",
    "if index:\n",
    "    session.execute(\"\"\"CREATE INDEX name_ind ON devices (name) USING CONSISTENCY ALL;\"\"\")\n"
   ]
  },
  {
   "cell_type": "code",
   "execution_count": null,
   "metadata": {},
   "outputs": [],
   "source": []
  },
  {
   "cell_type": "code",
   "execution_count": 15,
   "metadata": {},
   "outputs": [
    {
     "name": "stderr",
     "output_type": "stream",
     "text": [
      "100%|██████████| 100000/100000 [01:09<00:00, 1446.08it/s]"
     ]
    },
    {
     "name": "stdout",
     "output_type": "stream",
     "text": [
      "CPU times: user 35.7 s, sys: 7.14 s, total: 42.9 s\n",
      "Wall time: 1min 9s\n"
     ]
    },
    {
     "name": "stderr",
     "output_type": "stream",
     "text": [
      "\n"
     ]
    }
   ],
   "source": [
    "%%time\n",
    "size = 100000\n",
    "_jobs = jobs[:size]\n",
    "_blobs = blobs[:size]\n",
    "with tqdm(total=size) as progress:\n",
    "    for i, (row, blob) in enumerate(zip(_jobs, _blobs)):\n",
    "        row[0] = i+1\n",
    "        blob['jid'] = i+1\n",
    "        try:\n",
    "            session.execute(query.bind(row))        \n",
    "        except Exception as e:\n",
    "            print(e)\n",
    "        progress.update(1)"
   ]
  },
  {
   "cell_type": "code",
   "execution_count": 32,
   "metadata": {},
   "outputs": [],
   "source": [
    "from joblib import Parallel, delayed\n",
    "rows = [[i]+row[1:] for i, row in enumerate(_jobs)]\n",
    "def insert(data):\n",
    "    flag = session.execute(\n",
    "        query.bind(data)\n",
    "    )\n",
    "    return flag"
   ]
  },
  {
   "cell_type": "code",
   "execution_count": 19,
   "metadata": {},
   "outputs": [
    {
     "ename": "NameError",
     "evalue": "name 'insert' is not defined",
     "output_type": "error",
     "traceback": [
      "\u001b[0;31m------------------------------------------------------\u001b[0m",
      "\u001b[0;31mNameError\u001b[0m            Traceback (most recent call last)",
      "\u001b[0;32m<timed exec>\u001b[0m in \u001b[0;36m<module>\u001b[0;34m\u001b[0m\n",
      "\u001b[0;31mNameError\u001b[0m: name 'insert' is not defined"
     ]
    }
   ],
   "source": [
    "%%time\n",
    "result = Parallel(n_jobs=-1, verbose=0, backend=\"multiprocessing\")(\n",
    "    map(delayed(insert), rows)\n",
    ")"
   ]
  },
  {
   "cell_type": "code",
   "execution_count": 30,
   "metadata": {},
   "outputs": [
    {
     "name": "stdout",
     "output_type": "stream",
     "text": [
      "CPU times: user 9.1 ms, sys: 155 µs, total: 9.26 ms\n",
      "Wall time: 47.7 ms\n"
     ]
    }
   ],
   "source": [
    "%%time\n",
    "future = session.execute_async(\"SELECT * FROM JOB\")\n",
    "rows = future.result()"
   ]
  },
  {
   "cell_type": "code",
   "execution_count": 31,
   "metadata": {},
   "outputs": [
    {
     "name": "stdout",
     "output_type": "stream",
     "text": [
      "CPU times: user 308 ms, sys: 31.1 ms, total: 339 ms\n",
      "Wall time: 1.05 s\n"
     ]
    },
    {
     "data": {
      "text/plain": [
       "100000"
      ]
     },
     "execution_count": 31,
     "metadata": {},
     "output_type": "execute_result"
    }
   ],
   "source": [
    "%%time\n",
    "len(list(rows))"
   ]
  },
  {
   "cell_type": "code",
   "execution_count": 26,
   "metadata": {},
   "outputs": [
    {
     "name": "stdout",
     "output_type": "stream",
     "text": [
      "CPU times: user 14.2 ms, sys: 4.37 ms, total: 18.6 ms\n",
      "Wall time: 60 ms\n"
     ]
    }
   ],
   "source": [
    "%%time\n",
    "rows = session.execute(\"SELECT * FROM JOB\")"
   ]
  },
  {
   "cell_type": "code",
   "execution_count": 27,
   "metadata": {},
   "outputs": [
    {
     "name": "stdout",
     "output_type": "stream",
     "text": [
      "CPU times: user 362 ms, sys: 11.3 ms, total: 373 ms\n",
      "Wall time: 1.01 s\n"
     ]
    },
    {
     "data": {
      "text/plain": [
       "100000"
      ]
     },
     "execution_count": 27,
     "metadata": {},
     "output_type": "execute_result"
    }
   ],
   "source": [
    "%%time\n",
    "len(list(rows))"
   ]
  },
  {
   "cell_type": "code",
   "execution_count": null,
   "metadata": {},
   "outputs": [],
   "source": []
  }
 ],
 "metadata": {
  "kernelspec": {
   "display_name": "Python 3",
   "language": "python",
   "name": "python3"
  },
  "language_info": {
   "codemirror_mode": {
    "name": "ipython",
    "version": 3
   },
   "file_extension": ".py",
   "mimetype": "text/x-python",
   "name": "python",
   "nbconvert_exporter": "python",
   "pygments_lexer": "ipython3",
   "version": "3.7.4"
  }
 },
 "nbformat": 4,
 "nbformat_minor": 4
}
