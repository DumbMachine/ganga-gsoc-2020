{
 "cells": [
  {
   "cell_type": "code",
   "execution_count": 28,
   "metadata": {},
   "outputs": [],
   "source": [
    "import cassandra\n",
    "from cassandra import ConsistencyLevel\n",
    "from cassandra.cluster import Cluster\n",
    "from cassandra.query import SimpleStatement, BatchStatement\n",
    "\n",
    "from joblib import Parallel, delayed                                                                                                                                \n",
    "\n",
    "from tqdm import tqdm\n",
    "\n",
    "import warnings\n",
    "warnings.filterwarnings('ignore')"
   ]
  },
  {
   "cell_type": "code",
   "execution_count": 29,
   "metadata": {},
   "outputs": [],
   "source": [
    "index=False"
   ]
  },
  {
   "cell_type": "code",
   "execution_count": 30,
   "metadata": {},
   "outputs": [],
   "source": [
    "\"\"\"\n",
    "sudo docker run --name cassandra -p 127.0.0.1:9042:9042 -e CASSANDRA_CLUSTER_NAME=GangaTest -e CASSANDRA_ENDPOINT_SNITCH=GossipingPropertyFileSnitch -e CASSANDRA_DC=datacenter1 -d cassandra\n",
    "\"\"\"\n",
    "def cassandra_connection():\n",
    "    \"\"\"\n",
    "    Connection object for Cassandra\n",
    "    :return: session, cluster\n",
    "    \"\"\"\n",
    "    cluster = Cluster(['127.0.0.1'], port=9042)\n",
    "    session = cluster.connect()\n",
    "    session.execute(\"\"\"\n",
    "        CREATE KEYSPACE IF NOT EXISTS fakehealthcareorg\n",
    "        WITH REPLICATION =\n",
    "        { 'class' : 'SimpleStrategy', 'replication_factor' : 1 }\n",
    "        \"\"\")\n",
    "    session.set_keyspace('fakehealthcareorg')\n",
    "    return session, cluster\n"
   ]
  },
  {
   "cell_type": "code",
   "execution_count": 35,
   "metadata": {},
   "outputs": [],
   "source": [
    "session, cluster = cassandra_connection()"
   ]
  },
  {
   "cell_type": "markdown",
   "metadata": {},
   "source": [
    "# Creating the keyspace"
   ]
  },
  {
   "cell_type": "code",
   "execution_count": 37,
   "metadata": {},
   "outputs": [
    {
     "data": {
      "text/plain": [
       "<cassandra.cluster.ResultSet at 0x7fc8fc0a95d0>"
      ]
     },
     "execution_count": 37,
     "metadata": {},
     "output_type": "execute_result"
    }
   ],
   "source": [
    "session.execute(\"\"\"create keyspace IF NOT EXISTS dev\n",
    "... with replication = {'class':'SimpleStrategy','replication_factor':1};\"\"\")"
   ]
  },
  {
   "cell_type": "code",
   "execution_count": 38,
   "metadata": {},
   "outputs": [
    {
     "data": {
      "text/plain": [
       "<cassandra.cluster.ResultSet at 0x7fc8f57f71d0>"
      ]
     },
     "execution_count": 38,
     "metadata": {},
     "output_type": "execute_result"
    }
   ],
   "source": [
    "session.execute(\"\"\"use dev;\"\"\")"
   ]
  },
  {
   "cell_type": "code",
   "execution_count": 42,
   "metadata": {},
   "outputs": [
    {
     "data": {
      "text/plain": [
       "<cassandra.cluster.ResultSet at 0x7fc8f57f4950>"
      ]
     },
     "execution_count": 42,
     "metadata": {},
     "output_type": "execute_result"
    }
   ],
   "source": [
    "session.execute(\"\"\"DROP TABLE IF EXISTS JOB\"\"\")\n",
    "session.execute(\"\"\"DROP TABLE IF EXISTS BLOB\"\"\")"
   ]
  },
  {
   "cell_type": "code",
   "execution_count": 43,
   "metadata": {},
   "outputs": [],
   "source": [
    "jobs = pickle.load(open(\"../../data/rows.pkl\", \"rb\"))[:size]\n",
    "rows = []\n",
    "for itr, job in enumerate(jobs):\n",
    "    row = {}\n",
    "    for header, value in zip(\n",
    "        ['jid', 'status', 'name', 'subjobs', 'application',\n",
    "        'backend', 'backend_actualCE', 'comment'],\n",
    "        job\n",
    "    ):\n",
    "        row[header] = value\n",
    "\n",
    "    row[\"jid\"] = itr\n",
    "    rows.append(row)\n",
    "jobs = rows\n",
    "\n",
    "\n",
    "_blobs = pickle.load(open(\"../../data/blobs.pkl\", \"rb\"))[:size]\n",
    "blobs = []\n",
    "for i, blo in enumerate(_blobs):\n",
    "    # FIXME: Dirty patch, for some reason any change to a single element fof blobs array, goes to all the elements. I decided to create copies after failing to debug this at that time.\n",
    "    blob = copy.deepcopy(blo)\n",
    "    blob[\"jid\"] = i\n",
    "    blobs.append(blob)"
   ]
  },
  {
   "cell_type": "code",
   "execution_count": 44,
   "metadata": {},
   "outputs": [
    {
     "data": {
      "text/plain": [
       "<cassandra.cluster.ResultSet at 0x7fc8fc060e10>"
      ]
     },
     "execution_count": 44,
     "metadata": {},
     "output_type": "execute_result"
    }
   ],
   "source": [
    "session.execute(\"\"\"CREATE TABLE IF NOT EXISTS JOB(\n",
    "    jid INT PRIMARY KEY, status varchar, name varchar, subjobs INT, application varchar,\n",
    "    backend varchar, backend_actualCE varchar, comment varchar\n",
    ")\"\"\")\n",
    "session.execute(\"\"\"\n",
    "    CREATE TABLE IF NOT EXISTS BLOB(\n",
    "        jid INT PRIMARY KEY, inputsandbox BLOB, outputsandbox BLOB, info BLOB,\n",
    "        comment BLOB, time BLOB, application BLOB, backend BLOB,\n",
    "        inputfiles BLOB, outputfiles BLOB, non_copyable_outputfiles BLOB,\n",
    "        id BLOB, status BLOB, name BLOB, inputdir BLOB, outputdir BLOB, inputdata BLOB,\n",
    "        outputdata BLOB, splitter BLOB, subjobs BLOB, master BLOB, postprocessors BLOB,\n",
    "        virtualization BLOB, merger BLOB, do_auto_resubmit BLOB, metadata BLOB, been_queued BLOB,\n",
    "        parallel_submit BLOB\n",
    "    )\n",
    "\"\"\")"
   ]
  },
  {
   "cell_type": "code",
   "execution_count": 45,
   "metadata": {},
   "outputs": [
    {
     "name": "stderr",
     "output_type": "stream",
     "text": [
      "100%|██████████| 10000/10000 [00:09<00:00, 1091.83it/s]\n"
     ]
    }
   ],
   "source": [
    "query = session.prepare(\"\"\"\n",
    "    INSERT INTO JOB(jid, status, name, subjobs, application, backend, backend_actualCE, comment)\n",
    "    VALUES          (?,      ?,    ?,       ?,           ?,       ?,                ?,       ?)\n",
    "\"\"\")\n",
    "\n",
    "if jobs:\n",
    "    with tqdm(total=len(jobs)) as progress:\n",
    "        for i, row in enumerate(jobs):\n",
    "            row[0] = i+1\n",
    "            session.execute(query.bind(row))\n",
    "            progress.update(1)\n"
   ]
  },
  {
   "cell_type": "code",
   "execution_count": 46,
   "metadata": {},
   "outputs": [
    {
     "name": "stdout",
     "output_type": "stream",
     "text": [
      "CPU times: user 12.9 ms, sys: 4.27 ms, total: 17.1 ms\n",
      "Wall time: 232 ms\n"
     ]
    }
   ],
   "source": [
    "%%time\n",
    "future = session.execute_async(\"SELECT * FROM JOB\")\n",
    "rows = future.result()"
   ]
  },
  {
   "cell_type": "code",
   "execution_count": 47,
   "metadata": {},
   "outputs": [
    {
     "name": "stdout",
     "output_type": "stream",
     "text": [
      "CPU times: user 17.2 ms, sys: 6.92 ms, total: 24.2 ms\n",
      "Wall time: 135 ms\n"
     ]
    },
    {
     "data": {
      "text/plain": [
       "10000"
      ]
     },
     "execution_count": 47,
     "metadata": {},
     "output_type": "execute_result"
    }
   ],
   "source": [
    "%%time\n",
    "len(list(rows))"
   ]
  },
  {
   "cell_type": "code",
   "execution_count": 48,
   "metadata": {},
   "outputs": [
    {
     "name": "stdout",
     "output_type": "stream",
     "text": [
      "CPU times: user 5.36 ms, sys: 0 ns, total: 5.36 ms\n",
      "Wall time: 8.45 ms\n"
     ]
    }
   ],
   "source": [
    "%%time\n",
    "rows = session.execute(\"SELECT * FROM BLOB\")"
   ]
  },
  {
   "cell_type": "code",
   "execution_count": 49,
   "metadata": {},
   "outputs": [
    {
     "name": "stdout",
     "output_type": "stream",
     "text": [
      "CPU times: user 25 µs, sys: 5 µs, total: 30 µs\n",
      "Wall time: 36 µs\n"
     ]
    },
    {
     "data": {
      "text/plain": [
       "0"
      ]
     },
     "execution_count": 49,
     "metadata": {},
     "output_type": "execute_result"
    }
   ],
   "source": [
    "%%time\n",
    "len(list(rows))"
   ]
  },
  {
   "cell_type": "code",
   "execution_count": null,
   "metadata": {},
   "outputs": [],
   "source": []
  }
 ],
 "metadata": {
  "kernelspec": {
   "display_name": "Python 3",
   "language": "python",
   "name": "python3"
  },
  "language_info": {
   "codemirror_mode": {
    "name": "ipython",
    "version": 3
   },
   "file_extension": ".py",
   "mimetype": "text/x-python",
   "name": "python",
   "nbconvert_exporter": "python",
   "pygments_lexer": "ipython3",
   "version": "3.7.4"
  }
 },
 "nbformat": 4,
 "nbformat_minor": 4
}
