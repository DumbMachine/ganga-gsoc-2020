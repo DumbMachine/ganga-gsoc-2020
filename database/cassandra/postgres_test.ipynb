{
 "cells": [
  {
   "cell_type": "code",
   "execution_count": 14,
   "metadata": {},
   "outputs": [],
   "source": [
    "import pickle\n",
    "import sqlalchemy\n",
    "\n",
    "from time import time\n",
    "from tqdm import tqdm\n",
    "from sqlalchemy import Table, Column, Integer, String, ForeignKey, Binary"
   ]
  },
  {
   "cell_type": "code",
   "execution_count": 58,
   "metadata": {},
   "outputs": [
    {
     "name": "stderr",
     "output_type": "stream",
     "text": [
      "/home/needshelp/anaconda3/lib/python3.7/site-packages/ipykernel_launcher.py:9: SADeprecationWarning: The MetaData.reflect flag is deprecated and will be removed in a future release.   Please use the MetaData.reflect() method.\n",
      "  if __name__ == '__main__':\n",
      "/home/needshelp/anaconda3/lib/python3.7/site-packages/ipykernel_launcher.py:15: SADeprecationWarning: The MetaData.reflect flag is deprecated and will be removed in a future release.   Please use the MetaData.reflect() method.\n",
      "  from ipykernel import kernelapp as app\n"
     ]
    },
    {
     "data": {
      "text/plain": [
       "<sqlalchemy.engine.result.ResultProxy at 0x7f3af214e4d0>"
      ]
     },
     "execution_count": 58,
     "metadata": {},
     "output_type": "execute_result"
    }
   ],
   "source": [
    "def connect(user, password, db, host='localhost', port=5432):\n",
    "    '''Returns a connection and a metadata object'''\n",
    "    \n",
    "    url = 'postgresql://{}:{}@{}:{}/{}'\n",
    "    url = url.format(user, password, host, port, db)\n",
    "\n",
    "    try:\n",
    "        con = sqlalchemy.create_engine(url, client_encoding='utf8')\n",
    "        meta = sqlalchemy.MetaData(bind=con, reflect=True)\n",
    "    except Exception as e:\n",
    "        if \"does not exist\" in str(e):\n",
    "            url = 'postgresql://{}:{}@{}:{}/template1'\n",
    "            url = url.format(user, password, host, port)\n",
    "            con = sqlalchemy.create_engine(url, client_encoding='utf8')\n",
    "            meta = sqlalchemy.MetaData(bind=con, reflect=True)\n",
    "        else:\n",
    "            raise e\n",
    "        \n",
    "    return con, meta\n",
    "\n",
    "\n",
    "con, meta = connect('postgres', 'mysecretpassword', 'jobs')\n",
    "con.execute(\"\"\"DROP TABLE IF EXISTS jobs\"\"\")"
   ]
  },
  {
   "cell_type": "code",
   "execution_count": 59,
   "metadata": {},
   "outputs": [],
   "source": [
    "size = 10000\n",
    "JOBS = Table(\n",
    "         f\"jobs\", meta,\n",
    "         Column(\"id\", Integer, primary_key=True),\n",
    "         Column(\"status\", String),\n",
    "         Column(\"name\", String),\n",
    "         Column(\"subjobs\", Integer),\n",
    "         Column(\"application\", String),\n",
    "         Column(\"backend\", String),\n",
    "         Column(\"backend_actualCE\", String),\n",
    "         Column(\"comment\", String),\n",
    "         extend_existing=True\n",
    "    )\n",
    "\n",
    "BLOBS = Table(\n",
    "        f\"blobs\", meta,\n",
    "        Column(\"jid\", Integer, ForeignKey(\"JOBS.id\")),\n",
    "        Column(\"inputsandbox\", Binary),\n",
    "        Column(\"outputsandbox\", Binary),\n",
    "        Column(\"info\", Binary),\n",
    "        Column(\"comment\", Binary),\n",
    "        Column(\"time\", Binary),\n",
    "        Column(\"application\", Binary),\n",
    "        Column(\"backend\", Binary),\n",
    "        Column(\"inputfiles\", Binary),\n",
    "        Column(\"outputfiles\", Binary),\n",
    "        Column(\"non_copyable_outputfiles\", Binary),\n",
    "        Column(\"id\", Binary),\n",
    "        Column(\"status\", Binary),\n",
    "        Column(\"name\", Binary),\n",
    "        Column(\"inputdir\", Binary),\n",
    "        Column(\"outputdir\", Binary),\n",
    "        Column(\"inputdata\", Binary),\n",
    "        Column(\"outputdata\", Binary),\n",
    "        Column(\"splitter\", Binary),\n",
    "        Column(\"subjobs\", Binary),\n",
    "        Column(\"master\", Binary),\n",
    "        Column(\"postprocessors\", Binary),\n",
    "        Column(\"virtualization\", Binary),\n",
    "        Column(\"merger\", Binary),\n",
    "        Column(\"do_auto_resubmit\", Binary),\n",
    "        Column(\"metadata\", Binary),\n",
    "        Column(\"been_queued\", Binary),\n",
    "        Column(\"parallel_submit\", Binary),\n",
    "        extend_existing=True\n",
    "    )\n",
    "\n",
    "meta.create_all(con)"
   ]
  },
  {
   "cell_type": "code",
   "execution_count": 61,
   "metadata": {},
   "outputs": [],
   "source": [
    "jobs = pickle.load(open(\"rows.pkl\", \"rb\"))\n",
    "blobs = pickle.load(open(\"blobs.pkl\", \"rb\"))"
   ]
  },
  {
   "cell_type": "code",
   "execution_count": 54,
   "metadata": {},
   "outputs": [
    {
     "data": {
      "text/plain": [
       "sqlalchemy.exc.IntegrityError('(psycopg2.errors.UniqueViolation) duplicate key value violates unique constraint \"JOBS_pkey\"\\nDETAIL:  Key (id)=(1101) already exists.\\n')"
      ]
     },
     "execution_count": 54,
     "metadata": {},
     "output_type": "execute_result"
    }
   ],
   "source": [
    "x"
   ]
  },
  {
   "cell_type": "code",
   "execution_count": 62,
   "metadata": {},
   "outputs": [
    {
     "name": "stderr",
     "output_type": "stream",
     "text": [
      "100%|██████████| 100000/100000 [05:08<00:00, 324.02it/s]\n"
     ]
    }
   ],
   "source": [
    "size = 100000\n",
    "_jobs = jobs[:size]\n",
    "_blobs = blobs[:size]\n",
    "with tqdm(total=size) as progress:\n",
    "    for i, (row, blob) in enumerate(zip(_jobs, _blobs)):\n",
    "        row[0] = i+1\n",
    "        blob['jid'] = i+1\n",
    "        insert_job = JOBS.insert().values(row)\n",
    "        try:\n",
    "            con.execute(insert_job)      \n",
    "        except Exception as e:\n",
    "            x = e\n",
    "            pass\n",
    "        progress.update(1)"
   ]
  },
  {
   "cell_type": "code",
   "execution_count": 40,
   "metadata": {},
   "outputs": [],
   "source": [
    "from joblib import Parallel, delayed\n",
    "rows = [[i]+row[1:] for i, row in enumerate(_jobs)]\n",
    "def insert_postgres(data):\n",
    "    insert_job = JOBS.insert().values(row)\n",
    "    flag = con.execute(insert_job)      \n",
    "    return flag"
   ]
  },
  {
   "cell_type": "code",
   "execution_count": 63,
   "metadata": {},
   "outputs": [
    {
     "name": "stdout",
     "output_type": "stream",
     "text": [
      "CPU times: user 30.4 ms, sys: 13.1 ms, total: 43.5 ms\n",
      "Wall time: 141 ms\n"
     ]
    }
   ],
   "source": [
    "%%time\n",
    "rows = con.execute(\"SELECT * FROM JOBS\")"
   ]
  },
  {
   "cell_type": "code",
   "execution_count": 66,
   "metadata": {},
   "outputs": [
    {
     "name": "stdout",
     "output_type": "stream",
     "text": [
      "CPU times: user 23 µs, sys: 3 µs, total: 26 µs\n",
      "Wall time: 30.8 µs\n"
     ]
    },
    {
     "data": {
      "text/plain": [
       "0"
      ]
     },
     "execution_count": 66,
     "metadata": {},
     "output_type": "execute_result"
    }
   ],
   "source": [
    "%%time\n",
    "len(list(rows))"
   ]
  }
 ],
 "metadata": {
  "kernelspec": {
   "display_name": "Python 3",
   "language": "python",
   "name": "python3"
  },
  "language_info": {
   "codemirror_mode": {
    "name": "ipython",
    "version": 3
   },
   "file_extension": ".py",
   "mimetype": "text/x-python",
   "name": "python",
   "nbconvert_exporter": "python",
   "pygments_lexer": "ipython3",
   "version": "3.7.4"
  }
 },
 "nbformat": 4,
 "nbformat_minor": 4
}
