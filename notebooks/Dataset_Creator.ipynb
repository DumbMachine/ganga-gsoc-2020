{
 "cells": [
  {
   "cell_type": "markdown",
   "metadata": {},
   "source": [
    "# Doing it for one Data Item"
   ]
  },
  {
   "cell_type": "code",
   "execution_count": 1,
   "metadata": {},
   "outputs": [],
   "source": [
    "import numpy as np\n",
    "import pandas as pd\n",
    "from bs4 import BeautifulSoup as soup"
   ]
  },
  {
   "cell_type": "code",
   "execution_count": 4,
   "metadata": {},
   "outputs": [],
   "source": [
    "file = \"data.xml\"\n",
    "\n",
    "file = soup(open(file))\n",
    "\n",
    "# for sequence in file.find_all(\"sequence\")\n",
    "dataset = []\n",
    "inputdata = file.find_all(\"attribute\", type=\"inputdata\")[0]\n",
    "for data in inputdata.find_all(\"class\", category=\"gangafiles\"):\n",
    "    _data = {}\n",
    "    for attr in data.find_all(\"attribute\"):\n",
    "        if attr:\n",
    "            if attr.value:\n",
    "                _data[attr.attrs['type']] = attr.value.text\n",
    "            else:\n",
    "                _data[attr.attrs['type']] = attr.value\n",
    "                \n",
    "    dataset.append(_data)"
   ]
  },
  {
   "cell_type": "code",
   "execution_count": 91,
   "metadata": {},
   "outputs": [
    {
     "name": "stdout",
     "output_type": "stream",
     "text": [
      "name\n"
     ]
    }
   ],
   "source": [
    "columns = [\"id\", \"status\", \"name\", \"subjobs\", \"application\", \"backend\", \"backend.actualCE\", \"comment\"] # , \"fqid\", \"subjobs status\"\n",
    "datas = []\n",
    "for col in columns:\n",
    "    if \".\" in col:\n",
    "        data = file.find_all(\"attribute\", type=col.split(\".\")[0])\n",
    "        data = file.find_all(\"attribute\", type=col.split(\".\")[1])\n",
    "    else:\n",
    "        data = file.find_all(\"attribute\", type=col)\n",
    "    if data:\n",
    "        if col == \"subjobs\":\n",
    "            datas.append(len(data[0].sequence))\n",
    "        else:\n",
    "            datas.append(data[0].value.text)\n",
    "    else:\n",
    "        print(col)\n",
    "        datas.append(\"None\")"
   ]
  },
  {
   "cell_type": "code",
   "execution_count": 94,
   "metadata": {},
   "outputs": [
    {
     "data": {
      "text/html": [
       "<div>\n",
       "<style scoped>\n",
       "    .dataframe tbody tr th:only-of-type {\n",
       "        vertical-align: middle;\n",
       "    }\n",
       "\n",
       "    .dataframe tbody tr th {\n",
       "        vertical-align: top;\n",
       "    }\n",
       "\n",
       "    .dataframe thead th {\n",
       "        text-align: right;\n",
       "    }\n",
       "</style>\n",
       "<table border=\"1\" class=\"dataframe\">\n",
       "  <thead>\n",
       "    <tr style=\"text-align: right;\">\n",
       "      <th></th>\n",
       "      <th>id</th>\n",
       "      <th>status</th>\n",
       "      <th>name</th>\n",
       "      <th>subjobs</th>\n",
       "      <th>application</th>\n",
       "      <th>backend</th>\n",
       "      <th>backend.actualCE</th>\n",
       "      <th>comment</th>\n",
       "    </tr>\n",
       "  </thead>\n",
       "  <tbody>\n",
       "    <tr>\n",
       "      <td>0</td>\n",
       "      <td>0</td>\n",
       "      <td>'completed'</td>\n",
       "      <td>None</td>\n",
       "      <td>1</td>\n",
       "      <td>'85c74d55153c2b535aa07b2067c9381e'</td>\n",
       "      <td>'Done'</td>\n",
       "      <td>'LCG.CNAF.it'</td>\n",
       "      <td>''</td>\n",
       "    </tr>\n",
       "  </tbody>\n",
       "</table>\n",
       "</div>"
      ],
      "text/plain": [
       "  id       status  name  subjobs                         application backend  \\\n",
       "0  0  'completed'  None        1  '85c74d55153c2b535aa07b2067c9381e'  'Done'   \n",
       "\n",
       "  backend.actualCE comment  \n",
       "0    'LCG.CNAF.it'      ''  "
      ]
     },
     "execution_count": 94,
     "metadata": {},
     "output_type": "execute_result"
    }
   ],
   "source": [
    "pd.DataFrame([datas], columns=columns)"
   ]
  },
  {
   "cell_type": "code",
   "execution_count": null,
   "metadata": {},
   "outputs": [],
   "source": []
  },
  {
   "cell_type": "markdown",
   "metadata": {},
   "source": [
    "# Blob things"
   ]
  },
  {
   "cell_type": "code",
   "execution_count": 95,
   "metadata": {},
   "outputs": [],
   "source": []
  },
  {
   "cell_type": "code",
   "execution_count": 80,
   "metadata": {},
   "outputs": [],
   "source": [
    "blob_attrs = ['inputsandbox', 'outputsandbox', 'info', 'comment', 'time', 'application', 'backend', 'inputfiles', 'outputfiles', 'non_copyable_outputfiles', 'id', 'status', 'name', 'inputdir', 'outputdir', 'inputdata', 'outputdata', 'splitter', 'subjobs', 'master', 'postprocessors', 'virtualization', 'merger', 'do_auto_resubmit', 'metadata', 'been_queued', 'parallel_submit']\n",
    "blobs = {}\n",
    "for attr in blob_attrs:\n",
    "    data = file.find_all(\"attribute\", type=attr)\n",
    "    blobs[attr] = str.encode(str(data))"
   ]
  },
  {
   "cell_type": "code",
   "execution_count": 112,
   "metadata": {
    "collapsed": true,
    "jupyter": {
     "outputs_hidden": true
    }
   },
   "outputs": [
    {
     "data": {
      "text/plain": [
       "{'inputsandbox': b'[<attribute type=\"inputsandbox\">\\n<sequence>\\n</sequence>\\n</attribute>]',\n",
       " 'outputsandbox': b'[<attribute type=\"outputsandbox\">\\n<sequence>\\n</sequence>\\n</attribute>]',\n",
       " 'info': b'[<attribute type=\"info\">\\n<class category=\"jobinfos\" type=\"JobInfo\" version=\"0.1\">\\n<attribute type=\"monitoring_links\">\\n<sequence>\\n</sequence>\\n</attribute>\\n<attribute type=\"uuid\">\\n<value>\\'e981595b-a809-4887-84bb-981658be076f\\'</value>\\n</attribute>\\n<attribute type=\"submit_counter\">\\n<value>1</value>\\n</attribute>\\n<attribute type=\"monitor\">\\n<value>None</value>\\n</attribute>\\n</class>\\n</attribute>]',\n",
       " 'comment': b'[<attribute type=\"comment\">\\n<value>\\'\\'</value>\\n</attribute>]',\n",
       " 'time': b'[<attribute type=\"time\">\\n<class category=\"jobtime\" type=\"JobTime\" version=\"0.0\">\\n<attribute type=\"timestamps\">\\n<value>{\\'backend_final\\': datetime.datetime(2019, 2, 15, 18, 22, 39), \\'backend_completing\\': datetime.datetime(2019, 2, 15, 18, 22, 37), \\'completing\\': datetime.datetime(2019, 2, 17, 17, 36, 46, 788551), \\'submitted\\': datetime.datetime(2019, 2, 15, 15, 23, 6, 792748), \\'running\\': datetime.datetime(2019, 2, 15, 15, 37, 54, 515783), \\'submitting\\': datetime.datetime(2019, 2, 15, 15, 20, 0, 837362), \\'new\\': datetime.datetime(2019, 2, 15, 15, 15, 25, 281601), \\'backend_running\\': datetime.datetime(2019, 2, 15, 15, 24, 10), \\'final\\': datetime.datetime(2019, 2, 17, 17, 36, 56, 265152)}</value>\\n</attribute>\\n</class>\\n</attribute>]',\n",
       " 'application': b'[<attribute type=\"application\">\\n<class category=\"applications\" type=\"GaudiExec\" version=\"1.0\">\\n<attribute type=\"hash\">\\n<value>\\'85c74d55153c2b535aa07b2067c9381e\\'</value>\\n</attribute>\\n<attribute type=\"getMetadata\">\\n<value>False</value>\\n</attribute>\\n<attribute type=\"extraArgs\">\\n<sequence>\\n</sequence>\\n</attribute>\\n<attribute type=\"envVars\">\\n<value>{\\'XMLSUMMARYBASEROOT\\': \\'/cvmfs/lhcb.cern.ch/lib/lhcb/LHCB/LHCB_v44r2p1/Kernel/XMLSummaryBase\\'}</value>\\n</attribute>\\n<attribute type=\"is_prepared\">\\n<class category=\"shareddirs\" type=\"ShareDir\" version=\"1.0\">\\n<attribute type=\"type\">\\n<value>\\'conf-51ca2c77-a800-4058-9054-c9ed12dfae91\\'</value>\\n</attribute>\\n<attribute type=\"subdir\">\\n<value>\\'.\\'</value>\\n</attribute>\\n<attribute type=\"associated_files\">\\n<class category=\"internal\" type=\"GangaList\" version=\"1.0\">\\n<attribute type=\"_is_preparable\">\\n<value>False</value>\\n</attribute>\\n<attribute type=\"_list\">\\n<sequence>\\n</sequence>\\n</attribute>\\n</class>\\n</attribute>\\n</class>\\n</attribute>\\n<attribute type=\"extraOpts\">\\n<value>\\'\\'</value>\\n</attribute>\\n<attribute type=\"useGaudiRun\">\\n<value>True</value>\\n</attribute>\\n<attribute type=\"autoDBtags\">\\n<value>False</value>\\n</attribute>\\n<attribute type=\"platform\">\\n<value>\\'x86_64-slc6-gcc62-opt\\'</value>\\n</attribute>\\n<attribute type=\"directory\">\\n<value>\\'/afs/cern.ch/user/m/masmith/forSL/DaVinciDev_v44r4\\'</value>\\n</attribute>\\n<attribute type=\"jobScriptArchive\">\\n<class category=\"gangafiles\" type=\"DiracFile\" version=\"1.1\">\\n<attribute type=\"remoteDir\">\\n<value>\\'/lhcb/user/m/masmith/GangaFiles_16.18_Friday_15_February_2019\\'</value>\\n</attribute>\\n<attribute type=\"lfn\">\\n<value>\\'/lhcb/user/m/masmith/GangaFiles_16.18_Friday_15_February_2019/jobScripts-3191_aeccc15f-b5af-46d5-bd69-67c91d5467ae.tar.gz\\'</value>\\n</attribute>\\n<attribute type=\"locations\">\\n<sequence>\\n<value>\\'RAL-USER\\'</value>\\n<value>\\'SARA-USER\\'</value>\\n</sequence>\\n</attribute>\\n<attribute type=\"typePattern\">\\n<value>\\'jobScripts-3191_aeccc15f-b5af-46d5-bd69-67c91d5467ae.tar.gz\\'</value>\\n</attribute>\\n<attribute type=\"compressed\">\\n<value>False</value>\\n</attribute>\\n<attribute type=\"defaultSE\">\\n<value>\\'\\'</value>\\n</attribute>\\n<attribute type=\"guid\">\\n<value>\\'67274544-4CCC-BC37-5B04-4E4113A6B4C4\\'</value>\\n</attribute>\\n<attribute type=\"failureReason\">\\n<value>\\'\\'</value>\\n</attribute>\\n<attribute type=\"localDir\">\\n<value>\\'/afs/cern.ch/work/m/masmith/gangadir/workspace/masmith/LocalXML/3191/input\\'</value>\\n</attribute>\\n<attribute type=\"subfiles\">\\n<sequence>\\n</sequence>\\n</attribute>\\n<attribute type=\"credential_requirements\">\\n<class category=\"CredentialRequirement\" type=\"DiracProxy\" version=\"1.0\">\\n<attribute type=\"dirac_env\">\\n<value>None</value>\\n</attribute>\\n<attribute type=\"validTime\">\\n<value>None</value>\\n</attribute>\\n<attribute type=\"group\">\\n<value>\\'lhcb_user\\'</value>\\n</attribute>\\n<attribute type=\"encodeDefaultProxyFileName\">\\n<value>False</value>\\n</attribute>\\n</class>\\n</attribute>\\n</class>\\n</attribute>\\n<attribute type=\"uploadedInput\">\\n<class category=\"gangafiles\" type=\"DiracFile\" version=\"1.1\">\\n<attribute type=\"remoteDir\">\\n<value>\\'/lhcb/user/m/masmith/GangaFiles_16.15_Friday_15_February_2019\\'</value>\\n</attribute>\\n<attribute type=\"lfn\">\\n<value>\\'/lhcb/user/m/masmith/GangaFiles_16.15_Friday_15_February_2019/diracInputFiles_3191_44a79c17-8535-4f85-bd41-07e1771d4b1e.tgz\\'</value>\\n</attribute>\\n<attribute type=\"locations\">\\n<sequence>\\n<value>\\'RRCKI-USER\\'</value>\\n<value>\\'PIC-USER\\'</value>\\n</sequence>\\n</attribute>\\n<attribute type=\"typePattern\">\\n<value>\\'diracInputFiles_3191_44a79c17-8535-4f85-bd41-07e1771d4b1e.tgz\\'</value>\\n</attribute>\\n<attribute type=\"compressed\">\\n<value>False</value>\\n</attribute>\\n<attribute type=\"defaultSE\">\\n<value>\\'\\'</value>\\n</attribute>\\n<attribute type=\"guid\">\\n<value>\\'9E507FEC-A094-4E37-3622-59F40EE9737B\\'</value>\\n</attribute>\\n<attribute type=\"failureReason\">\\n<value>\\'\\'</value>\\n</attribute>\\n<attribute type=\"localDir\">\\n<value>\\'/tmp/masmith\\'</value>\\n</attribute>\\n<attribute type=\"subfiles\">\\n<sequence>\\n</sequence>\\n</attribute>\\n<attribute type=\"credential_requirements\">\\n<class category=\"CredentialRequirement\" type=\"DiracProxy\" version=\"1.0\">\\n<attribute type=\"dirac_env\">\\n<value>None</value>\\n</attribute>\\n<attribute type=\"validTime\">\\n<value>None</value>\\n</attribute>\\n<attribute type=\"group\">\\n<value>\\'lhcb_user\\'</value>\\n</attribute>\\n<attribute type=\"encodeDefaultProxyFileName\">\\n<value>False</value>\\n</attribute>\\n</class>\\n</attribute>\\n</class>\\n</attribute>\\n<attribute type=\"options\">\\n<sequence>\\n<class category=\"gangafiles\" type=\"LocalFile\" version=\"1.1\">\\n<attribute type=\"typePattern\">\\n<value>\\'b2xmumu_2018.py\\'</value>\\n</attribute>\\n<attribute type=\"compressed\">\\n<value>False</value>\\n</attribute>\\n<attribute type=\"localDir\">\\n<value>\\'/afs/cern.ch/user/m/masmith/private/Imperial/KstMuMu/binned-angular-kstarmumu/Tuple_Production/Data/2018\\'</value>\\n</attribute>\\n<attribute type=\"subfiles\">\\n<sequence>\\n</sequence>\\n</attribute>\\n</class>\\n</sequence>\\n</attribute>\\n</class>\\n</attribute>]',\n",
       " 'backend': b'[<attribute type=\"backend\">\\n<class category=\"backends\" type=\"Dirac\" version=\"3.2\">\\n<attribute type=\"status\">\\n<value>\\'Done\\'</value>\\n</attribute>\\n<attribute type=\"diracOpts\">\\n<value>\\'\\'</value>\\n</attribute>\\n<attribute type=\"settings\">\\n<value>{\\'CPUTime\\': 1209600}</value>\\n</attribute>\\n<attribute type=\"normCPUTime\">\\n<value>\\'106334.04\\'</value>\\n</attribute>\\n<attribute type=\"downloadSandbox\">\\n<value>True</value>\\n</attribute>\\n<attribute type=\"extraInfo\">\\n<value>\\'Job Finished Successfully\\'</value>\\n</attribute>\\n<attribute type=\"actualCE\">\\n<value>\\'LCG.CNAF.it\\'</value>\\n</attribute>\\n<attribute type=\"unpackOutputSandbox\">\\n<value>True</value>\\n</attribute>\\n<attribute type=\"blockSubmit\">\\n<value>True</value>\\n</attribute>\\n<attribute type=\"statusInfo\">\\n<value>\\'Execution Complete\\'</value>\\n</attribute>\\n<attribute type=\"finaliseOnMaster\">\\n<value>False</value>\\n</attribute>\\n<attribute type=\"id\">\\n<value>259531729</value>\\n</attribute>\\n<attribute type=\"credential_requirements\">\\n<class category=\"CredentialRequirement\" type=\"DiracProxy\" version=\"1.0\">\\n<attribute type=\"dirac_env\">\\n<value>None</value>\\n</attribute>\\n<attribute type=\"validTime\">\\n<value>None</value>\\n</attribute>\\n<attribute type=\"group\">\\n<value>\\'lhcb_user\\'</value>\\n</attribute>\\n<attribute type=\"encodeDefaultProxyFileName\">\\n<value>False</value>\\n</attribute>\\n</class>\\n</attribute>\\n</class>\\n</attribute>]',\n",
       " 'inputfiles': b'[<attribute type=\"inputfiles\">\\n<sequence>\\n</sequence>\\n</attribute>]',\n",
       " 'outputfiles': b'[<attribute type=\"outputfiles\">\\n<sequence>\\n<class category=\"gangafiles\" type=\"DiracFile\" version=\"1.1\">\\n<attribute type=\"remoteDir\">\\n<value>\\'\\'</value>\\n</attribute>\\n<attribute type=\"lfn\">\\n<value>\\'/lhcb/user/m/masmith/2019_02/259531/259531729/DVntuple.root\\'</value>\\n</attribute>\\n<attribute type=\"locations\">\\n<sequence>\\n<value>\\'CNAF-USER\\'</value>\\n</sequence>\\n</attribute>\\n<attribute type=\"typePattern\">\\n<value>\\'DVntuple.root\\'</value>\\n</attribute>\\n<attribute type=\"compressed\">\\n<value>False</value>\\n</attribute>\\n<attribute type=\"defaultSE\">\\n<value>\\'\\'</value>\\n</attribute>\\n<attribute type=\"guid\">\\n<value>\\'2E33A035-A09A-27EC-A92A-7ABCDAE642A4\\'</value>\\n</attribute>\\n<attribute type=\"failureReason\">\\n<value>\\'\\'</value>\\n</attribute>\\n<attribute type=\"localDir\">\\n<value>\\'/afs/cern.ch/work/m/masmith/gangadir/workspace/masmith/LocalXML/3191/0/output\\'</value>\\n</attribute>\\n<attribute type=\"subfiles\">\\n<sequence>\\n</sequence>\\n</attribute>\\n<attribute type=\"credential_requirements\">\\n<class category=\"CredentialRequirement\" type=\"DiracProxy\" version=\"1.0\">\\n<attribute type=\"dirac_env\">\\n<value>None</value>\\n</attribute>\\n<attribute type=\"validTime\">\\n<value>None</value>\\n</attribute>\\n<attribute type=\"group\">\\n<value>\\'lhcb_user\\'</value>\\n</attribute>\\n<attribute type=\"encodeDefaultProxyFileName\">\\n<value>False</value>\\n</attribute>\\n</class>\\n</attribute>\\n</class>\\n</sequence>\\n</attribute>]',\n",
       " 'non_copyable_outputfiles': b'[<attribute type=\"non_copyable_outputfiles\">\\n<sequence>\\n</sequence>\\n</attribute>]',\n",
       " 'id': b'[<attribute type=\"id\">\\n<value>0</value>\\n</attribute>, <attribute type=\"id\">\\n<value>259531729</value>\\n</attribute>]',\n",
       " 'status': b'[<attribute type=\"status\">\\n<value>\\'completed\\'</value>\\n</attribute>, <attribute type=\"status\">\\n<value>\\'Done\\'</value>\\n</attribute>]',\n",
       " 'name': b'[]',\n",
       " 'inputdir': b'[]',\n",
       " 'outputdir': b'[]',\n",
       " 'inputdata': b'[<attribute type=\"inputdata\">\\n<class category=\"datasets\" type=\"LHCbDataset\" version=\"3.0\">\\n<attribute type=\"depth\">\\n<value>0</value>\\n</attribute>\\n<attribute type=\"treat_as_inputfiles\">\\n<value>False</value>\\n</attribute>\\n<attribute type=\"persistency\">\\n<value>None</value>\\n</attribute>\\n<attribute type=\"files\">\\n<sequence>\\n<class category=\"gangafiles\" type=\"DiracFile\" version=\"1.1\">\\n<attribute type=\"remoteDir\">\\n<value>\\'\\'</value>\\n</attribute>\\n<attribute type=\"lfn\">\\n<value>\\'/lhcb/LHCb/Collision18/LEPTONIC.MDST/00077434/0003/00077434_00035029_1.leptonic.mdst\\'</value>\\n</attribute>\\n<attribute type=\"locations\">\\n<sequence>\\n</sequence>\\n</attribute>\\n<attribute type=\"typePattern\">\\n<value>\\'\\'</value>\\n</attribute>\\n<attribute type=\"compressed\">\\n<value>False</value>\\n</attribute>\\n<attribute type=\"defaultSE\">\\n<value>\\'\\'</value>\\n</attribute>\\n<attribute type=\"guid\">\\n<value>\\'\\'</value>\\n</attribute>\\n<attribute type=\"failureReason\">\\n<value>\\'\\'</value>\\n</attribute>\\n<attribute type=\"localDir\">\\n<value>None</value>\\n</attribute>\\n<attribute type=\"subfiles\">\\n<sequence>\\n</sequence>\\n</attribute>\\n<attribute type=\"credential_requirements\">\\n<class category=\"CredentialRequirement\" type=\"DiracProxy\" version=\"1.0\">\\n<attribute type=\"dirac_env\">\\n<value>None</value>\\n</attribute>\\n<attribute type=\"validTime\">\\n<value>None</value>\\n</attribute>\\n<attribute type=\"group\">\\n<value>\\'lhcb_user\\'</value>\\n</attribute>\\n<attribute type=\"encodeDefaultProxyFileName\">\\n<value>False</value>\\n</attribute>\\n</class>\\n</attribute>\\n</class>\\n<class category=\"gangafiles\" type=\"DiracFile\" version=\"1.1\">\\n<attribute type=\"remoteDir\">\\n<value>\\'\\'</value>\\n</attribute>\\n<attribute type=\"lfn\">\\n<value>\\'/lhcb/LHCb/Collision18/LEPTONIC.MDST/00075559/0001/00075559_00011792_1.leptonic.mdst\\'</value>\\n</attribute>\\n<attribute type=\"locations\">\\n<sequence>\\n</sequence>\\n</attribute>\\n<attribute type=\"typePattern\">\\n<value>\\'\\'</value>\\n</attribute>\\n<attribute type=\"compressed\">\\n<value>False</value>\\n</attribute>\\n<attribute type=\"defaultSE\">\\n<value>\\'\\'</value>\\n</attribute>\\n<attribute type=\"guid\">\\n<value>\\'\\'</value>\\n</attribute>\\n<attribute type=\"failureReason\">\\n<value>\\'\\'</value>\\n</attribute>\\n<attribute type=\"localDir\">\\n<value>None</value>\\n</attribute>\\n<attribute type=\"subfiles\">\\n<sequence>\\n</sequence>\\n</attribute>\\n<attribute type=\"credential_requirements\">\\n<class category=\"CredentialRequirement\" type=\"DiracProxy\" version=\"1.0\">\\n<attribute type=\"dirac_env\">\\n<value>None</value>\\n</attribute>\\n<attribute type=\"validTime\">\\n<value>None</value>\\n</attribute>\\n<attribute type=\"group\">\\n<value>\\'lhcb_user\\'</value>\\n</attribute>\\n<a ttribute=\"\" type=\"encodeDefaultProxyFileName\">\\n<value>False</value>\\n</a></class></attribute>\\n</class>\\n</sequence></attribute>\\n</class>\\n<class category=\"gangafiles\" type=\"DiracFile\" version=\"1.1\">\\n<attribute type=\"remoteDir\">\\n<value>\\'\\'</value>\\n</attribute>\\n<attribute type=\"lfn\">\\n<value>\\'/lhcb/LHCb/Collision18/LEPTONIC.MDST/00077434/0003/00077434_00035972_1.leptonic.mdst\\'</value>\\n</attribute>\\n<attribute type=\"locations\">\\n<sequence>\\n</sequence>\\n</attribute>\\n<attribute type=\"typePattern\">\\n<value>\\'\\'</value>\\n</attribute>\\n<attribute type=\"compressed\">\\n<value>False</value>\\n</attribute>\\n<attribute type=\"defaultSE\">\\n<value>\\'\\'</value>\\n</attribute>\\n<attribute type=\"guid\">\\n<value>\\'\\'</value>\\n</attribute>\\n<attribute type=\"failureReason\">\\n<value>\\'\\'</value>\\n</attribute>\\n<attribute type=\"localDir\">\\n<value>None</value>\\n</attribute>\\n<attribute type=\"subfiles\">\\n<sequence>\\n</sequence>\\n</attribute>\\n<attribute type=\"credential_requirements\">\\n<class category=\"CredentialRequirement\" type=\"DiracProxy\" version=\"1.0\">\\n<attribute type=\"dirac_env\">\\n<value>None</value>\\n</attribute>\\n<attribute type=\"validTime\">\\n<value>None</value>\\n</attribute>\\n<attribute type=\"group\">\\n<value>\\'lhcb_user\\'</value>\\n</attribute>\\n<attribute type=\"encodeDefaultProxyFileName\">\\n<value>False</value>\\n</attribute>\\n</class>\\n</attribute>\\n</class>\\n<class category=\"gangafiles\" type=\"DiracFile\" version=\"1.1\">\\n<attribute type=\"remoteDir\">\\n<value>\\'\\'</value>\\n</attribute>\\n<attribute type=\"lfn\">\\n<value>\\'/lhcb/LHCb/Collision18/LEPTONIC.MDST/00075559/0002/00075559_00023218_1.leptonic.mdst\\'</value>\\n</attribute>\\n<attribute type=\"locations\">\\n<sequence>\\n</sequence>\\n</attribute>\\n<attribute type=\"typePattern\">\\n<value>\\'\\'</value>\\n</attribute>\\n<attribute type=\"compressed\">\\n<value>False</value>\\n</attribute>\\n<attribute type=\"defaultSE\">\\n<value>\\'\\'</value>\\n</attribute>\\n<attribute type=\"guid\">\\n<value>\\'\\'</value>\\n</attribute>\\n<attribute type=\"failureReason\">\\n<value>\\'\\'</value>\\n</attribute>\\n<attribute type=\"localDir\">\\n<value>None</value>\\n</attribute>\\n<attribute type=\"subfiles\">\\n<sequence>\\n</sequence>\\n</attribute>\\n<attribute type=\"credential_requirements\">\\n<class category=\"CredentialRequirement\" type=\"DiracProxy\" version=\"1.0\">\\n<attribute type=\"dirac_env\">\\n<value>None</value>\\n</attribute>\\n<attribute type=\"validTime\">\\n<value>None</value>\\n</attribute>\\n<attribute type=\"group\">\\n<value>\\'lhcb_user\\'</value>\\n</attribute>\\n<attribute type=\"encodeDefaultProxyFileName\">\\n<value>False</value>\\n</attribute>\\n</class>\\n</attribute>\\n</class>\\n<class category=\"gangafiles\" type=\"DiracFile\" version=\"1.1\">\\n<attribute type=\"remoteDir\">\\n<value>\\'\\'</value>\\n</attribute>\\n<attribute type=\"lfn\">\\n<value>\\'/lhcb/LHCb/Collision18/LEPTONIC.MDST/00075559/0002/00075559_00027603_1.leptonic.mdst\\'</value>\\n</attribute>\\n<attribute type=\"locations\">\\n<sequence>\\n</sequence>\\n</attribute>\\n<attribute type=\"typePattern\">\\n<value>\\'\\'</value>\\n</attribute>\\n<attribute type=\"compressed\">\\n<value>False</value>\\n</attribute>\\n<attribute type=\"defaultSE\">\\n<value>\\'\\'</value>\\n</attribute>\\n<attribute type=\"guid\">\\n<value>\\'\\'</value>\\n</attribute>\\n<attribute type=\"failureReason\">\\n<value>\\'\\'</value>\\n</attribute>\\n<attribute type=\"localDir\">\\n<value>None</value>\\n</attribute>\\n<attribute type=\"subfiles\">\\n<sequence>\\n</sequence>\\n</attribute>\\n<attribute type=\"credential_requirements\">\\n<class category=\"CredentialRequirement\" type=\"DiracProxy\" version=\"1.0\">\\n<attribute type=\"dirac_env\">\\n<value>None</value>\\n</attribute>\\n<attribute type=\"validTime\">\\n<value>None</value>\\n</attribute>\\n<attribute type=\"group\">\\n<value>\\'lhcb_user\\'</value>\\n</attribute>\\n<attribute type=\"encodeDefaultProxyFileName\">\\n<value>False</value>\\n</attribute>\\n</class>\\n</attribute>\\n</class>\\n<class category=\"gangafiles\" type=\"DiracFile\" version=\"1.1\">\\n<attribute type=\"remoteDir\">\\n<value>\\'\\'</value>\\n</attribute>\\n<attribute type=\"lfn\">\\n<value>\\'/lhcb/LHCb/Collision18/LEPTONIC.MDST/00075559/0003/00075559_00037312_1.leptonic.mdst\\'</value>\\n</attribute>\\n<attribute type=\"locations\">\\n<sequence>\\n</sequence>\\n</attribute>\\n<attribute type=\"typePattern\">\\n<value>\\'\\'</value>\\n</attribute>\\n<attribute type=\"compressed\">\\n<value>False</value>\\n</attribute>\\n<attribute type=\"defaultSE\">\\n<value>\\'\\'</value>\\n</attribute>\\n<attribute type=\"guid\">\\n<value>\\'\\'</value>\\n</attribute>\\n<attribute type=\"failureReason\">\\n<value>\\'\\'</value>\\n</attribute>\\n<attribute type=\"localDir\">\\n<value>None</value>\\n</attribute>\\n<attribute type=\"subfiles\">\\n<sequence>\\n</sequence>\\n</attribute>\\n<attribute type=\"credential_requirements\">\\n<class category=\"CredentialRequirement\" type=\"DiracProxy\" version=\"1.0\">\\n<attribute type=\"dirac_env\">\\n<value>None</value>\\n</attribute>\\n<attribute type=\"validTime\">\\n<value>None</value>\\n</attribute>\\n<attribute type=\"group\">\\n<value>\\'lhcb_user\\'</value>\\n</attribute>\\n<attribute type=\"encodeDefaultProxyFileName\">\\n<value>False</value>\\n</attribute>\\n</class>\\n</attribute>\\n</class>\\n<class category=\"gangafiles\" type=\"DiracFile\" version=\"1.1\">\\n<attribute type=\"remoteDir\">\\n<value>\\'\\'</value>\\n</attribute>\\n<attribute type=\"lfn\">\\n<value>\\'/lhcb/LHCb/Collision18/LEPTONIC.MDST/00075559/0001/00075559_00017376_1.leptonic.mdst\\'</value>\\n</attribute>\\n<attribute type=\"locations\">\\n<sequence>\\n</sequence>\\n</attribute>\\n<attribute type=\"typePattern\">\\n<value>\\'\\'</value>\\n</attribute>\\n<attribute type=\"compressed\">\\n<value>False</value>\\n</attribute>\\n<attribute type=\"defaultSE\">\\n<value>\\'\\'</value>\\n</attribute>\\n<attribute type=\"guid\">\\n<value>\\'\\'</value>\\n</attribute>\\n<attribute type=\"failureReason\">\\n<value>\\'\\'</value>\\n</attribute>\\n<attribute type=\"localDir\">\\n<value>None</value>\\n</attribute>\\n<attribute type=\"subfiles\">\\n<sequence>\\n</sequence>\\n</attribute>\\n<attribute type=\"credential_requirements\">\\n<class category=\"CredentialRequirement\" type=\"DiracProxy\" version=\"1.0\">\\n<attribute type=\"dirac_env\">\\n<value>None</value>\\n</attribute>\\n<attribute type=\"validTime\">\\n<value>None</value>\\n</attribute>\\n<attribute type=\"group\">\\n<value>\\'lhcb_user\\'</value>\\n</attribute>\\n<attribute type=\"encodeDefaultProxyFileName\">\\n<value>False</value>\\n</attribute>\\n</class>\\n</attribute>\\n</class>\\n<class category=\"gangafiles\" type=\"DiracFile\" version=\"1.1\">\\n<attribute type=\"remoteDir\">\\n<value>\\'\\'</value>\\n</attribute>\\n<attribute type=\"lfn\">\\n<value>\\'/lhcb/LHCb/Collision18/LEPTONIC.MDST/00077434/0005/00077434_00054174_1.leptonic.mdst\\'</value>\\n</attribute>\\n<attribute type=\"locations\">\\n<sequence>\\n</sequence>\\n</attribute>\\n<attribute type=\"typePattern\">\\n<value>\\'\\'</value>\\n</attribute>\\n<attribute type=\"compressed\">\\n<value>False</value>\\n</attribute>\\n<attribute type=\"defaultSE\">\\n<value>\\'\\'</value>\\n</attribute>\\n<attribute type=\"guid\">\\n<value>\\'\\'</value>\\n</attribute>\\n<attribute type=\"failureReason\">\\n<value>\\'\\'</value>\\n</attribute>\\n<attribute type=\"localDir\">\\n<value>None</value>\\n</attribute>\\n<attribute type=\"subfiles\">\\n<sequence>\\n</sequence>\\n</attribute>\\n<attribute type=\"credential_requirements\">\\n<class category=\"CredentialRequirement\" type=\"DiracProxy\" version=\"1.0\">\\n<attribute type=\"dirac_env\">\\n<value>None</value>\\n</attribute>\\n<attribute type=\"validTime\">\\n<value>None</value>\\n</attribute>\\n<attribute type=\"group\">\\n<value>\\'lhcb_user\\'</value>\\n</attribute>\\n<attribute type=\"encodeDefaultProxyFileName\">\\n<value>False</value>\\n</attribute>\\n</class>\\n</attribute>\\n</class>\\n<class category=\"gangafiles\" type=\"DiracFile\" version=\"1.1\">\\n<attribute type=\"remoteDir\">\\n<value>\\'\\'</value>\\n</attribute>\\n<attribute type=\"lfn\">\\n<value>\\'/lhcb/LHCb/Collision18/LEPTONIC.MDST/00075559/0001/00075559_00011653_1.leptonic.mdst\\'</value>\\n</attribute>\\n<attribute type=\"locations\">\\n<sequence>\\n</sequence>\\n</attribute>\\n<attribute type=\"typePattern\">\\n<value>\\'\\'</value>\\n</attribute>\\n<attribute type=\"compressed\">\\n<value>False</value>\\n</attribute>\\n<attribute type=\"defaultSE\">\\n<value>\\'\\'</value>\\n</attribute>\\n<attribute type=\"guid\">\\n<value>\\'\\'</value>\\n</attribute>\\n<attribute type=\"failureReason\">\\n<value>\\'\\'</value>\\n</attribute>\\n<attribute type=\"localDir\">\\n<value>None</value>\\n</attribute>\\n<attribute type=\"subfiles\">\\n<sequence>\\n</sequence>\\n</attribute>\\n<attribute type=\"credential_requirements\">\\n<class category=\"CredentialRequirement\" type=\"DiracProxy\" version=\"1.0\">\\n<attribute type=\"dirac_env\">\\n<value>None</value>\\n</attribute>\\n<attribute type=\"validTime\">\\n<value>None</value>\\n</attribute>\\n<attribute type=\"group\">\\n<value>\\'lhcb_user\\'</value>\\n</attribute>\\n<attribute type=\"encodeDefaultProxyFileName\">\\n<value>False</value>\\n</attribute>\\n</class>\\n</attribute>\\n</class>\\n<class category=\"gangafiles\" type=\"DiracFile\" version=\"1.1\">\\n<attribute type=\"remoteDir\">\\n<value>\\'\\'</value>\\n</attribute>\\n<attribute type=\"lfn\">\\n<value>\\'/lhcb/LHCb/Collision18/LEPTONIC.MDST/00075559/0003/00075559_00036412_1.leptonic.mdst\\'</value>\\n</attribute>\\n<attribute type=\"locations\">\\n<sequence>\\n</sequence>\\n</attribute>\\n<attribute type=\"typePattern\">\\n<value>\\'\\'</value>\\n</attribute>\\n<attribute type=\"compressed\">\\n<value>False</value>\\n</attribute>\\n<attribute type=\"defaultSE\">\\n<value>\\'\\'</value>\\n</attribute>\\n<attribute type=\"guid\">\\n<value>\\'\\'</value>\\n</attribute>\\n<attribute type=\"failureReason\">\\n<value>\\'\\'</value>\\n</attribute>\\n<attribute type=\"localDir\">\\n<value>None</value>\\n</attribute>\\n<attribute type=\"subfiles\">\\n<sequence>\\n</sequence>\\n</attribute>\\n<attribute type=\"credential_requirements\">\\n<class category=\"CredentialRequirement\" type=\"DiracProxy\" version=\"1.0\">\\n<attribute type=\"dirac_env\">\\n<value>None</value>\\n</attribute>\\n<attribute type=\"validTime\">\\n<value>None</value>\\n</attribute>\\n<attribute type=\"group\">\\n<value>\\'lhcb_user\\'</value>\\n</attribute>\\n<attribute type=\"encodeDefaultProxyFileName\">\\n<value>False</value>\\n</attribute>\\n</class>\\n</attribute>\\n</class>\\n<class category=\"gangafiles\" type=\"DiracFile\" version=\"1.1\">\\n<attribute type=\"remoteDir\">\\n<value>\\'\\'</value>\\n</attribute>\\n<attribute type=\"lfn\">\\n<value>\\'/lhcb/LHCb/Collision18/LEPTONIC.MDST/00079436/0000/00079436_00001161_1.leptonic.mdst\\'</value>\\n</attribute>\\n<attribute type=\"locations\">\\n<sequence>\\n</sequence>\\n</attribute>\\n<attribute type=\"typePattern\">\\n<value>\\'\\'</value>\\n</attribute>\\n<attribute type=\"compressed\">\\n<value>False</value>\\n</attribute>\\n<attribute type=\"defaultSE\">\\n<value>\\'\\'</value>\\n</attribute>\\n<attribute type=\"guid\">\\n<value>\\'\\'</value>\\n</attribute>\\n<attribute type=\"failureReason\">\\n<value>\\'\\'</value>\\n</attribute>\\n<attribute type=\"localDir\">\\n<value>None</value>\\n</attribute>\\n<attribute type=\"subfiles\">\\n<sequence>\\n</sequence>\\n</attribute>\\n<attribute type=\"credential_requirements\">\\n<class category=\"CredentialRequirement\" type=\"DiracProxy\" version=\"1.0\">\\n<attribute type=\"dirac_env\">\\n<value>None</value>\\n</attribute>\\n<attribute type=\"validTime\">\\n<value>None</value>\\n</attribute>\\n<attribute type=\"group\">\\n<value>\\'lhcb_user\\'</value>\\n</attribute>\\n<attribute type=\"encodeDefaultProxyFileName\">\\n<value>False</value>\\n</attribute>\\n</class>\\n</attribute>\\n</class>\\n<class category=\"gangafiles\" type=\"DiracFile\" version=\"1.1\">\\n<attribute type=\"remoteDir\">\\n<value>\\'\\'</value>\\n</attribute>\\n<attribute type=\"lfn\">\\n<value>\\'/lhcb/LHCb/Collision18/LEPTONIC.MDST/00077434/0005/00077434_00055560_1.leptonic.mdst\\'</value>\\n</attribute>\\n<attribute type=\"locations\">\\n<sequence>\\n</sequence>\\n</attribute>\\n<attribute type=\"typePattern\">\\n<value>\\'\\'</value>\\n</attribute>\\n<attribute type=\"compressed\">\\n<value>False</value>\\n</attribute>\\n<attribute type=\"defaultSE\">\\n<value>\\'\\'</value>\\n</attribute>\\n<attribute type=\"guid\">\\n<value>\\'\\'</value>\\n</attribute>\\n<attribute type=\"failureReason\">\\n<value>\\'\\'</value>\\n</attribute>\\n<attribute type=\"localDir\">\\n<value>None</value>\\n</attribute>\\n<attribute type=\"subfiles\">\\n<sequence>\\n</sequence>\\n</attribute>\\n<attribute type=\"credential_requirements\">\\n<class category=\"CredentialRequirement\" type=\"DiracProxy\" version=\"1.0\">\\n<attribute type=\"dirac_env\">\\n<value>None</value>\\n</attribute>\\n<attribute type=\"validTime\">\\n<value>None</value>\\n</attribute>\\n<attribute type=\"group\">\\n<value>\\'lhcb_user\\'</value>\\n</attribute>\\n<attribute type=\"encodeDefaultProxyFileName\">\\n<value>False</value>\\n</attribute>\\n</class>\\n</attribute>\\n</class>\\n<class category=\"gangafiles\" type=\"DiracFile\" version=\"1.1\">\\n<attribute type=\"remoteDir\">\\n<value>\\'\\'</value>\\n</attribute>\\n<attribute type=\"lfn\">\\n<value>\\'/lhcb/LHCb/Collision18/LEPTONIC.MDST/00077434/0003/00077434_00031060_1.leptonic.mdst\\'</value>\\n</attribute>\\n<attribute type=\"locations\">\\n<sequence>\\n</sequence>\\n</attribute>\\n<attribute type=\"typePattern\">\\n<value>\\'\\'</value>\\n</attribute>\\n<attribute type=\"compressed\">\\n<value>False</value>\\n</attribute>\\n<attribute type=\"defaultSE\">\\n<value>\\'\\'</value>\\n</attribute>\\n<attribute type=\"guid\">\\n<value>\\'\\'</value>\\n</attribute>\\n<attribute type=\"failureReason\">\\n<value>\\'\\'</value>\\n</attribute>\\n<attribute type=\"localDir\">\\n<value>None</value>\\n</attribute>\\n<attribute type=\"subfiles\">\\n<sequence>\\n</sequence>\\n</attribute>\\n<attribute type=\"credential_requirements\">\\n<class category=\"CredentialRequirement\" type=\"DiracProxy\" version=\"1.0\">\\n<attribute type=\"dirac_env\">\\n<value>None</value>\\n</attribute>\\n<attribute type=\"validTime\">\\n<value>None</value>\\n</attribute>\\n<attribute type=\"group\">\\n<value>\\'lhcb_user\\'</value>\\n</attribute>\\n<attribute type=\"encodeDefaultProxyFileName\">\\n<value>False</value>\\n</attribute>\\n</class>\\n</attribute>\\n</class>\\n<class category=\"gangafiles\" type=\"DiracFile\" version=\"1.1\">\\n<attribute type=\"remoteDir\">\\n<value>\\'\\'</value>\\n</attribute>\\n<attribute type=\"lfn\">\\n<value>\\'/lhcb/LHCb/Collision18/LEPTONIC.MDST/00075559/0000/00075559_00000492_1.leptonic.mdst\\'</value>\\n</attribute>\\n<attribute type=\"locations\">\\n<sequence>\\n</sequence>\\n</attribute>\\n<attribute type=\"typePattern\">\\n<value>\\'\\'</value>\\n</attribute>\\n<attribute type=\"compressed\">\\n<value>False</value>\\n</attribute>\\n<attribute type=\"defaultSE\">\\n<value>\\'\\'</value>\\n</attribute>\\n<attribute type=\"guid\">\\n<value>\\'\\'</value>\\n</attribute>\\n<attribute type=\"failureReason\">\\n<value>\\'\\'</value>\\n</attribute>\\n<attribute type=\"localDir\">\\n<value>None</value>\\n</attribute>\\n<attribute type=\"subfiles\">\\n<sequence>\\n</sequence>\\n</attribute>\\n<attribute type=\"credential_requirements\">\\n<class category=\"CredentialRequirement\" type=\"DiracProxy\" version=\"1.0\">\\n<attribute type=\"dirac_env\">\\n<value>None</value>\\n</attribute>\\n<attribute type=\"validTime\">\\n<value>None</value>\\n</attribute>\\n<attribute type=\"group\">\\n<value>\\'lhcb_user\\'</value>\\n</attribute>\\n<attribute type=\"encodeDefaultProxyFileName\">\\n<value>False</value>\\n</attribute>\\n</class>\\n</attribute>\\n</class>\\n<class category=\"gangafiles\" type=\"DiracFile\" version=\"1.1\">\\n<attribute type=\"remoteDir\">\\n<value>\\'\\'</value>\\n</attribute>\\n<attribute type=\"lfn\">\\n<value>\\'/lhcb/LHCb/Collision18/LEPTONIC.MDST/00075559/0000/00075559_00000958_1.leptonic.mdst\\'</value>\\n</attribute>\\n<attribute type=\"locations\">\\n<sequence>\\n</sequence>\\n</attribute>\\n<attribute type=\"typePattern\">\\n<value>\\'\\'</value>\\n</attribute>\\n<attribute type=\"compressed\">\\n<value>False</value>\\n</attribute>\\n<attribute type=\"defaultSE\">\\n<value>\\'\\'</value>\\n</attribute>\\n<attribute type=\"guid\">\\n<value>\\'\\'</value>\\n</attribute>\\n<attribute type=\"failureReason\">\\n<value>\\'\\'</value>\\n</attribute>\\n<attribute type=\"localDir\">\\n<value>None</value>\\n</attribute>\\n<attribute type=\"subfiles\">\\n<sequence>\\n</sequence>\\n</attribute>\\n<attribute type=\"credential_requirements\">\\n<class category=\"CredentialRequirement\" type=\"DiracProxy\" version=\"1.0\">\\n<attribute type=\"dirac_env\">\\n<value>None</value>\\n</attribute>\\n<attribute type=\"validTime\">\\n<value>None</value>\\n</attribute>\\n<attribute type=\"group\">\\n<value>\\'lhcb_user\\'</value>\\n</attribute>\\n<attribute type=\"encodeDefaultProxyFileName\">\\n<value>False</value>\\n</attribute>\\n</class>\\n</attribute>\\n</class>\\n<class category=\"gangafiles\" type=\"DiracFile\" version=\"1.1\">\\n<attribute type=\"remoteDir\">\\n<value>\\'\\'</value>\\n</attribute>\\n<attribute type=\"lfn\">\\n<value>\\'/lhcb/LHCb/Collision18/LEPTONIC.MDST/00075559/0003/00075559_00036157_1.leptonic.mdst\\'</value>\\n</attribute>\\n<attribute type=\"locations\">\\n<sequence>\\n</sequence>\\n</attribute>\\n<attribute type=\"typePattern\">\\n<value>\\'\\'</value>\\n</attribute>\\n<attribute type=\"compressed\">\\n<value>False</value>\\n</attribute>\\n<attribute type=\"defaultSE\">\\n<value>\\'\\'</value>\\n</attribute>\\n<attribute type=\"guid\">\\n<value>\\'\\'</value>\\n</attribute>\\n<attribute type=\"failureReason\">\\n<value>\\'\\'</value>\\n</attribute>\\n<attribute type=\"localDir\">\\n<value>None</value>\\n</attribute>\\n<attribute type=\"subfiles\">\\n<sequence>\\n</sequence>\\n</attribute>\\n<attribute type=\"credential_requirements\">\\n<class category=\"CredentialRequirement\" type=\"DiracProxy\" version=\"1.0\">\\n<attribute type=\"dirac_env\">\\n<value>None</value>\\n</attribute>\\n<attribute type=\"validTime\">\\n<value>None</value>\\n</attribute>\\n<attribute type=\"group\">\\n<value>\\'lhcb_user\\'</value>\\n</attribute>\\n<attribute type=\"encodeDefaultProxyFileName\">\\n<value>False</value>\\n</attribute>\\n</class>\\n</attribute>\\n</class>\\n<class category=\"gangafiles\" type=\"DiracFile\" version=\"1.1\">\\n<attribute type=\"remoteDir\">\\n<value>\\'\\'</value>\\n</attribute>\\n<attribute type=\"lfn\">\\n<value>\\'/lhcb/LHCb/Collision18/LEPTONIC.MDST/00079436/0000/00079436_00000243_1.leptonic.mdst\\'</value>\\n</attribute>\\n<attribute type=\"locations\">\\n<sequence>\\n</sequence>\\n</attribute>\\n<attribute type=\"typePattern\">\\n<value>\\'\\'</value>\\n</attribute>\\n<attribute type=\"compressed\">\\n<value>False</value>\\n</attribute>\\n<attribute type=\"defaultSE\">\\n<value>\\'\\'</value>\\n</attribute>\\n<attribute type=\"guid\">\\n<value>\\'\\'</value>\\n</attribute>\\n<attribute type=\"failureReason\">\\n<value>\\'\\'</value>\\n</attribute>\\n<attribute type=\"localDir\">\\n<value>None</value>\\n</attribute>\\n<attribute type=\"subfiles\">\\n<sequence>\\n</sequence>\\n</attribute>\\n<attribute type=\"credential_requirements\">\\n<class category=\"CredentialRequirement\" type=\"DiracProxy\" version=\"1.0\">\\n<attribute type=\"dirac_env\">\\n<value>None</value>\\n</attribute>\\n<attribute type=\"validTime\">\\n<value>None</value>\\n</attribute>\\n<attribute type=\"group\">\\n<value>\\'lhcb_user\\'</value>\\n</attribute>\\n<attribute type=\"encodeDefaultProxyFileName\">\\n<value>False</value>\\n</attribute>\\n</class>\\n</attribute>\\n</class>\\n<class category=\"gangafiles\" type=\"DiracFile\" version=\"1.1\">\\n<attribute type=\"remoteDir\">\\n<value>\\'\\'</value>\\n</attribute>\\n<attribute type=\"lfn\">\\n<value>\\'/lhcb/LHCb/Collision18/LEPTONIC.MDST/00077434/0003/00077434_00037032_1.leptonic.mdst\\'</value>\\n</attribute>\\n<attribute type=\"locations\">\\n<sequence>\\n</sequence>\\n</attribute>\\n<attribute type=\"typePattern\">\\n<value>\\'\\'</value>\\n</attribute>\\n<attribute type=\"compressed\">\\n<value>False</value>\\n</attribute>\\n<attribute type=\"defaultSE\">\\n<value>\\'\\'</value>\\n</attribute>\\n<attribute type=\"guid\">\\n<value>\\'\\'</value>\\n</attribute>\\n<attribute type=\"failureReason\">\\n<value>\\'\\'</value>\\n</attribute>\\n<attribute type=\"localDir\">\\n<value>None</value>\\n</attribute>\\n<attribute type=\"subfiles\">\\n<sequence>\\n</sequence>\\n</attribute>\\n<attribute type=\"credential_requirements\">\\n<class category=\"CredentialRequirement\" type=\"DiracProxy\" version=\"1.0\">\\n<attribute type=\"dirac_env\">\\n<value>None</value>\\n</attribute>\\n<attribute type=\"validTime\">\\n<value>None</value>\\n</attribute>\\n<attribute type=\"group\">\\n<value>\\'lhcb_user\\'</value>\\n</attribute>\\n<attribute type=\"encodeDefaultProxyFileName\">\\n<value>False</value>\\n</attribute>\\n</class>\\n</attribute>\\n</class>\\n<class category=\"gangafiles\" type=\"DiracFile\" version=\"1.1\">\\n<attribute type=\"remoteDir\">\\n<value>\\'\\'</value>\\n</attribute>\\n<attribute type=\"lfn\">\\n<value>\\'/lhcb/LHCb/Collision18/LEPTONIC.MDST/00075559/0003/00075559_00036563_1.leptonic.mdst\\'</value>\\n</attribute>\\n<attribute type=\"locations\">\\n<sequence>\\n</sequence>\\n</attribute>\\n<attribute type=\"typePattern\">\\n<value>\\'\\'</value>\\n</attribute>\\n<attribute type=\"compressed\">\\n<value>False</value>\\n</attribute>\\n<attribute type=\"defaultSE\">\\n<value>\\'\\'</value>\\n</attribute>\\n<attribute type=\"guid\">\\n<value>\\'\\'</value>\\n</attribute>\\n<attribute type=\"failureReason\">\\n<value>\\'\\'</value>\\n</attribute>\\n<attribute type=\"localDir\">\\n<value>None</value>\\n</attribute>\\n<attribute type=\"subfiles\">\\n<sequence>\\n</sequence>\\n</attribute>\\n<attribute type=\"credential_requirements\">\\n<class category=\"CredentialRequirement\" type=\"DiracProxy\" version=\"1.0\">\\n<attribute type=\"dirac_env\">\\n<value>None</value>\\n</attribute>\\n<attribute type=\"validTime\">\\n<value>None</value>\\n</attribute>\\n<attribute type=\"group\">\\n<value>\\'lhcb_user\\'</value>\\n</attribute>\\n<attribute type=\"encodeDefaultProxyFileName\">\\n<value>False</value>\\n</attribute>\\n</class>\\n</attribute>\\n</class>\\n<class category=\"gangafiles\" type=\"DiracFile\" version=\"1.1\">\\n<attribute type=\"remoteDir\">\\n<value>\\'\\'</value>\\n</attribute>\\n<attribute type=\"lfn\">\\n<value>\\'/lhcb/LHCb/Collision18/LEPTONIC.MDST/00075559/0000/00075559_00009311_1.leptonic.mdst\\'</value>\\n</attribute>\\n<attribute type=\"locations\">\\n<sequence>\\n</sequence>\\n</attribute>\\n<attribute type=\"typePattern\">\\n<value>\\'\\'</value>\\n</attribute>\\n<attribute type=\"compressed\">\\n<value>False</value>\\n</attribute>\\n<attribute type=\"defaultSE\">\\n<value>\\'\\'</value>\\n</attribute>\\n<attribute type=\"guid\">\\n<value>\\'\\'</value>\\n</attribute>\\n<attribute type=\"failureReason\">\\n<value>\\'\\'</value>\\n</attribute>\\n<attribute type=\"localDir\">\\n<value>None</value>\\n</attribute>\\n<attribute type=\"subfiles\">\\n<sequence>\\n</sequence>\\n</attribute>\\n<attribute type=\"credential_requirements\">\\n<class category=\"CredentialRequirement\" type=\"DiracProxy\" version=\"1.0\">\\n<attribute type=\"dirac_env\">\\n<value>None</value>\\n</attribute>\\n<attribute type=\"validTime\">\\n<value>None</value>\\n</attribute>\\n<attribute type=\"group\">\\n<value>\\'lhcb_user\\'</value>\\n</attribute>\\n<attribute type=\"encodeDefaultProxyFileName\">\\n<value>False</value>\\n</attribute>\\n</class>\\n</attribute>\\n</class>\\n</attribute>]',\n",
       " 'outputdata': b'[<attribute type=\"outputdata\">\\n<value>None</value>\\n</attribute>]',\n",
       " 'splitter': b'[<attribute type=\"splitter\">\\n<value>None</value>\\n</attribute>]',\n",
       " 'subjobs': b'[<attribute type=\"subjobs\">\\n<sequence>\\n</sequence>\\n</attribute>]',\n",
       " 'master': b'[]',\n",
       " 'postprocessors': b'[<attribute type=\"postprocessors\">\\n<class category=\"postprocessor\" type=\"MultiPostProcessor\" version=\"1.0\">\\n<attribute type=\"process_objects\">\\n<sequence>\\n</sequence>\\n</attribute>\\n</class>\\n</attribute>]',\n",
       " 'virtualization': b'[]',\n",
       " 'merger': b'[<attribute type=\"merger\">\\n<value>None</value>\\n</attribute>]',\n",
       " 'do_auto_resubmit': b'[<attribute type=\"do_auto_resubmit\">\\n<value>False</value>\\n</attribute>]',\n",
       " 'metadata': b'[<attribute type=\"metadata\">\\n<class category=\"metadata\" type=\"MetadataDict\" version=\"1.0\">\\n<attribute type=\"data\">\\n<value>{}</value>\\n</attribute>\\n</class>\\n</attribute>]',\n",
       " 'fqid': b'[]',\n",
       " 'been_queued': b'[]',\n",
       " 'parallel_submit': b'[]'}"
      ]
     },
     "execution_count": 112,
     "metadata": {},
     "output_type": "execute_result"
    }
   ],
   "source": [
    "blobs"
   ]
  },
  {
   "cell_type": "code",
   "execution_count": 115,
   "metadata": {},
   "outputs": [],
   "source": [
    "import pickle\n",
    "pickle.dump(blobs, open(\"temp.pkl\", \"wb\"))"
   ]
  },
  {
   "cell_type": "code",
   "execution_count": 106,
   "metadata": {},
   "outputs": [
    {
     "data": {
      "text/plain": [
       "b'[<attribute type=\"inputsandbox\">\\n<sequence>\\n</sequence>\\n</attribute>]'"
      ]
     },
     "execution_count": 106,
     "metadata": {},
     "output_type": "execute_result"
    }
   ],
   "source": [
    "bytes(str(data), \"utf-8\")"
   ]
  },
  {
   "cell_type": "code",
   "execution_count": 109,
   "metadata": {},
   "outputs": [
    {
     "data": {
      "text/plain": [
       "b'[<attribute type=\"inputsandbox\">\\n<sequence>\\n</sequence>\\n</attribute>]'"
      ]
     },
     "execution_count": 109,
     "metadata": {},
     "output_type": "execute_result"
    }
   ],
   "source": [
    "str.encode(str(data))"
   ]
  },
  {
   "cell_type": "code",
   "execution_count": null,
   "metadata": {},
   "outputs": [],
   "source": []
  },
  {
   "cell_type": "code",
   "execution_count": 207,
   "metadata": {},
   "outputs": [],
   "source": [
    "            data = file.find_all(\"attribute\", type=\"backend\")"
   ]
  },
  {
   "cell_type": "code",
   "execution_count": 210,
   "metadata": {},
   "outputs": [
    {
     "data": {
      "text/plain": [
       "[<attribute type=\"backend\">\n",
       " <class category=\"backends\" type=\"Dirac\" version=\"3.2\">\n",
       " <attribute type=\"status\">\n",
       " <value>'Done'</value>\n",
       " </attribute>\n",
       " <attribute type=\"diracOpts\">\n",
       " <value>''</value>\n",
       " </attribute>\n",
       " <attribute type=\"settings\">\n",
       " <value>{'CPUTime': 1209600}</value>\n",
       " </attribute>\n",
       " <attribute type=\"normCPUTime\">\n",
       " <value>'106334.04'</value>\n",
       " </attribute>\n",
       " <attribute type=\"downloadSandbox\">\n",
       " <value>True</value>\n",
       " </attribute>\n",
       " <attribute type=\"extraInfo\">\n",
       " <value>'Job Finished Successfully'</value>\n",
       " </attribute>\n",
       " <attribute type=\"actualCE\">\n",
       " <value>'LCG.CNAF.it'</value>\n",
       " </attribute>\n",
       " <attribute type=\"unpackOutputSandbox\">\n",
       " <value>True</value>\n",
       " </attribute>\n",
       " <attribute type=\"blockSubmit\">\n",
       " <value>True</value>\n",
       " </attribute>\n",
       " <attribute type=\"statusInfo\">\n",
       " <value>'Execution Complete'</value>\n",
       " </attribute>\n",
       " <attribute type=\"finaliseOnMaster\">\n",
       " <value>False</value>\n",
       " </attribute>\n",
       " <attribute type=\"id\">\n",
       " <value>259531729</value>\n",
       " </attribute>\n",
       " <attribute type=\"credential_requirements\">\n",
       " <class category=\"CredentialRequirement\" type=\"DiracProxy\" version=\"1.0\">\n",
       " <attribute type=\"dirac_env\">\n",
       " <value>None</value>\n",
       " </attribute>\n",
       " <attribute type=\"validTime\">\n",
       " <value>None</value>\n",
       " </attribute>\n",
       " <attribute type=\"group\">\n",
       " <value>'lhcb_user'</value>\n",
       " </attribute>\n",
       " <attribute type=\"encodeDefaultProxyFileName\">\n",
       " <value>False</value>\n",
       " </attribute>\n",
       " </class>\n",
       " </attribute>\n",
       " </class>\n",
       " </attribute>]"
      ]
     },
     "execution_count": 210,
     "metadata": {},
     "output_type": "execute_result"
    }
   ],
   "source": [
    "data"
   ]
  },
  {
   "cell_type": "markdown",
   "metadata": {},
   "source": [
    "# Faking Dataset"
   ]
  },
  {
   "cell_type": "code",
   "execution_count": 2,
   "metadata": {},
   "outputs": [
    {
     "name": "stderr",
     "output_type": "stream",
     "text": [
      "  0%|          | 1/10000 [00:00<38:21,  4.34it/s]\n"
     ]
    }
   ],
   "source": [
    "from tqdm import tqdm\n",
    "filee = \"data.xml\"\n",
    "bo = []\n",
    "dataset = []\n",
    "\n",
    "file = soup(open(filee, 'r'))\n",
    "with tqdm(total=10000) as progress:\n",
    "    for _ in range(10000):\n",
    "        columns = [\"id\", \"status\", \"name\", \"subjobs\", \"application\", \"backend\", \"backend.actualCE\", \"comment\"] # , \"fqid\", \"subjobs status\"\n",
    "        datas = []\n",
    "        for col in columns:\n",
    "            if \".\" in col:\n",
    "                data = file.find_all(\"attribute\", type=col.split(\".\")[0])\n",
    "                data = file.find_all(\"attribute\", type=col.split(\".\")[1])\n",
    "            else:\n",
    "                data = file.find_all(\"attribute\", type=col)\n",
    "            if data:\n",
    "                if col == \"subjobs\":\n",
    "                    datas.append(len(data[0].sequence))\n",
    "                else:\n",
    "                    datas.append(data[0].value.text)\n",
    "            else:\n",
    "    #             print(col)\n",
    "                datas.append(\"None\")\n",
    "\n",
    "        blob_attrs = ['jid', 'inputsandbox', 'outputsandbox', 'info', 'comment', 'time', 'application', 'backend', 'inputfiles', 'outputfiles', 'non_copyable_outputfiles', 'id', 'status', 'name', 'inputdir', 'outputdir', 'inputdata', 'outputdata', 'splitter', 'subjobs', 'master', 'postprocessors', 'virtualization', 'merger', 'do_auto_resubmit', 'metadata', 'been_queued', 'parallel_submit'] # removed fqid\n",
    "        blobs = {}\n",
    "        for attr in blob_attrs:\n",
    "            data = file.find_all(\"attribute\", type=attr)\n",
    "            blobs[attr] = str.encode(str(data))            \n",
    "            blobs['jid'] = _+1\n",
    "        bo.append(blobs)\n",
    "        dataset.append(datas)\n",
    "        progress.update(1)\n",
    "        break"
   ]
  },
  {
   "cell_type": "code",
   "execution_count": 3,
   "metadata": {},
   "outputs": [],
   "source": [
    "dataset = [datas for _ in range(1000000)]\n",
    "bo = [blobs for _ in range(1000000)]"
   ]
  },
  {
   "cell_type": "code",
   "execution_count": 4,
   "metadata": {},
   "outputs": [],
   "source": [
    "import pickle\n",
    "pickle.dump(\n",
    "    dataset , open(\"rows.pkl\", \"wb\")\n",
    ")\n",
    "\n",
    "pickle.dump(\n",
    "    bo, open(\"blobs.pkl\", \"wb\")\n",
    ")"
   ]
  },
  {
   "cell_type": "code",
   "execution_count": 211,
   "metadata": {},
   "outputs": [
    {
     "data": {
      "text/html": [
       "<div>\n",
       "<style scoped>\n",
       "    .dataframe tbody tr th:only-of-type {\n",
       "        vertical-align: middle;\n",
       "    }\n",
       "\n",
       "    .dataframe tbody tr th {\n",
       "        vertical-align: top;\n",
       "    }\n",
       "\n",
       "    .dataframe thead th {\n",
       "        text-align: right;\n",
       "    }\n",
       "</style>\n",
       "<table border=\"1\" class=\"dataframe\">\n",
       "  <thead>\n",
       "    <tr style=\"text-align: right;\">\n",
       "      <th></th>\n",
       "      <th>id</th>\n",
       "      <th>status</th>\n",
       "      <th>name</th>\n",
       "      <th>subjobs</th>\n",
       "      <th>application</th>\n",
       "      <th>backend</th>\n",
       "      <th>backend.actualCE</th>\n",
       "      <th>comment</th>\n",
       "    </tr>\n",
       "  </thead>\n",
       "  <tbody>\n",
       "    <tr>\n",
       "      <td>0</td>\n",
       "      <td>0</td>\n",
       "      <td>'completed'</td>\n",
       "      <td>None</td>\n",
       "      <td>1</td>\n",
       "      <td>'85c74d55153c2b535aa07b2067c9381e'</td>\n",
       "      <td>'Done'</td>\n",
       "      <td>'LCG.CNAF.it'</td>\n",
       "      <td>''</td>\n",
       "    </tr>\n",
       "    <tr>\n",
       "      <td>1</td>\n",
       "      <td>0</td>\n",
       "      <td>'completed'</td>\n",
       "      <td>None</td>\n",
       "      <td>1</td>\n",
       "      <td>'85c74d55153c2b535aa07b2067c9381e'</td>\n",
       "      <td>'Done'</td>\n",
       "      <td>'LCG.CNAF.it'</td>\n",
       "      <td>''</td>\n",
       "    </tr>\n",
       "    <tr>\n",
       "      <td>2</td>\n",
       "      <td>0</td>\n",
       "      <td>'completed'</td>\n",
       "      <td>None</td>\n",
       "      <td>1</td>\n",
       "      <td>'85c74d55153c2b535aa07b2067c9381e'</td>\n",
       "      <td>'Done'</td>\n",
       "      <td>'LCG.CNAF.it'</td>\n",
       "      <td>''</td>\n",
       "    </tr>\n",
       "    <tr>\n",
       "      <td>3</td>\n",
       "      <td>0</td>\n",
       "      <td>'completed'</td>\n",
       "      <td>None</td>\n",
       "      <td>1</td>\n",
       "      <td>'85c74d55153c2b535aa07b2067c9381e'</td>\n",
       "      <td>'Done'</td>\n",
       "      <td>'LCG.CNAF.it'</td>\n",
       "      <td>''</td>\n",
       "    </tr>\n",
       "    <tr>\n",
       "      <td>4</td>\n",
       "      <td>0</td>\n",
       "      <td>'completed'</td>\n",
       "      <td>None</td>\n",
       "      <td>1</td>\n",
       "      <td>'85c74d55153c2b535aa07b2067c9381e'</td>\n",
       "      <td>'Done'</td>\n",
       "      <td>'LCG.CNAF.it'</td>\n",
       "      <td>''</td>\n",
       "    </tr>\n",
       "  </tbody>\n",
       "</table>\n",
       "</div>"
      ],
      "text/plain": [
       "  id       status  name  subjobs                         application backend  \\\n",
       "0  0  'completed'  None        1  '85c74d55153c2b535aa07b2067c9381e'  'Done'   \n",
       "1  0  'completed'  None        1  '85c74d55153c2b535aa07b2067c9381e'  'Done'   \n",
       "2  0  'completed'  None        1  '85c74d55153c2b535aa07b2067c9381e'  'Done'   \n",
       "3  0  'completed'  None        1  '85c74d55153c2b535aa07b2067c9381e'  'Done'   \n",
       "4  0  'completed'  None        1  '85c74d55153c2b535aa07b2067c9381e'  'Done'   \n",
       "\n",
       "  backend.actualCE comment  \n",
       "0    'LCG.CNAF.it'      ''  \n",
       "1    'LCG.CNAF.it'      ''  \n",
       "2    'LCG.CNAF.it'      ''  \n",
       "3    'LCG.CNAF.it'      ''  \n",
       "4    'LCG.CNAF.it'      ''  "
      ]
     },
     "execution_count": 211,
     "metadata": {},
     "output_type": "execute_result"
    }
   ],
   "source": [
    "pd.DataFrame(dataset, columns = [\"id\", \"status\", \"name\", \"subjobs\", \"application\", \"backend\", \"backend.actualCE\", \"comment\"]).head()"
   ]
  },
  {
   "cell_type": "code",
   "execution_count": 214,
   "metadata": {},
   "outputs": [],
   "source": [
    "datas = ['0',\n",
    " \"'completed'\",\n",
    " 'None',\n",
    " 1,\n",
    " \"'85c74d55153c2b535aa07b2067c9381e'\",\n",
    " \"Dirac\",\n",
    " \"'LCG.CNAF.it'\",\n",
    " \"None\"]"
   ]
  },
  {
   "cell_type": "code",
   "execution_count": 225,
   "metadata": {},
   "outputs": [
    {
     "ename": "ValueError",
     "evalue": "If using all scalar values, you must pass an index",
     "output_type": "error",
     "traceback": [
      "\u001b[0;31m---------------------------------------------------------------------------\u001b[0m",
      "\u001b[0;31mValueError\u001b[0m                                Traceback (most recent call last)",
      "\u001b[0;32m<ipython-input-225-7aa5e69e83e2>\u001b[0m in \u001b[0;36m<module>\u001b[0;34m\u001b[0m\n\u001b[0;32m----> 1\u001b[0;31m \u001b[0mpd\u001b[0m\u001b[0;34m.\u001b[0m\u001b[0mDataFrame\u001b[0m\u001b[0;34m(\u001b[0m\u001b[0mblobs\u001b[0m\u001b[0;34m,\u001b[0m \u001b[0mcolumns\u001b[0m \u001b[0;34m=\u001b[0m \u001b[0;34m[\u001b[0m\u001b[0;34m\"id\"\u001b[0m\u001b[0;34m,\u001b[0m \u001b[0;34m\"status\"\u001b[0m\u001b[0;34m,\u001b[0m \u001b[0;34m\"name\"\u001b[0m\u001b[0;34m,\u001b[0m \u001b[0;34m\"subjobs\"\u001b[0m\u001b[0;34m,\u001b[0m \u001b[0;34m\"application\"\u001b[0m\u001b[0;34m,\u001b[0m \u001b[0;34m\"backend\"\u001b[0m\u001b[0;34m,\u001b[0m \u001b[0;34m\"backend.actualCE\"\u001b[0m\u001b[0;34m,\u001b[0m \u001b[0;34m\"comment\"\u001b[0m\u001b[0;34m]\u001b[0m\u001b[0;34m)\u001b[0m\u001b[0;34m\u001b[0m\u001b[0;34m\u001b[0m\u001b[0m\n\u001b[0m",
      "\u001b[0;32m~/anaconda3/lib/python3.7/site-packages/pandas/core/frame.py\u001b[0m in \u001b[0;36m__init__\u001b[0;34m(self, data, index, columns, dtype, copy)\u001b[0m\n\u001b[1;32m    409\u001b[0m             )\n\u001b[1;32m    410\u001b[0m         \u001b[0;32melif\u001b[0m \u001b[0misinstance\u001b[0m\u001b[0;34m(\u001b[0m\u001b[0mdata\u001b[0m\u001b[0;34m,\u001b[0m \u001b[0mdict\u001b[0m\u001b[0;34m)\u001b[0m\u001b[0;34m:\u001b[0m\u001b[0;34m\u001b[0m\u001b[0;34m\u001b[0m\u001b[0m\n\u001b[0;32m--> 411\u001b[0;31m             \u001b[0mmgr\u001b[0m \u001b[0;34m=\u001b[0m \u001b[0minit_dict\u001b[0m\u001b[0;34m(\u001b[0m\u001b[0mdata\u001b[0m\u001b[0;34m,\u001b[0m \u001b[0mindex\u001b[0m\u001b[0;34m,\u001b[0m \u001b[0mcolumns\u001b[0m\u001b[0;34m,\u001b[0m \u001b[0mdtype\u001b[0m\u001b[0;34m=\u001b[0m\u001b[0mdtype\u001b[0m\u001b[0;34m)\u001b[0m\u001b[0;34m\u001b[0m\u001b[0;34m\u001b[0m\u001b[0m\n\u001b[0m\u001b[1;32m    412\u001b[0m         \u001b[0;32melif\u001b[0m \u001b[0misinstance\u001b[0m\u001b[0;34m(\u001b[0m\u001b[0mdata\u001b[0m\u001b[0;34m,\u001b[0m \u001b[0mma\u001b[0m\u001b[0;34m.\u001b[0m\u001b[0mMaskedArray\u001b[0m\u001b[0;34m)\u001b[0m\u001b[0;34m:\u001b[0m\u001b[0;34m\u001b[0m\u001b[0;34m\u001b[0m\u001b[0m\n\u001b[1;32m    413\u001b[0m             \u001b[0;32mimport\u001b[0m \u001b[0mnumpy\u001b[0m\u001b[0;34m.\u001b[0m\u001b[0mma\u001b[0m\u001b[0;34m.\u001b[0m\u001b[0mmrecords\u001b[0m \u001b[0;32mas\u001b[0m \u001b[0mmrecords\u001b[0m\u001b[0;34m\u001b[0m\u001b[0;34m\u001b[0m\u001b[0m\n",
      "\u001b[0;32m~/anaconda3/lib/python3.7/site-packages/pandas/core/internals/construction.py\u001b[0m in \u001b[0;36minit_dict\u001b[0;34m(data, index, columns, dtype)\u001b[0m\n\u001b[1;32m    229\u001b[0m             \u001b[0;31m# GH10856\u001b[0m\u001b[0;34m\u001b[0m\u001b[0;34m\u001b[0m\u001b[0;34m\u001b[0m\u001b[0m\n\u001b[1;32m    230\u001b[0m             \u001b[0;31m# raise ValueError if only scalars in dict\u001b[0m\u001b[0;34m\u001b[0m\u001b[0;34m\u001b[0m\u001b[0;34m\u001b[0m\u001b[0m\n\u001b[0;32m--> 231\u001b[0;31m             \u001b[0mindex\u001b[0m \u001b[0;34m=\u001b[0m \u001b[0mextract_index\u001b[0m\u001b[0;34m(\u001b[0m\u001b[0marrays\u001b[0m\u001b[0;34m[\u001b[0m\u001b[0;34m~\u001b[0m\u001b[0mmissing\u001b[0m\u001b[0;34m]\u001b[0m\u001b[0;34m)\u001b[0m\u001b[0;34m\u001b[0m\u001b[0;34m\u001b[0m\u001b[0m\n\u001b[0m\u001b[1;32m    232\u001b[0m         \u001b[0;32melse\u001b[0m\u001b[0;34m:\u001b[0m\u001b[0;34m\u001b[0m\u001b[0;34m\u001b[0m\u001b[0m\n\u001b[1;32m    233\u001b[0m             \u001b[0mindex\u001b[0m \u001b[0;34m=\u001b[0m \u001b[0mensure_index\u001b[0m\u001b[0;34m(\u001b[0m\u001b[0mindex\u001b[0m\u001b[0;34m)\u001b[0m\u001b[0;34m\u001b[0m\u001b[0;34m\u001b[0m\u001b[0m\n",
      "\u001b[0;32m~/anaconda3/lib/python3.7/site-packages/pandas/core/internals/construction.py\u001b[0m in \u001b[0;36mextract_index\u001b[0;34m(data)\u001b[0m\n\u001b[1;32m    356\u001b[0m \u001b[0;34m\u001b[0m\u001b[0m\n\u001b[1;32m    357\u001b[0m         \u001b[0;32mif\u001b[0m \u001b[0;32mnot\u001b[0m \u001b[0mindexes\u001b[0m \u001b[0;32mand\u001b[0m \u001b[0;32mnot\u001b[0m \u001b[0mraw_lengths\u001b[0m\u001b[0;34m:\u001b[0m\u001b[0;34m\u001b[0m\u001b[0;34m\u001b[0m\u001b[0m\n\u001b[0;32m--> 358\u001b[0;31m             \u001b[0;32mraise\u001b[0m \u001b[0mValueError\u001b[0m\u001b[0;34m(\u001b[0m\u001b[0;34m\"If using all scalar values, you must pass an index\"\u001b[0m\u001b[0;34m)\u001b[0m\u001b[0;34m\u001b[0m\u001b[0;34m\u001b[0m\u001b[0m\n\u001b[0m\u001b[1;32m    359\u001b[0m \u001b[0;34m\u001b[0m\u001b[0m\n\u001b[1;32m    360\u001b[0m         \u001b[0;32mif\u001b[0m \u001b[0mhave_series\u001b[0m\u001b[0;34m:\u001b[0m\u001b[0;34m\u001b[0m\u001b[0;34m\u001b[0m\u001b[0m\n",
      "\u001b[0;31mValueError\u001b[0m: If using all scalar values, you must pass an index"
     ]
    }
   ],
   "source": [
    "pd.DataFrame(bolbs, columns = [\"id\", \"status\", \"name\", \"subjobs\", \"application\", \"backend\", \"backend.actualCE\", \"comment\"])"
   ]
  },
  {
   "cell_type": "code",
   "execution_count": 226,
   "metadata": {},
   "outputs": [
    {
     "data": {
      "text/html": [
       "<div>\n",
       "<style scoped>\n",
       "    .dataframe tbody tr th:only-of-type {\n",
       "        vertical-align: middle;\n",
       "    }\n",
       "\n",
       "    .dataframe tbody tr th {\n",
       "        vertical-align: top;\n",
       "    }\n",
       "\n",
       "    .dataframe thead th {\n",
       "        text-align: right;\n",
       "    }\n",
       "</style>\n",
       "<table border=\"1\" class=\"dataframe\">\n",
       "  <thead>\n",
       "    <tr style=\"text-align: right;\">\n",
       "      <th></th>\n",
       "      <th>inputsandbox</th>\n",
       "      <th>outputsandbox</th>\n",
       "      <th>info</th>\n",
       "      <th>comment</th>\n",
       "      <th>time</th>\n",
       "      <th>application</th>\n",
       "      <th>backend</th>\n",
       "      <th>inputfiles</th>\n",
       "      <th>outputfiles</th>\n",
       "      <th>non_copyable_outputfiles</th>\n",
       "      <th>...</th>\n",
       "      <th>splitter</th>\n",
       "      <th>subjobs</th>\n",
       "      <th>master</th>\n",
       "      <th>postprocessors</th>\n",
       "      <th>virtualization</th>\n",
       "      <th>merger</th>\n",
       "      <th>do_auto_resubmit</th>\n",
       "      <th>metadata</th>\n",
       "      <th>been_queued</th>\n",
       "      <th>parallel_submit</th>\n",
       "    </tr>\n",
       "  </thead>\n",
       "  <tbody>\n",
       "    <tr>\n",
       "      <td>0</td>\n",
       "      <td>b'[&lt;attribute type=\"inputsandbox\"&gt;\\n&lt;sequence&gt;...</td>\n",
       "      <td>b'[&lt;attribute type=\"outputsandbox\"&gt;\\n&lt;sequence...</td>\n",
       "      <td>b'[&lt;attribute type=\"info\"&gt;\\n&lt;class category=\"j...</td>\n",
       "      <td>b'[&lt;attribute type=\"comment\"&gt;\\n&lt;value&gt;\\'\\'&lt;/va...</td>\n",
       "      <td>b'[&lt;attribute type=\"time\"&gt;\\n&lt;class category=\"j...</td>\n",
       "      <td>b'[&lt;attribute type=\"application\"&gt;\\n&lt;class cate...</td>\n",
       "      <td>b'[&lt;attribute type=\"backend\"&gt;\\n&lt;class category...</td>\n",
       "      <td>b'[&lt;attribute type=\"inputfiles\"&gt;\\n&lt;sequence&gt;\\n...</td>\n",
       "      <td>b'[&lt;attribute type=\"outputfiles\"&gt;\\n&lt;sequence&gt;\\...</td>\n",
       "      <td>b'[&lt;attribute type=\"non_copyable_outputfiles\"&gt;...</td>\n",
       "      <td>...</td>\n",
       "      <td>b'[&lt;attribute type=\"splitter\"&gt;\\n&lt;value&gt;None&lt;/v...</td>\n",
       "      <td>b'[&lt;attribute type=\"subjobs\"&gt;\\n&lt;sequence&gt;\\n&lt;/s...</td>\n",
       "      <td>b'[]'</td>\n",
       "      <td>b'[&lt;attribute type=\"postprocessors\"&gt;\\n&lt;class c...</td>\n",
       "      <td>b'[]'</td>\n",
       "      <td>b'[&lt;attribute type=\"merger\"&gt;\\n&lt;value&gt;None&lt;/val...</td>\n",
       "      <td>b'[&lt;attribute type=\"do_auto_resubmit\"&gt;\\n&lt;value...</td>\n",
       "      <td>b'[&lt;attribute type=\"metadata\"&gt;\\n&lt;class categor...</td>\n",
       "      <td>b'[]'</td>\n",
       "      <td>b'[]'</td>\n",
       "    </tr>\n",
       "  </tbody>\n",
       "</table>\n",
       "<p>1 rows × 27 columns</p>\n",
       "</div>"
      ],
      "text/plain": [
       "                                        inputsandbox  \\\n",
       "0  b'[<attribute type=\"inputsandbox\">\\n<sequence>...   \n",
       "\n",
       "                                       outputsandbox  \\\n",
       "0  b'[<attribute type=\"outputsandbox\">\\n<sequence...   \n",
       "\n",
       "                                                info  \\\n",
       "0  b'[<attribute type=\"info\">\\n<class category=\"j...   \n",
       "\n",
       "                                             comment  \\\n",
       "0  b'[<attribute type=\"comment\">\\n<value>\\'\\'</va...   \n",
       "\n",
       "                                                time  \\\n",
       "0  b'[<attribute type=\"time\">\\n<class category=\"j...   \n",
       "\n",
       "                                         application  \\\n",
       "0  b'[<attribute type=\"application\">\\n<class cate...   \n",
       "\n",
       "                                             backend  \\\n",
       "0  b'[<attribute type=\"backend\">\\n<class category...   \n",
       "\n",
       "                                          inputfiles  \\\n",
       "0  b'[<attribute type=\"inputfiles\">\\n<sequence>\\n...   \n",
       "\n",
       "                                         outputfiles  \\\n",
       "0  b'[<attribute type=\"outputfiles\">\\n<sequence>\\...   \n",
       "\n",
       "                            non_copyable_outputfiles  ...  \\\n",
       "0  b'[<attribute type=\"non_copyable_outputfiles\">...  ...   \n",
       "\n",
       "                                            splitter  \\\n",
       "0  b'[<attribute type=\"splitter\">\\n<value>None</v...   \n",
       "\n",
       "                                             subjobs master  \\\n",
       "0  b'[<attribute type=\"subjobs\">\\n<sequence>\\n</s...  b'[]'   \n",
       "\n",
       "                                      postprocessors virtualization  \\\n",
       "0  b'[<attribute type=\"postprocessors\">\\n<class c...          b'[]'   \n",
       "\n",
       "                                              merger  \\\n",
       "0  b'[<attribute type=\"merger\">\\n<value>None</val...   \n",
       "\n",
       "                                    do_auto_resubmit  \\\n",
       "0  b'[<attribute type=\"do_auto_resubmit\">\\n<value...   \n",
       "\n",
       "                                            metadata been_queued  \\\n",
       "0  b'[<attribute type=\"metadata\">\\n<class categor...       b'[]'   \n",
       "\n",
       "  parallel_submit  \n",
       "0           b'[]'  \n",
       "\n",
       "[1 rows x 27 columns]"
      ]
     },
     "execution_count": 226,
     "metadata": {},
     "output_type": "execute_result"
    }
   ],
   "source": [
    "pd.DataFrame([bo[0]], columns=['inputsandbox', 'outputsandbox', 'info', 'comment', 'time', 'application', 'backend', 'inputfiles', 'outputfiles', 'non_copyable_outputfiles', 'id', 'status', 'name', 'inputdir', 'outputdir', 'inputdata', 'outputdata', 'splitter', 'subjobs', 'master', 'postprocessors', 'virtualization', 'merger', 'do_auto_resubmit', 'metadata', 'been_queued', 'parallel_submit'])"
   ]
  },
  {
   "cell_type": "code",
   "execution_count": 240,
   "metadata": {},
   "outputs": [
    {
     "data": {
      "text/html": [
       "<div>\n",
       "<style scoped>\n",
       "    .dataframe tbody tr th:only-of-type {\n",
       "        vertical-align: middle;\n",
       "    }\n",
       "\n",
       "    .dataframe tbody tr th {\n",
       "        vertical-align: top;\n",
       "    }\n",
       "\n",
       "    .dataframe thead th {\n",
       "        text-align: right;\n",
       "    }\n",
       "</style>\n",
       "<table border=\"1\" class=\"dataframe\">\n",
       "  <thead>\n",
       "    <tr style=\"text-align: right;\">\n",
       "      <th></th>\n",
       "      <th>inputsandbox</th>\n",
       "      <th>jid</th>\n",
       "      <th>outputsandbox</th>\n",
       "      <th>info</th>\n",
       "      <th>comment</th>\n",
       "      <th>time</th>\n",
       "      <th>application</th>\n",
       "      <th>backend</th>\n",
       "      <th>inputfiles</th>\n",
       "      <th>outputfiles</th>\n",
       "      <th>...</th>\n",
       "      <th>splitter</th>\n",
       "      <th>subjobs</th>\n",
       "      <th>master</th>\n",
       "      <th>postprocessors</th>\n",
       "      <th>virtualization</th>\n",
       "      <th>merger</th>\n",
       "      <th>do_auto_resubmit</th>\n",
       "      <th>metadata</th>\n",
       "      <th>been_queued</th>\n",
       "      <th>parallel_submit</th>\n",
       "    </tr>\n",
       "  </thead>\n",
       "  <tbody>\n",
       "    <tr>\n",
       "      <td>0</td>\n",
       "      <td>b'[&lt;attribute type=\"inputsandbox\"&gt;\\n&lt;sequence&gt;...</td>\n",
       "      <td>10</td>\n",
       "      <td>b'[&lt;attribute type=\"outputsandbox\"&gt;\\n&lt;sequence...</td>\n",
       "      <td>b'[&lt;attribute type=\"info\"&gt;\\n&lt;class category=\"j...</td>\n",
       "      <td>b'[&lt;attribute type=\"comment\"&gt;\\n&lt;value&gt;\\'\\'&lt;/va...</td>\n",
       "      <td>b'[&lt;attribute type=\"time\"&gt;\\n&lt;class category=\"j...</td>\n",
       "      <td>b'[&lt;attribute type=\"application\"&gt;\\n&lt;class cate...</td>\n",
       "      <td>b'[&lt;attribute type=\"backend\"&gt;\\n&lt;class category...</td>\n",
       "      <td>b'[&lt;attribute type=\"inputfiles\"&gt;\\n&lt;sequence&gt;\\n...</td>\n",
       "      <td>b'[&lt;attribute type=\"outputfiles\"&gt;\\n&lt;sequence&gt;\\...</td>\n",
       "      <td>...</td>\n",
       "      <td>b'[&lt;attribute type=\"splitter\"&gt;\\n&lt;value&gt;None&lt;/v...</td>\n",
       "      <td>b'[&lt;attribute type=\"subjobs\"&gt;\\n&lt;sequence&gt;\\n&lt;/s...</td>\n",
       "      <td>b'[]'</td>\n",
       "      <td>b'[&lt;attribute type=\"postprocessors\"&gt;\\n&lt;class c...</td>\n",
       "      <td>b'[]'</td>\n",
       "      <td>b'[&lt;attribute type=\"merger\"&gt;\\n&lt;value&gt;None&lt;/val...</td>\n",
       "      <td>b'[&lt;attribute type=\"do_auto_resubmit\"&gt;\\n&lt;value...</td>\n",
       "      <td>b'[&lt;attribute type=\"metadata\"&gt;\\n&lt;class categor...</td>\n",
       "      <td>b'[]'</td>\n",
       "      <td>b'[]'</td>\n",
       "    </tr>\n",
       "  </tbody>\n",
       "</table>\n",
       "<p>1 rows × 28 columns</p>\n",
       "</div>"
      ],
      "text/plain": [
       "                                        inputsandbox  jid  \\\n",
       "0  b'[<attribute type=\"inputsandbox\">\\n<sequence>...   10   \n",
       "\n",
       "                                       outputsandbox  \\\n",
       "0  b'[<attribute type=\"outputsandbox\">\\n<sequence...   \n",
       "\n",
       "                                                info  \\\n",
       "0  b'[<attribute type=\"info\">\\n<class category=\"j...   \n",
       "\n",
       "                                             comment  \\\n",
       "0  b'[<attribute type=\"comment\">\\n<value>\\'\\'</va...   \n",
       "\n",
       "                                                time  \\\n",
       "0  b'[<attribute type=\"time\">\\n<class category=\"j...   \n",
       "\n",
       "                                         application  \\\n",
       "0  b'[<attribute type=\"application\">\\n<class cate...   \n",
       "\n",
       "                                             backend  \\\n",
       "0  b'[<attribute type=\"backend\">\\n<class category...   \n",
       "\n",
       "                                          inputfiles  \\\n",
       "0  b'[<attribute type=\"inputfiles\">\\n<sequence>\\n...   \n",
       "\n",
       "                                         outputfiles  ...  \\\n",
       "0  b'[<attribute type=\"outputfiles\">\\n<sequence>\\...  ...   \n",
       "\n",
       "                                            splitter  \\\n",
       "0  b'[<attribute type=\"splitter\">\\n<value>None</v...   \n",
       "\n",
       "                                             subjobs master  \\\n",
       "0  b'[<attribute type=\"subjobs\">\\n<sequence>\\n</s...  b'[]'   \n",
       "\n",
       "                                      postprocessors virtualization  \\\n",
       "0  b'[<attribute type=\"postprocessors\">\\n<class c...          b'[]'   \n",
       "\n",
       "                                              merger  \\\n",
       "0  b'[<attribute type=\"merger\">\\n<value>None</val...   \n",
       "\n",
       "                                    do_auto_resubmit  \\\n",
       "0  b'[<attribute type=\"do_auto_resubmit\">\\n<value...   \n",
       "\n",
       "                                            metadata been_queued  \\\n",
       "0  b'[<attribute type=\"metadata\">\\n<class categor...       b'[]'   \n",
       "\n",
       "  parallel_submit  \n",
       "0           b'[]'  \n",
       "\n",
       "[1 rows x 28 columns]"
      ]
     },
     "execution_count": 240,
     "metadata": {},
     "output_type": "execute_result"
    }
   ],
   "source": [
    "pd.DataFrame([blobs.values()], columns = blobs.keys()).head()"
   ]
  },
  {
   "cell_type": "code",
   "execution_count": 202,
   "metadata": {},
   "outputs": [
    {
     "data": {
      "text/plain": [
       "b'[<attribute type=\"id\">\\n<value>0</value>\\n</attribute>, <attribute type=\"id\">\\n<value>259531729</value>\\n</attribute>]'"
      ]
     },
     "execution_count": 202,
     "metadata": {},
     "output_type": "execute_result"
    }
   ],
   "source": [
    "bo[2]['id']"
   ]
  },
  {
   "cell_type": "markdown",
   "metadata": {},
   "source": [
    "# Creating datasets"
   ]
  },
  {
   "cell_type": "markdown",
   "metadata": {},
   "source": [
    "# sqlite3"
   ]
  },
  {
   "cell_type": "code",
   "execution_count": 19,
   "metadata": {},
   "outputs": [],
   "source": [
    "import sqlite3"
   ]
  },
  {
   "cell_type": "code",
   "execution_count": 22,
   "metadata": {},
   "outputs": [],
   "source": [
    "sqliteConnection = sqlite3.connect('ganga_test.db')\n",
    "cursor = sqliteConnection.cursor()\n"
   ]
  },
  {
   "cell_type": "code",
   "execution_count": 131,
   "metadata": {},
   "outputs": [],
   "source": [
    "CREATION ='''CREATE TABLE IF NOT EXISTS JOB(\n",
    "    id INT PRIMARY KEY, status string, name string, subjobs INT, application string,\n",
    "    backend string, backend_actualCE string, comment string\n",
    ")'''"
   ]
  },
  {
   "cell_type": "code",
   "execution_count": 201,
   "metadata": {},
   "outputs": [],
   "source": [
    "CREATION_BLOB = \"\"\" \n",
    "    CREATE TABLE IF NOT EXISTS BLOB(\n",
    "        jid INT PRIMARY KEY,\n",
    "        id INT,\n",
    "        inputsandbox BLOB,\n",
    "        outputsandbox BLOB,\n",
    "        info BLOB,\n",
    "        comment BLOB,\n",
    "        time BLOB,\n",
    "        application BLOB,\n",
    "        backend BLOB,\n",
    "        inputfiles BLOB,\n",
    "        outputfiles BLOB,\n",
    "        non_copyable_outputfiles BLOB,\n",
    "        status BLOB,\n",
    "        name BLOB,\n",
    "        inputdir BLOB,\n",
    "        outputdir BLOB,\n",
    "        inputdata BLOB,\n",
    "        outputdata BLOB,\n",
    "        splitter BLOB,\n",
    "        subjobs BLOB,\n",
    "        master BLOB,\n",
    "        postprocessors BLOB,\n",
    "        virtualization BLOB,\n",
    "        merger BLOB,\n",
    "        do_auto_resubmit BLOB,\n",
    "        metadata BLOB,\n",
    "        been_queued BLOB,\n",
    "        parallel_submit BLOB\n",
    "    )\n",
    "\"\"\"\n",
    "\n",
    "INSERT_BLOBS = \"\"\"\n",
    "    INSERT INTO BLOB(\n",
    "        inputsandbox, jid, outputsandbox, info, comment, time, application, backend,\n",
    "        inputfiles, outputfiles, non_copyable_outputfiles, id, status, name, inputdir,\n",
    "        outputdir, inputdata, outputdata, splitter, subjobs, master, postprocessors, \n",
    "        virtualization, merger, do_auto_resubmit, metadata, been_queued, parallel_submit\n",
    "    ) VALUES (\n",
    "        '?','?','?','?','?','?','?','?','?','?','?','?','?','?','?','?','?','?','?','?','?','?','?','?','?','?','?','?'\n",
    "    )\n",
    "\"\"\"\n",
    "\n",
    "DROP_BLOBS = \"\"\"\n",
    "    DROP TABLE BLOB\n",
    "\"\"\""
   ]
  },
  {
   "cell_type": "code",
   "execution_count": 198,
   "metadata": {},
   "outputs": [
    {
     "data": {
      "text/plain": [
       "<sqlite3.Cursor at 0x7fdc4259d2d0>"
      ]
     },
     "execution_count": 198,
     "metadata": {},
     "output_type": "execute_result"
    }
   ],
   "source": [
    "cursor.execute(DROP_BLOBS)"
   ]
  },
  {
   "cell_type": "code",
   "execution_count": 199,
   "metadata": {},
   "outputs": [
    {
     "data": {
      "text/plain": [
       "<sqlite3.Cursor at 0x7fdc4259d2d0>"
      ]
     },
     "execution_count": 199,
     "metadata": {},
     "output_type": "execute_result"
    }
   ],
   "source": [
    "cursor.execute(CREATION_BLOB)"
   ]
  },
  {
   "cell_type": "code",
   "execution_count": 200,
   "metadata": {},
   "outputs": [
    {
     "ename": "OperationalError",
     "evalue": "27 values for 28 columns",
     "output_type": "error",
     "traceback": [
      "\u001b[0;31m---------------------------------------------------------------------------\u001b[0m",
      "\u001b[0;31mOperationalError\u001b[0m                          Traceback (most recent call last)",
      "\u001b[0;32m<ipython-input-200-b60607b418e0>\u001b[0m in \u001b[0;36m<module>\u001b[0;34m\u001b[0m\n\u001b[0;32m----> 1\u001b[0;31m \u001b[0mcursor\u001b[0m\u001b[0;34m.\u001b[0m\u001b[0mexecute\u001b[0m\u001b[0;34m(\u001b[0m\u001b[0mINSERT_BLOBS\u001b[0m\u001b[0;34m,\u001b[0m \u001b[0mbo\u001b[0m\u001b[0;34m[\u001b[0m\u001b[0;36m6\u001b[0m\u001b[0;34m]\u001b[0m\u001b[0;34m)\u001b[0m\u001b[0;34m\u001b[0m\u001b[0;34m\u001b[0m\u001b[0m\n\u001b[0m",
      "\u001b[0;31mOperationalError\u001b[0m: 27 values for 28 columns"
     ]
    }
   ],
   "source": [
    "cursor.execute(INSERT_BLOBS, bo[6])"
   ]
  },
  {
   "cell_type": "code",
   "execution_count": 194,
   "metadata": {},
   "outputs": [
    {
     "data": {
      "text/plain": [
       "7"
      ]
     },
     "execution_count": 194,
     "metadata": {},
     "output_type": "execute_result"
    }
   ],
   "source": [
    "bo[6]['jid']"
   ]
  },
  {
   "cell_type": "code",
   "execution_count": 195,
   "metadata": {},
   "outputs": [],
   "source": [
    "result = cursor.execute(f'''\n",
    "    SELECT * from BLOB \n",
    "''')\n"
   ]
  },
  {
   "cell_type": "code",
   "execution_count": 196,
   "metadata": {},
   "outputs": [
    {
     "name": "stdout",
     "output_type": "stream",
     "text": [
      "('?', '?', '?', '?', '?', '?', '?', '?', '?', '?', '?', '?', '?', '?', '?', '?', '?', '?', '?', '?', '?', '?', '?', '?', '?', '?', '?', '?')\n"
     ]
    }
   ],
   "source": [
    "for row in result:\n",
    "    print(row)"
   ]
  },
  {
   "cell_type": "code",
   "execution_count": 168,
   "metadata": {},
   "outputs": [],
   "source": [
    "# result = cursor.execute(f'''\n",
    "#     SELECT * from BLOB \n",
    "#     WHERE BLOB.id = {bo[0]['id']}\n",
    "# ''')\n",
    "\n",
    "\n",
    "result = cursor.execute(f'''\n",
    "    SELECT * from BLOB \n",
    "    WHERE BLOB.jid = 0\n",
    "''')\n"
   ]
  },
  {
   "cell_type": "code",
   "execution_count": 181,
   "metadata": {},
   "outputs": [
    {
     "name": "stdout",
     "output_type": "stream",
     "text": [
      "('?', '?', '?', '?', '?', '?', '?', '?', '?', '?', '?', '?', '?', '?', '?', '?', '?', '?', '?', '?', '?', '?', '?', '?', '?', '?', '?', '?')\n"
     ]
    }
   ],
   "source": [
    "for row in result:\n",
    "    print(row)"
   ]
  },
  {
   "cell_type": "code",
   "execution_count": 47,
   "metadata": {},
   "outputs": [
    {
     "data": {
      "text/plain": [
       "(0,\n",
       " \"'completed'\",\n",
       " 'None',\n",
       " 1,\n",
       " \"'85c74d55153c2b535aa07b2067c9381e'\",\n",
       " \"'Done'\",\n",
       " \"'LCG.CNAF.it'\",\n",
       " \"''\")"
      ]
     },
     "execution_count": 47,
     "metadata": {},
     "output_type": "execute_result"
    }
   ],
   "source": [
    "row"
   ]
  }
 ],
 "metadata": {
  "kernelspec": {
   "display_name": "Python 3",
   "language": "python",
   "name": "python3"
  },
  "language_info": {
   "codemirror_mode": {
    "name": "ipython",
    "version": 3
   },
   "file_extension": ".py",
   "mimetype": "text/x-python",
   "name": "python",
   "nbconvert_exporter": "python",
   "pygments_lexer": "ipython3",
   "version": "3.7.4"
  }
 },
 "nbformat": 4,
 "nbformat_minor": 4
}
