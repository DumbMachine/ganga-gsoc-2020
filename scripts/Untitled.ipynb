{
 "cells": [
  {
   "cell_type": "code",
   "execution_count": 1,
   "metadata": {},
   "outputs": [],
   "source": [
    "\"\"\"\n",
    "Run these before:\n",
    "\n",
    "\"\"\"\n",
    "import numpy as np\n",
    "import pandas as pd\n",
    "import matplotlib.pyplot as plt\n",
    "\n",
    "from glob import glob\n",
    "\n",
    "SAVE_LOCATION = \"images\"\n",
    "BECHMARKS_LOCATION  = \"./bechmarks\"\n",
    "\n",
    "DBS = [\n",
    "    \"mongo\",\n",
    "    \"postgres\",\n",
    "    \"cassandra\"\n",
    "]\n",
    "\n",
    "# Run the scripts\n",
    "sizes = [10, 100, 1000, 10000, 10000, 100000]\n",
    "\n",
    "data = {\n",
    "    \"mongo\": [],\n",
    "    \"postgres\": [],\n",
    "    \"cassandra\": []\n",
    "\n",
    "}\n",
    "for size in sizes:\n",
    "    for db in data.keys():\n",
    "        file_stub = f\"./benchmarks/{db}-size-{size}-batch_size-*-itertion-*.json\"\n",
    "        files = glob(file_stub)\n",
    "        data[db].append(files)\n",
    "\n",
    "\n",
    "    # plot for that size\n",
    "    filename = f\"plot-{size}.png\""
   ]
  },
  {
   "cell_type": "code",
   "execution_count": null,
   "metadata": {},
   "outputs": [],
   "source": [
    "def visualize"
   ]
  }
 ],
 "metadata": {
  "kernelspec": {
   "display_name": "Python 3",
   "language": "python",
   "name": "python3"
  },
  "language_info": {
   "codemirror_mode": {
    "name": "ipython",
    "version": 3
   },
   "file_extension": ".py",
   "mimetype": "text/x-python",
   "name": "python",
   "nbconvert_exporter": "python",
   "pygments_lexer": "ipython3",
   "version": "3.7.4"
  }
 },
 "nbformat": 4,
 "nbformat_minor": 4
}
