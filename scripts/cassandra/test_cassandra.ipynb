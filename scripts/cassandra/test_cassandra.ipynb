{
 "cells": [
  {
   "cell_type": "code",
   "execution_count": 8,
   "metadata": {},
   "outputs": [],
   "source": [
    "import cassandra\n",
    "from cassandra import ConsistencyLevel\n",
    "from cassandra.cluster import Cluster\n",
    "from cassandra.query import SimpleStatement, BatchStatement\n",
    "\n",
    "from joblib import Parallel, delayed                                                                                                                                \n",
    "import os\n",
    "import sys\n",
    "import json\n",
    "import utils\n",
    "import pickle\n",
    "\n",
    "from db import *\n",
    "from glob import glob\n",
    "from tqdm import tqdm\n",
    "\n",
    "import warnings\n",
    "warnings.filterwarnings('ignore')"
   ]
  },
  {
   "cell_type": "code",
   "execution_count": 2,
   "metadata": {},
   "outputs": [],
   "source": [
    "\"\"\"\n",
    "sudo docker run --name cassandra -p 127.0.0.1:9042:9042 -e CASSANDRA_CLUSTER_NAME=GangaTest -e CASSANDRA_ENDPOINT_SNITCH=GossipingPropertyFileSnitch -e CASSANDRA_DC=datacenter1 -d cassandra\n",
    "\"\"\"\n",
    "def cassandra_connection():\n",
    "    \"\"\"\n",
    "    Connection object for Cassandra\n",
    "    :return: session, cluster\n",
    "    \"\"\"\n",
    "    cluster = Cluster(['127.0.0.1'], port=9042)\n",
    "    session = cluster.connect()\n",
    "    session.execute(\"\"\"\n",
    "        CREATE KEYSPACE IF NOT EXISTS fakehealthcareorg\n",
    "        WITH REPLICATION =\n",
    "        { 'class' : 'SimpleStrategy', 'replication_factor' : 1 }\n",
    "        \"\"\")\n",
    "    session.set_keyspace('fakehealthcareorg')\n",
    "    return session, cluster\n"
   ]
  },
  {
   "cell_type": "code",
   "execution_count": 3,
   "metadata": {},
   "outputs": [],
   "source": [
    "session, cluster = cassandra_connection()"
   ]
  },
  {
   "cell_type": "code",
   "execution_count": 4,
   "metadata": {},
   "outputs": [
    {
     "data": {
      "text/plain": [
       "<cassandra.cluster.ResultSet at 0x7fb7899fd290>"
      ]
     },
     "execution_count": 4,
     "metadata": {},
     "output_type": "execute_result"
    }
   ],
   "source": [
    "session.execute(\"\"\"create keyspace IF NOT EXISTS dev\n",
    "... with replication = {'class':'SimpleStrategy','replication_factor':1};\"\"\")"
   ]
  },
  {
   "cell_type": "code",
   "execution_count": 5,
   "metadata": {},
   "outputs": [
    {
     "data": {
      "text/plain": [
       "<cassandra.cluster.ResultSet at 0x7fb79ff37c10>"
      ]
     },
     "execution_count": 5,
     "metadata": {},
     "output_type": "execute_result"
    }
   ],
   "source": [
    "session.execute(\"\"\"use dev;\"\"\")"
   ]
  },
  {
   "cell_type": "code",
   "execution_count": 6,
   "metadata": {},
   "outputs": [
    {
     "data": {
      "text/plain": [
       "<cassandra.cluster.ResultSet at 0x7fb7899fb250>"
      ]
     },
     "execution_count": 6,
     "metadata": {},
     "output_type": "execute_result"
    }
   ],
   "source": [
    "session.execute(\"\"\"DROP TABLE IF EXISTS JOB\"\"\")\n",
    "session.execute(\"\"\"DROP TABLE IF EXISTS BLOB\"\"\")"
   ]
  },
  {
   "cell_type": "code",
   "execution_count": 18,
   "metadata": {},
   "outputs": [
    {
     "name": "stdout",
     "output_type": "stream",
     "text": [
      "The runtime for load_pickle_data was 0.06233572959899902 seconds.\n"
     ]
    }
   ],
   "source": [
    "SIZE = 10\n",
    "DB = \"postgres\"\n",
    "jobs, blobs = utils.load_pickle_data(size=SIZE)"
   ]
  },
  {
   "cell_type": "code",
   "execution_count": 21,
   "metadata": {},
   "outputs": [
    {
     "data": {
      "text/plain": [
       "[['0',\n",
       "  \"'completed'\",\n",
       "  'None',\n",
       "  1,\n",
       "  \"'85c74d55153c2b535aa07b2067c9381e'\",\n",
       "  \"'Done'\",\n",
       "  \"'LCG.CNAF.it'\",\n",
       "  \"''\"],\n",
       " ['0',\n",
       "  \"'completed'\",\n",
       "  'None',\n",
       "  1,\n",
       "  \"'85c74d55153c2b535aa07b2067c9381e'\",\n",
       "  \"'Done'\",\n",
       "  \"'LCG.CNAF.it'\",\n",
       "  \"''\"],\n",
       " ['0',\n",
       "  \"'completed'\",\n",
       "  'None',\n",
       "  1,\n",
       "  \"'85c74d55153c2b535aa07b2067c9381e'\",\n",
       "  \"'Done'\",\n",
       "  \"'LCG.CNAF.it'\",\n",
       "  \"''\"],\n",
       " ['0',\n",
       "  \"'completed'\",\n",
       "  'None',\n",
       "  1,\n",
       "  \"'85c74d55153c2b535aa07b2067c9381e'\",\n",
       "  \"'Done'\",\n",
       "  \"'LCG.CNAF.it'\",\n",
       "  \"''\"],\n",
       " ['0',\n",
       "  \"'completed'\",\n",
       "  'None',\n",
       "  1,\n",
       "  \"'85c74d55153c2b535aa07b2067c9381e'\",\n",
       "  \"'Done'\",\n",
       "  \"'LCG.CNAF.it'\",\n",
       "  \"''\"],\n",
       " ['0',\n",
       "  \"'completed'\",\n",
       "  'None',\n",
       "  1,\n",
       "  \"'85c74d55153c2b535aa07b2067c9381e'\",\n",
       "  \"'Done'\",\n",
       "  \"'LCG.CNAF.it'\",\n",
       "  \"''\"],\n",
       " ['0',\n",
       "  \"'completed'\",\n",
       "  'None',\n",
       "  1,\n",
       "  \"'85c74d55153c2b535aa07b2067c9381e'\",\n",
       "  \"'Done'\",\n",
       "  \"'LCG.CNAF.it'\",\n",
       "  \"''\"],\n",
       " ['0',\n",
       "  \"'completed'\",\n",
       "  'None',\n",
       "  1,\n",
       "  \"'85c74d55153c2b535aa07b2067c9381e'\",\n",
       "  \"'Done'\",\n",
       "  \"'LCG.CNAF.it'\",\n",
       "  \"''\"],\n",
       " ['0',\n",
       "  \"'completed'\",\n",
       "  'None',\n",
       "  1,\n",
       "  \"'85c74d55153c2b535aa07b2067c9381e'\",\n",
       "  \"'Done'\",\n",
       "  \"'LCG.CNAF.it'\",\n",
       "  \"''\"],\n",
       " ['0',\n",
       "  \"'completed'\",\n",
       "  'None',\n",
       "  1,\n",
       "  \"'85c74d55153c2b535aa07b2067c9381e'\",\n",
       "  \"'Done'\",\n",
       "  \"'LCG.CNAF.it'\",\n",
       "  \"''\"]]"
      ]
     },
     "execution_count": 21,
     "metadata": {},
     "output_type": "execute_result"
    }
   ],
   "source": [
    "jobs = pickle.load(open(\"../../data/rows.pkl\", \"rb\"))[:100]\n",
    "jobs[:10]"
   ]
  },
  {
   "cell_type": "code",
   "execution_count": 16,
   "metadata": {},
   "outputs": [
    {
     "name": "stdout",
     "output_type": "stream",
     "text": [
      "The runtime for cassandra_connection was 0.038602590560913086 seconds.\n",
      "The runtime for create_tables was 0.0076138973236083984 seconds.\n"
     ]
    }
   ],
   "source": [
    "session, cluster = cassandra_connection()\n",
    "session = create_tables(session)"
   ]
  },
  {
   "cell_type": "code",
   "execution_count": 17,
   "metadata": {},
   "outputs": [
    {
     "data": {
      "text/plain": [
       "[]"
      ]
     },
     "execution_count": 17,
     "metadata": {},
     "output_type": "execute_result"
    }
   ],
   "source": [
    "jobs[:10]"
   ]
  },
  {
   "cell_type": "code",
   "execution_count": 15,
   "metadata": {},
   "outputs": [],
   "source": [
    "query = session.prepare(\"\"\"\n",
    "    INSERT INTO JOB(jid, status, name, subjobs, application, backend, backend_actualCE, comment)\n",
    "    VALUES          (?,      ?,    ?,       ?,           ?,       ?,                ?,       ?)\n",
    "\"\"\")\n",
    "\n",
    "if jobs:\n",
    "    with tqdm(total=len(jobs)) as progress:\n",
    "        for i, row in enumerate(jobs):\n",
    "            row[0] = i+1\n",
    "            session.execute(query.bind(row))\n",
    "            progress.update(1)\n"
   ]
  },
  {
   "cell_type": "code",
   "execution_count": null,
   "metadata": {},
   "outputs": [],
   "source": []
  }
 ],
 "metadata": {
  "kernelspec": {
   "display_name": "Python 3",
   "language": "python",
   "name": "python3"
  },
  "language_info": {
   "codemirror_mode": {
    "name": "ipython",
    "version": 3
   },
   "file_extension": ".py",
   "mimetype": "text/x-python",
   "name": "python",
   "nbconvert_exporter": "python",
   "pygments_lexer": "ipython3",
   "version": "3.7.4"
  }
 },
 "nbformat": 4,
 "nbformat_minor": 4
}
