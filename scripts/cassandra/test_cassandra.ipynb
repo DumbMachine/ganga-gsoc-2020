{
 "cells": [
  {
   "cell_type": "code",
   "execution_count": 5,
   "metadata": {},
   "outputs": [],
   "source": [
    "import cassandra\n",
    "from cassandra import ConsistencyLevel\n",
    "from cassandra.cluster import Cluster\n",
    "from cassandra.query import SimpleStatement, BatchStatement\n",
    "\n",
    "from joblib import Parallel, delayed                                                                                                                                \n",
    "import os\n",
    "import sys\n",
    "import json\n",
    "import utils\n",
    "import pickle\n",
    "\n",
    "from db import *\n",
    "from glob import glob\n",
    "from tqdm import tqdm\n",
    "\n",
    "import warnings\n",
    "warnings.filterwarnings('ignore')"
   ]
  },
  {
   "cell_type": "code",
   "execution_count": 8,
   "metadata": {},
   "outputs": [
    {
     "name": "stdout",
     "output_type": "stream",
     "text": [
      "The runtime for load_pickle_data was 0.42263317108154297 seconds.\n",
      "The runtime for connect was 0.3036019802093506 seconds.\n",
      "The runtime for create_tables was 0.4186227321624756 seconds.\n"
     ]
    }
   ],
   "source": [
    "import os\n",
    "import sys\n",
    "import json\n",
    "import utils\n",
    "import pickle\n",
    "\n",
    "from db import *\n",
    "from glob import glob\n",
    "\"\"\"\n",
    "Benching Cassandra\n",
    "\"\"\"\n",
    "\n",
    "SIZE = 10000\n",
    "batch_size = 250\n",
    "DB = \"postgres\"\n",
    "\n",
    "jobs, blobs = utils.load_pickle_data(size=SIZE)\n",
    "session, cluster = connect()\n",
    "session = create_tables(session)\n"
   ]
  },
  {
   "cell_type": "code",
   "execution_count": 8,
   "metadata": {},
   "outputs": [],
   "source": [
    "start = 0\n",
    "for end in range(batch_size, len(jobs)+1, batch_size):\n",
    "    batch = BatchStatement(consistency_level=ConsistencyLevel.SERIAL)\n",
    "    for row in jobs[start:end]:\n",
    "        break"
   ]
  },
  {
   "cell_type": "code",
   "execution_count": 12,
   "metadata": {},
   "outputs": [],
   "source": [
    "INSERT_STMT = \"\"\"\n",
    "    INSERT INTO JOB(jid, status, name, subjobs, application, backend, backend_actualCE, comment)\n",
    "    VALUES          ({jid}, {status}, {name}, {subjobs}, {application}, {backend}, {backend_actualCE}, 'comment')\n",
    "\"\"\""
   ]
  },
  {
   "cell_type": "code",
   "execution_count": 22,
   "metadata": {},
   "outputs": [
    {
     "data": {
      "text/plain": [
       "8"
      ]
     },
     "execution_count": 22,
     "metadata": {},
     "output_type": "execute_result"
    }
   ],
   "source": [
    "len((0, 'completed', None, 1, '85c74d55153c2b535aa07b2067c9381e', 'Done', 'LCG.CNAF.it', 'comment'))"
   ]
  },
  {
   "cell_type": "code",
   "execution_count": 24,
   "metadata": {},
   "outputs": [
    {
     "data": {
      "text/plain": [
       "8"
      ]
     },
     "execution_count": 24,
     "metadata": {},
     "output_type": "execute_result"
    }
   ],
   "source": [
    "len(\"jid, status, name, subjobs, application, backend, backend_actualCE, comment)\".split(\",\"))"
   ]
  },
  {
   "cell_type": "code",
   "execution_count": 31,
   "metadata": {},
   "outputs": [
    {
     "name": "stderr",
     "output_type": "stream",
     "text": [
      "ERROR:cassandra.cluster:Error preparing query:\n",
      "Traceback (most recent call last):\n",
      "  File \"cassandra/cluster.py\", line 2965, in cassandra.cluster.Session.prepare\n",
      "  File \"cassandra/cluster.py\", line 4729, in cassandra.cluster.ResponseFuture.result\n",
      "cassandra.protocol.SyntaxException: <Error from server: code=2000 [Syntax error in CQL query] message=\"line 3:38 no viable alternative at input ',' (...    VALUES          (0, 'completed', [x],...)\">\n"
     ]
    },
    {
     "name": "stdout",
     "output_type": "stream",
     "text": [
      "BEGIN BATCH\n",
      "    INSERT INTO JOB(jid, status, name, subjobs, application, backend, backend_actualCE, comment)\n",
      "    VALUES          (0, 'completed', x, 1, '85c74d55153c2b535aa07b2067c9381e', 'Done', 'LCG.CNAF.it', 'comment')\n",
      "\n",
      "    INSERT INTO JOB(jid, status, name, subjobs, application, backend, backend_actualCE, comment)\n",
      "    VALUES          (1, 'completed', x, 1, '85c74d55153c2b535aa07b2067c9381e', 'Done', 'LCG.CNAF.it', 'comment')\n",
      "\n",
      "    INSERT INTO JOB(jid, status, name, subjobs, application, backend, backend_actualCE, comment)\n",
      "    VALUES          (2, 'completed', x, 1, '85c74d55153c2b535aa07b2067c9381e', 'Done', 'LCG.CNAF.it', 'comment')\n",
      "\n",
      "    INSERT INTO JOB(jid, status, name, subjobs, application, backend, backend_actualCE, comment)\n",
      "    VALUES          (3, 'completed', x, 1, '85c74d55153c2b535aa07b2067c9381e', 'Done', 'LCG.CNAF.it', 'comment')\n",
      "\n",
      "    INSERT INTO JOB(jid, status, name, subjobs, application, backend, backend_actualCE, comment)\n",
      "    VALUES          (4, 'completed', x, 1, '85c74d55153c2b535aa07b2067c9381e', 'Done', 'LCG.CNAF.it', 'comment')\n",
      "\n",
      "    INSERT INTO JOB(jid, status, name, subjobs, application, backend, backend_actualCE, comment)\n",
      "    VALUES          (5, 'completed', x, 1, '85c74d55153c2b535aa07b2067c9381e', 'Done', 'LCG.CNAF.it', 'comment')\n",
      "\n",
      "    INSERT INTO JOB(jid, status, name, subjobs, application, backend, backend_actualCE, comment)\n",
      "    VALUES          (6, 'completed', x, 1, '85c74d55153c2b535aa07b2067c9381e', 'Done', 'LCG.CNAF.it', 'comment')\n",
      "\n",
      "    INSERT INTO JOB(jid, status, name, subjobs, application, backend, backend_actualCE, comment)\n",
      "    VALUES          (7, 'completed', x, 1, '85c74d55153c2b535aa07b2067c9381e', 'Done', 'LCG.CNAF.it', 'comment')\n",
      "\n",
      "    INSERT INTO JOB(jid, status, name, subjobs, application, backend, backend_actualCE, comment)\n",
      "    VALUES          (8, 'completed', x, 1, '85c74d55153c2b535aa07b2067c9381e', 'Done', 'LCG.CNAF.it', 'comment')\n",
      "\n",
      "    INSERT INTO JOB(jid, status, name, subjobs, application, backend, backend_actualCE, comment)\n",
      "    VALUES          (9, 'completed', x, 1, '85c74d55153c2b535aa07b2067c9381e', 'Done', 'LCG.CNAF.it', 'comment')\n",
      "APPLY BATCH;\n"
     ]
    },
    {
     "ename": "SyntaxException",
     "evalue": "<Error from server: code=2000 [Syntax error in CQL query] message=\"line 3:38 no viable alternative at input ',' (...    VALUES          (0, 'completed', [x],...)\">",
     "output_type": "error",
     "traceback": [
      "\u001b[0;31m---------------------------------------------------------------------------\u001b[0m",
      "\u001b[0;31mSyntaxException\u001b[0m                           Traceback (most recent call last)",
      "\u001b[0;32m<ipython-input-31-a4c7006006ff>\u001b[0m in \u001b[0;36m<module>\u001b[0;34m\u001b[0m\n\u001b[1;32m      1\u001b[0m \u001b[0mprint\u001b[0m\u001b[0;34m(\u001b[0m\u001b[0mBATCH_STMT\u001b[0m\u001b[0;34m.\u001b[0m\u001b[0mreplace\u001b[0m\u001b[0;34m(\u001b[0m\u001b[0;34m\"None\"\u001b[0m\u001b[0;34m,\u001b[0m \u001b[0;34m'x'\u001b[0m\u001b[0;34m)\u001b[0m\u001b[0;34m)\u001b[0m\u001b[0;34m\u001b[0m\u001b[0;34m\u001b[0m\u001b[0m\n\u001b[1;32m      2\u001b[0m \u001b[0mBATCH_STMT\u001b[0m \u001b[0;34m=\u001b[0m \u001b[0mBATCH_STMT\u001b[0m\u001b[0;34m.\u001b[0m\u001b[0mreplace\u001b[0m\u001b[0;34m(\u001b[0m\u001b[0;34m\"None\"\u001b[0m\u001b[0;34m,\u001b[0m \u001b[0;34m'x'\u001b[0m\u001b[0;34m)\u001b[0m\u001b[0;34m\u001b[0m\u001b[0;34m\u001b[0m\u001b[0m\n\u001b[0;32m----> 3\u001b[0;31m \u001b[0mprep_batch\u001b[0m \u001b[0;34m=\u001b[0m \u001b[0msession\u001b[0m\u001b[0;34m.\u001b[0m\u001b[0mprepare\u001b[0m\u001b[0;34m(\u001b[0m\u001b[0mBATCH_STMT\u001b[0m\u001b[0;34m)\u001b[0m\u001b[0;34m\u001b[0m\u001b[0;34m\u001b[0m\u001b[0m\n\u001b[0m",
      "\u001b[0;32m~/.local/lib/python3.7/site-packages/cassandra/cluster.cpython-37m-x86_64-linux-gnu.so\u001b[0m in \u001b[0;36mcassandra.cluster.Session.prepare\u001b[0;34m()\u001b[0m\n",
      "\u001b[0;32m~/.local/lib/python3.7/site-packages/cassandra/cluster.cpython-37m-x86_64-linux-gnu.so\u001b[0m in \u001b[0;36mcassandra.cluster.Session.prepare\u001b[0;34m()\u001b[0m\n",
      "\u001b[0;32m~/.local/lib/python3.7/site-packages/cassandra/cluster.cpython-37m-x86_64-linux-gnu.so\u001b[0m in \u001b[0;36mcassandra.cluster.ResponseFuture.result\u001b[0;34m()\u001b[0m\n",
      "\u001b[0;31mSyntaxException\u001b[0m: <Error from server: code=2000 [Syntax error in CQL query] message=\"line 3:38 no viable alternative at input ',' (...    VALUES          (0, 'completed', [x],...)\">"
     ]
    }
   ],
   "source": [
    "print(BATCH_STMT.replace(\"None\", 'x'))\n",
    "BATCH_STMT = BATCH_STMT.replace(\"None\", 'x')\n",
    "prep_batch = session.prepare(BATCH_STMT)"
   ]
  },
  {
   "cell_type": "code",
   "execution_count": 30,
   "metadata": {},
   "outputs": [
    {
     "name": "stderr",
     "output_type": "stream",
     "text": [
      "ERROR:cassandra.cluster:Error preparing query:\n",
      "Traceback (most recent call last):\n",
      "  File \"cassandra/cluster.py\", line 2965, in cassandra.cluster.Session.prepare\n",
      "  File \"cassandra/cluster.py\", line 4729, in cassandra.cluster.ResponseFuture.result\n",
      "cassandra.protocol.SyntaxException: <Error from server: code=2000 [Syntax error in CQL query] message=\"line 3:41 no viable alternative at input ',' (...    VALUES          (0, 'completed', [None],...)\">\n"
     ]
    },
    {
     "ename": "SyntaxException",
     "evalue": "<Error from server: code=2000 [Syntax error in CQL query] message=\"line 3:41 no viable alternative at input ',' (...    VALUES          (0, 'completed', [None],...)\">",
     "output_type": "error",
     "traceback": [
      "\u001b[0;31m---------------------------------------------------------------------------\u001b[0m",
      "\u001b[0;31mSyntaxException\u001b[0m                           Traceback (most recent call last)",
      "\u001b[0;32m<ipython-input-30-41d390e31cfa>\u001b[0m in \u001b[0;36m<module>\u001b[0;34m\u001b[0m\n\u001b[1;32m     12\u001b[0m         \u001b[0mBATCH_STMT\u001b[0m \u001b[0;34m+=\u001b[0m \u001b[0mINSERT_STMT\u001b[0m\u001b[0;34m.\u001b[0m\u001b[0mformat\u001b[0m\u001b[0;34m(\u001b[0m\u001b[0;34m**\u001b[0m\u001b[0mrow\u001b[0m\u001b[0;34m)\u001b[0m\u001b[0;34m\u001b[0m\u001b[0;34m\u001b[0m\u001b[0m\n\u001b[1;32m     13\u001b[0m     \u001b[0mBATCH_STMT\u001b[0m \u001b[0;34m+=\u001b[0m \u001b[0;34m'APPLY BATCH;'\u001b[0m\u001b[0;34m\u001b[0m\u001b[0;34m\u001b[0m\u001b[0m\n\u001b[0;32m---> 14\u001b[0;31m     \u001b[0mprep_batch\u001b[0m \u001b[0;34m=\u001b[0m \u001b[0msession\u001b[0m\u001b[0;34m.\u001b[0m\u001b[0mprepare\u001b[0m\u001b[0;34m(\u001b[0m\u001b[0mBATCH_STMT\u001b[0m\u001b[0;34m)\u001b[0m\u001b[0;34m\u001b[0m\u001b[0;34m\u001b[0m\u001b[0m\n\u001b[0m",
      "\u001b[0;32m~/.local/lib/python3.7/site-packages/cassandra/cluster.cpython-37m-x86_64-linux-gnu.so\u001b[0m in \u001b[0;36mcassandra.cluster.Session.prepare\u001b[0;34m()\u001b[0m\n",
      "\u001b[0;32m~/.local/lib/python3.7/site-packages/cassandra/cluster.cpython-37m-x86_64-linux-gnu.so\u001b[0m in \u001b[0;36mcassandra.cluster.Session.prepare\u001b[0;34m()\u001b[0m\n",
      "\u001b[0;32m~/.local/lib/python3.7/site-packages/cassandra/cluster.cpython-37m-x86_64-linux-gnu.so\u001b[0m in \u001b[0;36mcassandra.cluster.ResponseFuture.result\u001b[0;34m()\u001b[0m\n",
      "\u001b[0;31mSyntaxException\u001b[0m: <Error from server: code=2000 [Syntax error in CQL query] message=\"line 3:41 no viable alternative at input ',' (...    VALUES          (0, 'completed', [None],...)\">"
     ]
    }
   ],
   "source": [
    "batch_size = 10\n",
    "INSERT_STMT = \"\"\"\n",
    "    INSERT INTO JOB(jid, status, name, subjobs, application, backend, backend_actualCE, comment)\n",
    "    VALUES          ({jid}, {status}, {name}, {subjobs}, {application}, {backend}, {backend_actualCE}, 'comment')\n",
    "\"\"\"\n",
    "BATCH_STMT = 'BEGIN BATCH'\n",
    "\n",
    "for end in range(batch_size, len(jobs)+1, batch_size):\n",
    "    batch = BatchStatement(consistency_level=ConsistencyLevel.SERIAL)\n",
    "    BATCH_STMT = 'BEGIN BATCH'\n",
    "    for row in jobs[start:end]:\n",
    "        BATCH_STMT += INSERT_STMT.format(**row)\n",
    "    BATCH_STMT += 'APPLY BATCH;'\n",
    "    prep_batch = session.prepare(BATCH_STMT)"
   ]
  },
  {
   "cell_type": "code",
   "execution_count": 3,
   "metadata": {},
   "outputs": [
    {
     "name": "stderr",
     "output_type": "stream",
     "text": [
      "9750-10000: 100%|██████████| 40/40 [00:02<00:00, 18.60it/s]\n"
     ]
    }
   ],
   "source": [
    "query = session.prepare(\"\"\"\n",
    "    INSERT INTO JOB(jid, status, name, subjobs, application, backend, backend_actualCE, comment)\n",
    "    VALUES          (?,      ?,    ?,       ?,           ?,       ?,                ?,       ?)\n",
    "\"\"\")\n",
    "start = 0\n",
    "with tqdm(total=int(len(jobs)/batch_size)) as progress:\n",
    "    for end in range(batch_size, len(jobs)+1, batch_size):\n",
    "        batch = BatchStatement(consistency_level=ConsistencyLevel.SERIAL)\n",
    "        for row in jobs[start:end]:\n",
    "            batch.add(query, row)\n",
    "\n",
    "        session.execute(batch)\n",
    "        progress.set_description(f\"{start}-{end}\")\n",
    "        progress.update(1)\n",
    "        start = end\n"
   ]
  },
  {
   "cell_type": "code",
   "execution_count": 4,
   "metadata": {},
   "outputs": [
    {
     "name": "stderr",
     "output_type": "stream",
     "text": [
      "  0%|          | 0/1000 [00:00<?, ?it/s]"
     ]
    },
    {
     "name": "stdout",
     "output_type": "stream",
     "text": [
      "Error from server: code=2200 [Invalid query] message=\"Batch too large\"\n"
     ]
    },
    {
     "name": "stderr",
     "output_type": "stream",
     "text": [
      "\n"
     ]
    }
   ],
   "source": [
    "batch_size = 10\n",
    "query = session.prepare(\"\"\"\n",
    "    INSERT INTO BLOB(\n",
    "        jid, inputsandbox, outputsandbox, info,\n",
    "        comment, time, application, backend,\n",
    "        inputfiles, outputfiles, non_copyable_outputfiles,\n",
    "        id, status, name, inputdir, outputdir, inputdata,\n",
    "        outputdata, splitter, subjobs, master, postprocessors,\n",
    "        virtualization, merger, do_auto_resubmit, metadata, been_queued,\n",
    "        parallel_submit\n",
    "    ) VALUES (\n",
    "        ?, ?, ?, ?,\n",
    "        ?, ?, ?, ?,\n",
    "        ?, ?, ?,\n",
    "        ?, ?, ?, ?, ?, ?,\n",
    "        ?, ?, ?, ?, ?,\n",
    "        ?, ?, ?, ?, ?,\n",
    "        ?\n",
    "    )\"\"\")\n",
    "start = 0\n",
    "with tqdm(total=int(len(blobs)/batch_size)) as progress:\n",
    "    for end in range(batch_size, len(blobs)+1, batch_size):\n",
    "        batch = BatchStatement(consistency_level=ConsistencyLevel.ANY)\n",
    "        for row in blobs[start:end]:\n",
    "            batch.add(query, row)\n",
    "\n",
    "        try:\n",
    "            session.execute(batch)\n",
    "        except Exception as e:\n",
    "            print(e)\n",
    "            break\n",
    "        progress.set_description(f\"{start}-{end}\")\n",
    "        progress.update(1)\n",
    "        start = end"
   ]
  },
  {
   "cell_type": "code",
   "execution_count": 5,
   "metadata": {},
   "outputs": [
    {
     "data": {
      "text/plain": [
       "<BatchStatement type=LOGGED, statements=2, consistency=QUORUM>"
      ]
     },
     "execution_count": 5,
     "metadata": {},
     "output_type": "execute_result"
    }
   ],
   "source": [
    "batch"
   ]
  },
  {
   "cell_type": "code",
   "execution_count": 52,
   "metadata": {},
   "outputs": [
    {
     "data": {
      "text/plain": [
       "0"
      ]
     },
     "execution_count": 52,
     "metadata": {},
     "output_type": "execute_result"
    }
   ],
   "source": [
    "rows = [*session.execute(f\"\"\"\n",
    "    SELECT * from JOB\n",
    "\"\"\")]\n",
    "len(rows)"
   ]
  },
  {
   "cell_type": "code",
   "execution_count": 19,
   "metadata": {},
   "outputs": [
    {
     "data": {
      "text/plain": [
       "352"
      ]
     },
     "execution_count": 19,
     "metadata": {},
     "output_type": "execute_result"
    },
    {
     "name": "stderr",
     "output_type": "stream",
     "text": [
      "WARNING:cassandra.cluster:[control connection] Error connecting to 127.0.0.1:9042:\n",
      "Traceback (most recent call last):\n",
      "  File \"cassandra/cluster.py\", line 3407, in cassandra.cluster.ControlConnection._reconnect_internal\n",
      "  File \"cassandra/cluster.py\", line 3429, in cassandra.cluster.ControlConnection._try_connect\n",
      "  File \"cassandra/cluster.py\", line 1607, in cassandra.cluster.Cluster.connection_factory\n",
      "  File \"cassandra/connection.py\", line 764, in cassandra.connection.Connection.factory\n",
      "  File \"/home/needshelp/.local/lib/python3.7/site-packages/cassandra/io/libevreactor.py\", line 341, in handle_read\n",
      "    buf = self._socket.recv(self.in_buffer_size)\n",
      "ConnectionResetError: [Errno 104] Connection reset by peer\n"
     ]
    }
   ],
   "source": [
    "rows = [*session.execute(f\"\"\"\n",
    "    SELECT * from BLOB\n",
    "\"\"\")]\n",
    "len(rows)"
   ]
  }
 ],
 "metadata": {
  "kernelspec": {
   "display_name": "Python 3",
   "language": "python",
   "name": "python3"
  },
  "language_info": {
   "codemirror_mode": {
    "name": "ipython",
    "version": 3
   },
   "file_extension": ".py",
   "mimetype": "text/x-python",
   "name": "python",
   "nbconvert_exporter": "python",
   "pygments_lexer": "ipython3",
   "version": "3.7.4"
  }
 },
 "nbformat": 4,
 "nbformat_minor": 4
}
