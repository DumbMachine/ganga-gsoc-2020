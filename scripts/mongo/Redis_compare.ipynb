{
 "cells": [
  {
   "cell_type": "code",
   "execution_count": 33,
   "metadata": {},
   "outputs": [],
   "source": [
    "# from memory_profiler import profile\n",
    "import pickle\n",
    "import time\n",
    "import warnings\n",
    "\n",
    "import psutil\n",
    "import os\n",
    "import sys\n",
    "import json\n",
    "import utils\n",
    "import pickle\n",
    "from db import *\n",
    "from glob import glob\n",
    "from joblib import Parallel, delayed\n"
   ]
  },
  {
   "cell_type": "code",
   "execution_count": 34,
   "metadata": {},
   "outputs": [],
   "source": [
    "import collections\n",
    "compare = lambda x, y: collections.Counter(x) == collections.Counter(y)"
   ]
  },
  {
   "cell_type": "code",
   "execution_count": 35,
   "metadata": {},
   "outputs": [],
   "source": [
    "import redis\n",
    "r = redis.Redis(host='localhost', port=6379, db=0) "
   ]
  },
  {
   "cell_type": "markdown",
   "metadata": {},
   "source": [
    "## Loading the job objects"
   ]
  },
  {
   "cell_type": "code",
   "execution_count": 37,
   "metadata": {},
   "outputs": [
    {
     "name": "stdout",
     "output_type": "stream",
     "text": [
      "The runtime for load_pickle_data_batch was 3.41266131401062 seconds.\n"
     ]
    }
   ],
   "source": [
    "import utils\n",
    "jobs, blobs = utils.load_pickle_data_batch(size=100000)"
   ]
  },
  {
   "cell_type": "markdown",
   "metadata": {},
   "source": [
    "# Terms of comparison:\n",
    "    - Redis: A cache with 100 job objects\n",
    "    - Mongo: Database instance with 100000 job objects\n",
    "    - Postgres: Database instance with 100000 job objects        "
   ]
  },
  {
   "cell_type": "code",
   "execution_count": 38,
   "metadata": {},
   "outputs": [],
   "source": [
    "# Redis\n",
    "import json\n",
    "import random\n",
    "times_to_test = 10\n",
    "rand_idx = [random.randint(0, 100) for _ in range(times_to_test)]\n",
    "for idx in rand_idx:\n",
    "    r.set(jobs[idx]['jid'], json.dumps(jobs[idx]))\n",
    "    \n",
    "    r.set(f\"blob-{blobs[idx]['jid']}\", json.dumps([blobs[idx]['jid']]+[i.decode(\"utf-8\") for i in blobs[idx].values() if type(i) != int]))        "
   ]
  },
  {
   "cell_type": "code",
   "execution_count": 6,
   "metadata": {},
   "outputs": [],
   "source": [
    "# for idx in rand_idx:\n",
    "#     # Below casuses TypeError: Object of type bytes is not JSON serializable\n",
    "# #     r.set(f\"blob-{jobs[idx]['jid']}\", json.dumps(blobs[idx]))\n",
    "    \n"
   ]
  },
  {
   "cell_type": "code",
   "execution_count": 39,
   "metadata": {},
   "outputs": [
    {
     "name": "stdout",
     "output_type": "stream",
     "text": [
      "CPU times: user 3.5 ms, sys: 519 µs, total: 4.02 ms\n",
      "Wall time: 4.92 ms\n"
     ]
    }
   ],
   "source": [
    "%%time\n",
    "for idx in rand_idx:\n",
    "    assert jobs[idx] == json.loads(r.get(idx))"
   ]
  },
  {
   "cell_type": "code",
   "execution_count": 40,
   "metadata": {},
   "outputs": [
    {
     "name": "stdout",
     "output_type": "stream",
     "text": [
      "CPU times: user 14.1 ms, sys: 3.67 ms, total: 17.8 ms\n",
      "Wall time: 19.4 ms\n"
     ]
    }
   ],
   "source": [
    "%%time\n",
    "for idx in rand_idx:\n",
    "    assert [blobs[idx]['jid']]+[i.decode(\"utf-8\") for i in blobs[idx].values() if type(i) != int] == json.loads(r.get(f\"blob-{idx}\"))"
   ]
  },
  {
   "cell_type": "code",
   "execution_count": null,
   "metadata": {},
   "outputs": [],
   "source": []
  },
  {
   "cell_type": "code",
   "execution_count": 9,
   "metadata": {},
   "outputs": [],
   "source": [
    "# Mongo"
   ]
  },
  {
   "cell_type": "code",
   "execution_count": 10,
   "metadata": {},
   "outputs": [],
   "source": [
    "#  Starting the mongo docker instance in the background"
   ]
  },
  {
   "cell_type": "code",
   "execution_count": 60,
   "metadata": {},
   "outputs": [
    {
     "name": "stdout",
     "output_type": "stream",
     "text": [
      "The runtime for connect_mongo was 0.00901341438293457 seconds.\n"
     ]
    }
   ],
   "source": [
    "size = 100000\n",
    "batch_size = 100\n",
    "\n",
    "db = connect_mongo()"
   ]
  },
  {
   "cell_type": "code",
   "execution_count": 56,
   "metadata": {},
   "outputs": [
    {
     "name": "stderr",
     "output_type": "stream",
     "text": [
      "100%|██████████| 1000/1000.0 [00:03<00:00, 320.57it/s]"
     ]
    },
    {
     "name": "stdout",
     "output_type": "stream",
     "text": [
      "The runtime for add_jobs_mongo was 3.1218960285186768 seconds.\n"
     ]
    },
    {
     "name": "stderr",
     "output_type": "stream",
     "text": [
      "\n"
     ]
    }
   ],
   "source": [
    "add_jobs_mongo(\n",
    "    db, jobs=jobs, batch_size=batch_size\n",
    ")"
   ]
  },
  {
   "cell_type": "code",
   "execution_count": 57,
   "metadata": {},
   "outputs": [
    {
     "name": "stderr",
     "output_type": "stream",
     "text": [
      "100%|██████████| 1000/1000.0 [01:22<00:00, 12.08it/s]\n"
     ]
    },
    {
     "name": "stdout",
     "output_type": "stream",
     "text": [
      "The runtime for add_blobs_mongo was 82.80983376502991 seconds.\n"
     ]
    }
   ],
   "source": [
    "add_blobs_mongo(\n",
    "    db, blobs=blobs, batch_size=batch_size\n",
    ")"
   ]
  },
  {
   "cell_type": "code",
   "execution_count": 14,
   "metadata": {},
   "outputs": [],
   "source": [
    "# Postgres"
   ]
  },
  {
   "cell_type": "code",
   "execution_count": 62,
   "metadata": {},
   "outputs": [
    {
     "name": "stdout",
     "output_type": "stream",
     "text": [
      "The runtime for connect_postgres was 0.02215433120727539 seconds.\n",
      "The runtime for create_tables_postgres was 0.042023420333862305 seconds.\n",
      "The runtime for load_pickle_data_batch was 3.583921194076538 seconds.\n"
     ]
    }
   ],
   "source": [
    "con, meta = connect_postgres('postgres', 'ganga', 'jobs')\n",
    "JOBS, BLOBS = create_tables_postgres(con ,meta)\n",
    "\n",
    "jobs, blobs = utils.load_pickle_data_batch(size=size)"
   ]
  },
  {
   "cell_type": "code",
   "execution_count": 63,
   "metadata": {},
   "outputs": [
    {
     "name": "stderr",
     "output_type": "stream",
     "text": [
      "99900-100000: 100%|██████████| 1000/1000 [00:25<00:00, 38.83it/s]"
     ]
    },
    {
     "name": "stdout",
     "output_type": "stream",
     "text": [
      "The runtime for add_jobs_postgres was 25.760742902755737 seconds.\n"
     ]
    },
    {
     "name": "stderr",
     "output_type": "stream",
     "text": [
      "\n"
     ]
    }
   ],
   "source": [
    "add_jobs_postgres(\n",
    "    con, JOBS=JOBS, jobs=jobs, batch_size=batch_size\n",
    ")\n"
   ]
  },
  {
   "cell_type": "code",
   "execution_count": 64,
   "metadata": {},
   "outputs": [
    {
     "name": "stderr",
     "output_type": "stream",
     "text": [
      "99900-100000: 100%|██████████| 1000/1000 [03:19<00:00,  5.02it/s]"
     ]
    },
    {
     "name": "stdout",
     "output_type": "stream",
     "text": [
      "The runtime for add_blobs_postgres was 199.09867978096008 seconds.\n"
     ]
    },
    {
     "name": "stderr",
     "output_type": "stream",
     "text": [
      "\n"
     ]
    }
   ],
   "source": [
    "add_blobs_postgres(\n",
    "    con, BLOBS=BLOBS, blobs=blobs, batch_size=batch_size\n",
    ")\n"
   ]
  },
  {
   "cell_type": "code",
   "execution_count": 65,
   "metadata": {},
   "outputs": [],
   "source": [
    "job_headers = ['jid', 'status', 'name', 'subjobs', 'application', 'backend', 'backend_actualCE', 'comment']\n",
    "blob_headers = list(blobs[0].keys())"
   ]
  },
  {
   "cell_type": "markdown",
   "metadata": {},
   "source": [
    "# Test on Mongo"
   ]
  },
  {
   "cell_type": "code",
   "execution_count": 108,
   "metadata": {},
   "outputs": [
    {
     "name": "stdout",
     "output_type": "stream",
     "text": [
      "CPU times: user 9.48 ms, sys: 0 ns, total: 9.48 ms\n",
      "Wall time: 563 ms\n"
     ]
    }
   ],
   "source": [
    "%%time\n",
    "for idx in rand_idx:\n",
    "    job = [*db.jobs.find({\"jid\": idx}, {'_id': False})][0]\n",
    "#     job = [*db.jobs.find({\"jid\": idx})][0]\n",
    "    assert compare(jobs[idx], job)"
   ]
  },
  {
   "cell_type": "code",
   "execution_count": 107,
   "metadata": {},
   "outputs": [
    {
     "name": "stdout",
     "output_type": "stream",
     "text": [
      "CPU times: user 18 ms, sys: 8.36 ms, total: 26.3 ms\n",
      "Wall time: 32.4 s\n"
     ]
    }
   ],
   "source": [
    "%%time\n",
    "for idx in rand_idx:\n",
    "    blob = [*db.blobs.find({\"jid\": idx}, {'_id': False})][0]\n",
    "#     blob = [*db.blobs.find({\"jid\": idx})][0]\n",
    "    assert compare(blobs[idx], blob)"
   ]
  },
  {
   "cell_type": "markdown",
   "metadata": {},
   "source": [
    "# Test on Postgres"
   ]
  },
  {
   "cell_type": "code",
   "execution_count": 110,
   "metadata": {},
   "outputs": [
    {
     "name": "stdout",
     "output_type": "stream",
     "text": [
      "CPU times: user 4.78 ms, sys: 0 ns, total: 4.78 ms\n",
      "Wall time: 21.1 ms\n"
     ]
    }
   ],
   "source": [
    "%%time\n",
    "for idx in rand_idx:\n",
    "    job = [*con.execute(f\"\"\"SELECT * from jobs where jid={idx}\"\"\")][0]\n",
    "    assert compare(jobs[idx], dict(zip(job_headers, job)))\n"
   ]
  },
  {
   "cell_type": "code",
   "execution_count": 109,
   "metadata": {},
   "outputs": [
    {
     "name": "stdout",
     "output_type": "stream",
     "text": [
      "CPU times: user 12.7 ms, sys: 0 ns, total: 12.7 ms\n",
      "Wall time: 2.28 s\n"
     ]
    }
   ],
   "source": [
    "%%time\n",
    "for idx in rand_idx:\n",
    "    blob = []\n",
    "    result = [*con.execute(f\"\"\"SELECT * from blobs where jid={idx}\"\"\")][0]\n",
    "    for item in result:\n",
    "        if type(item) == memoryview:\n",
    "#             blob.append(bytes(item).decode(\"utf-8\"))\n",
    "            blob.append(bytes(item))\n",
    "        else:\n",
    "            blob.append(item)\n",
    "    assert compare(blobs[idx], dict(zip(blob_headers, blob)))"
   ]
  }
 ],
 "metadata": {
  "kernelspec": {
   "display_name": "Python 3.7.4 64-bit ('base': conda)",
   "language": "python",
   "name": "python37464bitbasecondabb28edfd9aff4a338f42adf28226b1f6"
  },
  "language_info": {
   "codemirror_mode": {
    "name": "ipython",
    "version": 3
   },
   "file_extension": ".py",
   "mimetype": "text/x-python",
   "name": "python",
   "nbconvert_exporter": "python",
   "pygments_lexer": "ipython3",
   "version": "3.7.4"
  }
 },
 "nbformat": 4,
 "nbformat_minor": 4
}
