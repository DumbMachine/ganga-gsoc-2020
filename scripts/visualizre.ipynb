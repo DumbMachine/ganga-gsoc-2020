{
 "cells": [
  {
   "cell_type": "code",
   "execution_count": 148,
   "metadata": {},
   "outputs": [],
   "source": [
    "\"\"\"\n",
    "Run these before:\n",
    "\n",
    "\"\"\"\n",
    "import json\n",
    "import numpy as np\n",
    "import pandas as pd\n",
    "import matplotlib.pyplot as plt\n",
    "import matplotlib\n",
    "\n",
    "from glob import glob\n",
    "\n",
    "SAVE_LOCATION = \"images\"\n",
    "BECHMARKS_LOCATION  = \"./bechmarks\"\n",
    "\n",
    "DBS = [\n",
    "    \"mongo\",\n",
    "    \"postgres\",\n",
    "    \"cassandra\"\n",
    "]\n",
    "\n",
    "# Run the scripts\n",
    "sizes = [10, 100, 1000, 10000, 10000, 100000]\n",
    "batch_sizes = [1, 10, 100, 1000, 450, 300]\n",
    "files = {}\n",
    "for size in sizes:\n",
    "    for batch in batch_sizes:\n",
    "        something = glob(f\"benchmarks/*operations-size-{size}-batch_size-{batch}.json\")\n",
    "        if something:\n",
    "            files[f\"{size}-{batch}\"] = something"
   ]
  },
  {
   "cell_type": "code",
   "execution_count": 153,
   "metadata": {},
   "outputs": [],
   "source": [
    "def plot_by_points(things):\n",
    "    dbs = [\n",
    "        \"mongo\",\n",
    "        \"postgres\",\n",
    "        \"cassandra\"\n",
    "    ]\n",
    "    values_to_plot = {\n",
    "        'connec': \"red\",\n",
    "        'create': \"blue\",\n",
    "        'add_jobs': \"yellow\",\n",
    "        'add_blobs': \"black\",\n",
    "        'query_jobs_all': \"pink\",\n",
    "        'query_blobs_all': \"orange\"\n",
    "    }\n",
    "    colors = {\n",
    "        \"mongo\": \"green\",\n",
    "        \"postgres\": \"blue\",\n",
    "        \"cassandra\": \"red\"\n",
    "    }\n",
    "    save_name = things[0].split(\"/\")[-1].split(\"-\")\n",
    "    data = {}\n",
    "    for file in things:\n",
    "        values = json.load(open(file, 'r'))\n",
    "        for i, key in enumerate(values_to_plot):\n",
    "            for item in values.keys():\n",
    "                if key in item:\n",
    "#                     plt.scatter(i+1, values[item], label=f\"{key}-{file.split('/')[-1].split('-')[0]}-{i}\", color=colors[file.split(\"/\")[-1].split(\"-\")[0]])\n",
    "                    plt.scatter(i+1, values[item], label=f\"{file.split('/')[-1].split('-')[0]}\", color=colors[file.split(\"/\")[-1].split(\"-\")[0]])\n",
    "                elif key == \"create_tables\" :\n",
    "#                     plt.scatter(i+1, 0, label=f\"{key}-{file.split('/')[-1].split('-')[0]}-{i}\", color=colors[file.split(\"/\")[-1]].split(\"-\")[0])\n",
    "                    plt.scatter(i+1, 0, label=f\"{file.split('/')[-1].split('-')[0]}\", color=colors[file.split(\"/\")[-1]].split(\"-\")[0])\n",
    "\n",
    "    plt.legend(loc=\"upper left\")\n",
    "    plt.title(f\"DB Comparison for {save_name[-3]+'-'+save_name[-1][:-5]} \")\n",
    "    plt.xlabel(\"test\")\n",
    "    plt.xticks(range(1, len([\"connect\", \"create_tables\", \"addjobs\", \"addblobs\"])+1), [\"connect\", \"create_tables\", \"addjobs\", \"addblobs\"])\n",
    "    plt.ylabel(\"time in seconds\")\n",
    "    fig = matplotlib.pyplot.gcf()\n",
    "    fig.set_size_inches(18.5, 10.5)\n",
    "    print(f'images/{save_name[-3]+\"-\"+save_name[-1][:-5]}')\n",
    "    fig.savefig(f'images/{save_name[-3]+\"-\"+save_name[-1][:-5]}', dpi=100)\n",
    "    plt.clf()"
   ]
  },
  {
   "cell_type": "code",
   "execution_count": 154,
   "metadata": {},
   "outputs": [
    {
     "name": "stdout",
     "output_type": "stream",
     "text": [
      "images/1000-1\n",
      "images/1000-10\n",
      "images/1000-100\n",
      "images/1000-1000\n",
      "images/1000-450\n",
      "images/10000-1\n",
      "images/10000-10\n",
      "images/10000-100\n",
      "images/10000-1000\n",
      "images/10000-450\n",
      "images/100000-1\n",
      "images/100000-100\n",
      "images/100000-1000\n",
      "images/100000-450\n",
      "images/100000-300\n"
     ]
    },
    {
     "data": {
      "text/plain": [
       "<Figure size 1332x756 with 0 Axes>"
      ]
     },
     "metadata": {},
     "output_type": "display_data"
    }
   ],
   "source": [
    "for key in files.keys():\n",
    "    plot_by_points(files[key])"
   ]
  },
  {
   "cell_type": "markdown",
   "metadata": {},
   "source": [
    "# Plotting the Memory Usage"
   ]
  },
  {
   "cell_type": "code",
   "execution_count": 182,
   "metadata": {},
   "outputs": [],
   "source": [
    "def convert_to_float(item):\n",
    "    return float(item) if \"-\" not in item else None\n",
    "\n",
    "\n",
    "def plot_mem_usage_percent(size=10000, batch_size=1):\n",
    "    filename = f\"./benchmarks/*-performance-size-{size}-batch_size-{batch_size}.json\"\n",
    "    files = glob(filename)\n",
    "    plot_points = {}\n",
    "    for file in files:\n",
    "        data = json.load(open(file, 'r'))['stats']\n",
    "        mem_usage_percent = [convert_to_float(i['MEM %'][:-1]) for i in data]\n",
    "        plot_points[file.split(\"/\")[-1].split(\"-\")[0]] = mem_usage_percent\n",
    "\n",
    "    if plot_points:\n",
    "\n",
    "        for key in plot_points.keys():\n",
    "            plt.plot(plot_points[key], label=key)\n",
    "\n",
    "        plt.title(\"mem_usage_percent\")\n",
    "        plt.legend(loc=\"upper left\")\n",
    "        plt.savefig(f\"images/mem_usage_percent-{size}-{batch_size}.png\", dpi=100)\n",
    "        plt.clf()"
   ]
  },
  {
   "cell_type": "code",
   "execution_count": 183,
   "metadata": {},
   "outputs": [
    {
     "data": {
      "text/plain": [
       "<Figure size 432x288 with 0 Axes>"
      ]
     },
     "metadata": {},
     "output_type": "display_data"
    }
   ],
   "source": [
    "sizes = [10, 100, 1000, 10000, 10000, 100000]\n",
    "batch_sizes = [1, 10, 100, 1000, 450, 300]\n",
    "files = {}\n",
    "for size in sizes:\n",
    "    for batch in batch_sizes:\n",
    "        plot_mem_usage_percent(size, batch)"
   ]
  },
  {
   "cell_type": "markdown",
   "metadata": {},
   "source": [
    "# Plotting the CPU usage"
   ]
  },
  {
   "cell_type": "code",
   "execution_count": 187,
   "metadata": {},
   "outputs": [],
   "source": [
    "def convert_to_float(item):\n",
    "    return float(item) if \"-\" not in item else None\n",
    "\n",
    "\n",
    "def plot_cpu_usage_percent(size=10000, batch_size=1):\n",
    "    filename = f\"./benchmarks/*-performance-size-{size}-batch_size-{batch_size}.json\"\n",
    "    files = glob(filename)\n",
    "    plot_points = {}\n",
    "    for file in files:\n",
    "        data = json.load(open(file, 'r'))['stats']\n",
    "        mem_usage_percent = [convert_to_float(i['CPU %'][:-1]) for i in data]\n",
    "        plot_points[file.split(\"/\")[-1].split(\"-\")[0]] = mem_usage_percent\n",
    "\n",
    "    if plot_points:\n",
    "\n",
    "        for key in plot_points.keys():\n",
    "            plt.plot(plot_points[key], label=key)\n",
    "\n",
    "        plt.title(\"mem_usage_percent\")\n",
    "        plt.legend(loc=\"upper left\")\n",
    "        plt.savefig(f\"images/cpu_usage_percent-{size}-{batch_size}.png\", dpi=100)\n",
    "        plt.clf()"
   ]
  },
  {
   "cell_type": "code",
   "execution_count": 189,
   "metadata": {},
   "outputs": [
    {
     "data": {
      "text/plain": [
       "<Figure size 432x288 with 0 Axes>"
      ]
     },
     "metadata": {},
     "output_type": "display_data"
    }
   ],
   "source": [
    "sizes = [10, 100, 1000, 10000, 10000, 100000]\n",
    "batch_sizes = [1, 10, 100, 1000, 450, 300]\n",
    "files = {}\n",
    "for size in sizes:\n",
    "    for batch in batch_sizes:\n",
    "        plot_cpu_usage_percent(size, batch)"
   ]
  },
  {
   "cell_type": "markdown",
   "metadata": {},
   "source": [
    "# Ploting the Mem Usage"
   ]
  },
  {
   "cell_type": "code",
   "execution_count": 218,
   "metadata": {},
   "outputs": [],
   "source": [
    "def convert_to_float(item):\n",
    "    return float(item) if \"-\" not in item else None\n",
    "\n",
    "\n",
    "def mem_cpu_usage(size=10000, batch_size=1):\n",
    "\n",
    "    filename = f\"./benchmarks/*-performance-size-{size}-batch_size-{batch_size}.json\"\n",
    "    files = glob(filename)\n",
    "    plot_points = {}\n",
    "    for file in files:\n",
    "        data = json.load(open(file, 'r'))['stats']\n",
    "        mem_usage_total=[]\n",
    "        for mem in [i['MEM USAGE/LIMIT'].split(\"/\")[0] for i in data]:\n",
    "            mem = mem.strip()\n",
    "            if mem==\"--\":\n",
    "                mem=None\n",
    "            elif mem == '':\n",
    "                mem = 0\n",
    "            else:\n",
    "                if \"kiB\" in mem:\n",
    "                    mem = float(mem.replace(\"kiB\", \"\")) # for kbs\n",
    "                elif \"MiB\" in mem:\n",
    "                    mem = float(mem.replace(\"MiB\", \"\"))*1024 # for kbs\n",
    "                elif \"GiB\" in mem:\n",
    "                    mem = float(mem.replace(\"GiB\", \"\"))*1024*1024 # for kbs\n",
    "            mem_usage_total.append(mem)\n",
    "        plot_points[file.split(\"/\")[-1].split(\"-\")[0]] = mem_usage_total\n",
    "\n",
    "    if plot_points:\n",
    "        print(1)\n",
    "        for key in plot_points.keys():\n",
    "            plt.plot(plot_points[key], label=key)\n",
    "\n",
    "        plt.title(\"mem_usage_percent\")\n",
    "        plt.legend(loc=\"upper left\")\n",
    "        plt.savefig(f\"images/MEM_USAGE-{size}-{batch_size}.png\", dpi=100)\n",
    "        plt.clf()"
   ]
  },
  {
   "cell_type": "code",
   "execution_count": 219,
   "metadata": {
    "collapsed": true,
    "jupyter": {
     "outputs_hidden": true
    }
   },
   "outputs": [
    {
     "name": "stdout",
     "output_type": "stream",
     "text": [
      "1\n",
      "1\n",
      "1\n",
      "1\n",
      "1\n",
      "1\n",
      "1\n",
      "1\n",
      "1\n",
      "1\n",
      "1\n",
      "1\n",
      "1\n",
      "1\n",
      "1\n",
      "1\n",
      "1\n",
      "1\n",
      "1\n",
      "1\n"
     ]
    },
    {
     "data": {
      "text/plain": [
       "<Figure size 432x288 with 0 Axes>"
      ]
     },
     "metadata": {},
     "output_type": "display_data"
    }
   ],
   "source": [
    "sizes = [10, 100, 1000, 10000, 10000, 100000]\n",
    "batch_sizes = [1, 10, 100, 1000, 450, 300]\n",
    "files = {}\n",
    "for size in sizes:\n",
    "    for batch in batch_sizes:\n",
    "        mem_cpu_usage(size, batch)"
   ]
  },
  {
   "cell_type": "markdown",
   "metadata": {},
   "source": [
    "# Plotting the NET io"
   ]
  },
  {
   "cell_type": "code",
   "execution_count": 264,
   "metadata": {},
   "outputs": [],
   "source": [
    "def convert_to_float(item):\n",
    "    return float(item) if \"-\" not in item else None\n",
    "\n",
    "\n",
    "def net_io_usage(size=10000, batch_size=1):\n",
    "\n",
    "    filename = f\"./benchmarks/*-performance-size-{size}-batch_size-{batch_size}.json\"\n",
    "    files = glob(filename)\n",
    "    plot_points = {}\n",
    "    for file in files:\n",
    "        data = json.load(open(file, 'r'))['stats']\n",
    "        net_io = []\n",
    "        for (i, j) in [i['NET I/O'].replace(\"0B\", \"0\").split(\"/\") for i in data if \"--\" not in i['NET I/O']]:\n",
    "            if i == '':\n",
    "                i = 0\n",
    "            else:\n",
    "                if \"kB\" in i:\n",
    "                    i = float(i.replace(\"kB\", \"\")) # for kbs\n",
    "                elif \"MB\" in i:\n",
    "                    i = float(i.replace(\"MB\", \"\"))*1024 # for kbs\n",
    "                elif \"GB\" in i:\n",
    "                    i = float(i.replace(\"GB\", \"\"))*1024*1024 # for kbs\n",
    "\n",
    "            if j == '':\n",
    "                j = 0\n",
    "            else:\n",
    "                if \"kB\" in j:\n",
    "                    j = float(j.replace(\"kB\", \"\")) # for kbs\n",
    "                elif \"MB\" in j:\n",
    "                    j = float(j.replace(\"MB\", \"\"))*1024 # for kbs\n",
    "                elif \"GB\" in j:\n",
    "                    j = float(j.replace(\"GB\", \"\"))*1024*1024 # for kbs\n",
    "#             net_io.append([i, j])\n",
    "            net_io.append(i)\n",
    "\n",
    "        plot_points[file.split(\"/\")[-1].split(\"-\")[0]] = net_io\n",
    "\n",
    "    if plot_points:\n",
    "        print(1)\n",
    "        for key in plot_points.keys():\n",
    "            plt.plot(plot_points[key], label=key)\n",
    "\n",
    "        plt.title(\"mem_usage_percent\")\n",
    "        plt.legend(loc=\"upper left\")\n",
    "        plt.savefig(f\"images/NETIO-{size}-{batch_size}.png\", dpi=100)\n",
    "        plt.clf()"
   ]
  },
  {
   "cell_type": "code",
   "execution_count": 265,
   "metadata": {
    "collapsed": true,
    "jupyter": {
     "outputs_hidden": true
    }
   },
   "outputs": [
    {
     "name": "stdout",
     "output_type": "stream",
     "text": [
      "1\n",
      "1\n",
      "1\n",
      "1\n",
      "1\n",
      "1\n",
      "1\n",
      "1\n",
      "1\n",
      "1\n",
      "1\n",
      "1\n",
      "1\n",
      "1\n",
      "1\n",
      "1\n",
      "1\n",
      "1\n",
      "1\n",
      "1\n"
     ]
    },
    {
     "data": {
      "text/plain": [
       "<Figure size 432x288 with 0 Axes>"
      ]
     },
     "metadata": {},
     "output_type": "display_data"
    }
   ],
   "source": [
    "sizes = [10, 100, 1000, 10000, 10000, 100000]\n",
    "batch_sizes = [1, 10, 100, 1000, 450, 300]\n",
    "files = {}\n",
    "for size in sizes:\n",
    "    for batch in batch_sizes:\n",
    "        net_io_usage(size, batch)"
   ]
  },
  {
   "cell_type": "markdown",
   "metadata": {},
   "source": [
    "# Plotting BLOCK io"
   ]
  },
  {
   "cell_type": "code",
   "execution_count": 267,
   "metadata": {},
   "outputs": [],
   "source": [
    "def convert_to_float(item):\n",
    "    return float(item) if \"-\" not in item else None\n",
    "\n",
    "\n",
    "def block_io_usage(size=10000, batch_size=1):\n",
    "\n",
    "    filename = f\"./benchmarks/*-performance-size-{size}-batch_size-{batch_size}.json\"\n",
    "    files = glob(filename)\n",
    "    plot_points = {}\n",
    "    for file in files:\n",
    "        data = json.load(open(file, 'r'))['stats']\n",
    "        net_io = []\n",
    "        for (i, j) in [i['BLOCK I/O'].replace(\"0B\", \"0\").split(\"/\") for i in data if \"--\" not in i['NET I/O']]:\n",
    "            if i == '':\n",
    "                i = 0\n",
    "            else:\n",
    "                if \"kB\" in i:\n",
    "                    i = float(i.replace(\"kB\", \"\")) # for kbs\n",
    "                elif \"MB\" in i:\n",
    "                    i = float(i.replace(\"MB\", \"\"))*1024 # for kbs\n",
    "                elif \"GB\" in i:\n",
    "                    i = float(i.replace(\"GB\", \"\"))*1024*1024 # for kbs\n",
    "\n",
    "            if j == '':\n",
    "                j = 0\n",
    "            else:\n",
    "                if \"kB\" in j:\n",
    "                    j = float(j.replace(\"kB\", \"\")) # for kbs\n",
    "                elif \"MB\" in j:\n",
    "                    j = float(j.replace(\"MB\", \"\"))*1024 # for kbs\n",
    "                elif \"GB\" in j:\n",
    "                    j = float(j.replace(\"GB\", \"\"))*1024*1024 # for kbs\n",
    "#             net_io.append([i, j])\n",
    "            net_io.append(i)\n",
    "\n",
    "        plot_points[file.split(\"/\")[-1].split(\"-\")[0]] = net_io\n",
    "\n",
    "    if plot_points:\n",
    "        print(1)\n",
    "        for key in plot_points.keys():\n",
    "            plt.plot(plot_points[key], label=key)\n",
    "\n",
    "        plt.title(\"mem_usage_percent\")\n",
    "        plt.legend(loc=\"upper left\")\n",
    "        plt.savefig(f\"images/BLOCK-{size}-{batch_size}.png\", dpi=100)\n",
    "        plt.clf()"
   ]
  },
  {
   "cell_type": "code",
   "execution_count": 268,
   "metadata": {},
   "outputs": [
    {
     "name": "stdout",
     "output_type": "stream",
     "text": [
      "1\n",
      "1\n",
      "1\n",
      "1\n",
      "1\n",
      "1\n",
      "1\n",
      "1\n",
      "1\n",
      "1\n",
      "1\n",
      "1\n",
      "1\n",
      "1\n",
      "1\n",
      "1\n",
      "1\n",
      "1\n",
      "1\n",
      "1\n"
     ]
    },
    {
     "data": {
      "text/plain": [
       "<Figure size 432x288 with 0 Axes>"
      ]
     },
     "metadata": {},
     "output_type": "display_data"
    }
   ],
   "source": [
    "sizes = [10, 100, 1000, 10000, 10000, 100000]\n",
    "batch_sizes = [1, 10, 100, 1000, 450, 300]\n",
    "files = {}\n",
    "for size in sizes:\n",
    "    for batch in batch_sizes:\n",
    "        block_io_usage(size, batch)"
   ]
  }
 ],
 "metadata": {
  "kernelspec": {
   "display_name": "Python 3",
   "language": "python",
   "name": "python3"
  },
  "language_info": {
   "codemirror_mode": {
    "name": "ipython",
    "version": 3
   },
   "file_extension": ".py",
   "mimetype": "text/x-python",
   "name": "python",
   "nbconvert_exporter": "python",
   "pygments_lexer": "ipython3",
   "version": "3.7.4"
  }
 },
 "nbformat": 4,
 "nbformat_minor": 4
}
